{
 "cells": [
  {
   "cell_type": "markdown",
   "id": "ac77bfe6-9b0c-4b61-a262-f8cb1229c55c",
   "metadata": {},
   "source": [
    "# Exploratory Data Analysis "
   ]
  },
  {
   "cell_type": "code",
   "execution_count": 2,
   "id": "e360c924-5473-4b0a-a9f9-9cdbf5209682",
   "metadata": {},
   "outputs": [],
   "source": [
    "data<- read.csv(\"./02-vehicles-clean.csv\", header = TRUE)"
   ]
  },
  {
   "cell_type": "markdown",
   "id": "97ad963c-293d-4bbd-9a6e-a6176429d33c",
   "metadata": {},
   "source": [
    "The aim of this document is to explore data prior to vetting to suggest the next steps - wrangling, transformations, predictive methods;"
   ]
  },
  {
   "cell_type": "code",
   "execution_count": 3,
   "id": "3b5df20c-51b4-495f-b5c0-12e2b52ecf67",
   "metadata": {},
   "outputs": [
    {
     "name": "stderr",
     "output_type": "stream",
     "text": [
      "\n",
      "Attaching package: 'dplyr'\n",
      "\n",
      "\n",
      "The following objects are masked from 'package:stats':\n",
      "\n",
      "    filter, lag\n",
      "\n",
      "\n",
      "The following objects are masked from 'package:base':\n",
      "\n",
      "    intersect, setdiff, setequal, union\n",
      "\n",
      "\n",
      "-- \u001b[1mAttaching packages\u001b[22m ------------------------------------------------------------------------------- tidyverse 1.3.2 --\n",
      "\u001b[32mv\u001b[39m \u001b[34mggplot2\u001b[39m 3.3.6     \u001b[32mv\u001b[39m \u001b[34mpurrr  \u001b[39m 0.3.5\n",
      "\u001b[32mv\u001b[39m \u001b[34mtibble \u001b[39m 3.1.8     \u001b[32mv\u001b[39m \u001b[34mstringr\u001b[39m 1.4.1\n",
      "\u001b[32mv\u001b[39m \u001b[34mtidyr  \u001b[39m 1.2.1     \u001b[32mv\u001b[39m \u001b[34mforcats\u001b[39m 0.5.2\n",
      "\u001b[32mv\u001b[39m \u001b[34mreadr  \u001b[39m 2.1.3     \n",
      "-- \u001b[1mConflicts\u001b[22m ---------------------------------------------------------------------------------- tidyverse_conflicts() --\n",
      "\u001b[31mx\u001b[39m \u001b[34mdplyr\u001b[39m::\u001b[32mfilter()\u001b[39m masks \u001b[34mstats\u001b[39m::filter()\n",
      "\u001b[31mx\u001b[39m \u001b[34mdplyr\u001b[39m::\u001b[32mlag()\u001b[39m    masks \u001b[34mstats\u001b[39m::lag()\n"
     ]
    }
   ],
   "source": [
    "warnings = FALSE\n",
    "message  = FALSE\n",
    "# loading essential libraries\n",
    "library(\"dplyr\")\n",
    "library(\"tidyverse\")"
   ]
  },
  {
   "cell_type": "code",
   "execution_count": 4,
   "id": "3aea2694-9544-4121-ae86-00de50061d03",
   "metadata": {},
   "outputs": [
    {
     "data": {
      "text/html": [
       "<style>\n",
       ".list-inline {list-style: none; margin:0; padding: 0}\n",
       ".list-inline>li {display: inline-block}\n",
       ".list-inline>li:not(:last-child)::after {content: \"\\00b7\"; padding: 0 .5ex}\n",
       "</style>\n",
       "<ol class=list-inline><li>253267</li><li>14</li></ol>\n"
      ],
      "text/latex": [
       "\\begin{enumerate*}\n",
       "\\item 253267\n",
       "\\item 14\n",
       "\\end{enumerate*}\n"
      ],
      "text/markdown": [
       "1. 253267\n",
       "2. 14\n",
       "\n",
       "\n"
      ],
      "text/plain": [
       "[1] 253267     14"
      ]
     },
     "metadata": {},
     "output_type": "display_data"
    }
   ],
   "source": [
    "# check the dimensions of the data frame\n",
    "dim(data)"
   ]
  },
  {
   "cell_type": "code",
   "execution_count": 5,
   "id": "f69a7c7f-e25b-4003-9edd-f3a79ae02682",
   "metadata": {},
   "outputs": [
    {
     "data": {
      "text/html": [
       "<style>\n",
       ".list-inline {list-style: none; margin:0; padding: 0}\n",
       ".list-inline>li {display: inline-block}\n",
       ".list-inline>li:not(:last-child)::after {content: \"\\00b7\"; padding: 0 .5ex}\n",
       "</style>\n",
       "<ol class=list-inline><li>'price'</li><li>'year'</li><li>'manufacturer'</li><li>'model'</li><li>'condition'</li><li>'cylinders'</li><li>'fuel'</li><li>'odometer'</li><li>'title_status'</li><li>'transmission'</li><li>'drive'</li><li>'type'</li><li>'paint_color'</li><li>'state'</li></ol>\n"
      ],
      "text/latex": [
       "\\begin{enumerate*}\n",
       "\\item 'price'\n",
       "\\item 'year'\n",
       "\\item 'manufacturer'\n",
       "\\item 'model'\n",
       "\\item 'condition'\n",
       "\\item 'cylinders'\n",
       "\\item 'fuel'\n",
       "\\item 'odometer'\n",
       "\\item 'title\\_status'\n",
       "\\item 'transmission'\n",
       "\\item 'drive'\n",
       "\\item 'type'\n",
       "\\item 'paint\\_color'\n",
       "\\item 'state'\n",
       "\\end{enumerate*}\n"
      ],
      "text/markdown": [
       "1. 'price'\n",
       "2. 'year'\n",
       "3. 'manufacturer'\n",
       "4. 'model'\n",
       "5. 'condition'\n",
       "6. 'cylinders'\n",
       "7. 'fuel'\n",
       "8. 'odometer'\n",
       "9. 'title_status'\n",
       "10. 'transmission'\n",
       "11. 'drive'\n",
       "12. 'type'\n",
       "13. 'paint_color'\n",
       "14. 'state'\n",
       "\n",
       "\n"
      ],
      "text/plain": [
       " [1] \"price\"        \"year\"         \"manufacturer\" \"model\"        \"condition\"   \n",
       " [6] \"cylinders\"    \"fuel\"         \"odometer\"     \"title_status\" \"transmission\"\n",
       "[11] \"drive\"        \"type\"         \"paint_color\"  \"state\"       "
      ]
     },
     "metadata": {},
     "output_type": "display_data"
    }
   ],
   "source": [
    "colnames(data)"
   ]
  },
  {
   "cell_type": "code",
   "execution_count": 7,
   "id": "a26a17df-57c8-419b-9457-8b923d9720a8",
   "metadata": {},
   "outputs": [],
   "source": [
    "data<- data%>%\n",
    "mutate_if(sapply(data, is.character), as.factor)"
   ]
  },
  {
   "cell_type": "code",
   "execution_count": 8,
   "id": "1a21f1ad-7ac5-4a03-907a-2dc1c7ed1932",
   "metadata": {},
   "outputs": [
    {
     "data": {
      "text/plain": [
       "     price             year         manufacturer               model       \n",
       " Min.   :  1003   Min.   :1900   ford     : 41805   f-150         :  4314  \n",
       " 1st Qu.:  7000   1st Qu.:2007   chevrolet: 32296                 :  3340  \n",
       " Median : 14800   Median :2013   toyota   : 20769   silverado 1500:  2835  \n",
       " Mean   : 18492   Mean   :2010   honda    : 13409   1500          :  2266  \n",
       " 3rd Qu.: 26000   3rd Qu.:2016   nissan   : 11219   camry         :  1950  \n",
       " Max.   :999999   Max.   :2022   jeep     : 11027   silverado     :  1949  \n",
       "                                 (Other)  :122742   (Other)       :236613  \n",
       "     condition            cylinders           fuel           odometer       \n",
       "          :90409               :98337           :  1039   Min.   :       0  \n",
       " excellent:62656   6 cylinders :57937   diesel  : 17044   1st Qu.:   41759  \n",
       " fair     : 5112   4 cylinders :48616   electric:  1027   Median :   93366  \n",
       " good     :79415   8 cylinders :44961   gas     :214618   Mean   :  103727  \n",
       " like new :14780   5 cylinders : 1260   hybrid  :  3260   3rd Qu.:  141005  \n",
       " new      :  786   10 cylinders:  885   other   : 16279   Max.   :10000000  \n",
       " salvage  :  109   (Other)     : 1271                                       \n",
       " title_status      transmission    drive            type        paint_color   \n",
       " clean:253267            :  1010      :73136          :57523          :67725  \n",
       "                automatic:200343   4wd:76209   sedan  :51928   white  :48034  \n",
       "                manual   : 17685   fwd:65676   SUV    :45812   black  :38500  \n",
       "                other    : 34229   rwd:38246   pickup :23022   silver :26993  \n",
       "                                               truck  :20142   blue   :19779  \n",
       "                                               other  :12009   red    :18994  \n",
       "                                               (Other):42831   (Other):33242  \n",
       "     state       \n",
       " ca     : 25973  \n",
       " fl     : 16306  \n",
       " tx     : 14180  \n",
       " ny     : 11821  \n",
       " oh     :  9802  \n",
       " pa     :  8313  \n",
       " (Other):166872  "
      ]
     },
     "metadata": {},
     "output_type": "display_data"
    }
   ],
   "source": [
    "summary(data)"
   ]
  },
  {
   "cell_type": "markdown",
   "id": "f9d7fa67-0f30-49eb-bdb6-65fc2ba62172",
   "metadata": {},
   "source": [
    "### "
   ]
  }
 ],
 "metadata": {
  "kernelspec": {
   "display_name": "R",
   "language": "R",
   "name": "ir"
  },
  "language_info": {
   "codemirror_mode": "r",
   "file_extension": ".r",
   "mimetype": "text/x-r-source",
   "name": "R",
   "pygments_lexer": "r",
   "version": "4.1.3"
  }
 },
 "nbformat": 4,
 "nbformat_minor": 5
}
