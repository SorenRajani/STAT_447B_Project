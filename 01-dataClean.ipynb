{
 "cells": [
  {
   "cell_type": "code",
   "execution_count": 1,
   "id": "ccbb67c9-1a65-4b61-8686-8190be30352f",
   "metadata": {
    "tags": []
   },
   "outputs": [],
   "source": [
    "#set the wd to file location\n",
    "setwd(getSrcDirectory(function(){})[1])"
   ]
  },
  {
   "cell_type": "markdown",
   "id": "9fe1b230-2165-47eb-80e4-7f28fd93057b",
   "metadata": {
    "tags": []
   },
   "source": [
    "# dataClean Notebook\n",
    "This notebook is to be run 1st. \\\n",
    "The purpose of this file is to define a function which cleans the data by removing columns. It may be expanded to increase the scope. It requires the following files:\n",
    "<ul>\n",
    "    <li> 01-vehicles-download.csv </li>\n",
    "</ul>\n",
    "It will produce the following files\n",
    "<ul>\n",
    "    <li> 02-vehicles-cleaned.csv </li>\n",
    "</ul>\n",
    "    "
   ]
  },
  {
   "cell_type": "code",
   "execution_count": 25,
   "id": "b2c36ce1-17eb-4974-8a7c-6b6e70f562a7",
   "metadata": {
    "tags": []
   },
   "outputs": [],
   "source": [
    "#Import Necessary libraries\n",
    "suppressWarnings({\n",
    "library('tidyverse')\n",
    "library('dplyr')\n",
    "library('forcats')})"
   ]
  },
  {
   "cell_type": "code",
   "execution_count": 5,
   "id": "c78b117b-5570-4b9d-949f-884d74cb1983",
   "metadata": {},
   "outputs": [],
   "source": [
    "#Read Data\n",
    "vehicles = read.csv('./01-vehicles-download.csv',header=TRUE)"
   ]
  },
  {
   "cell_type": "markdown",
   "id": "f62eb116-2521-43b5-b842-0d3ab3d889e5",
   "metadata": {
    "tags": []
   },
   "source": [
    "## cleanData Function\n",
    "The cleanData function takes the following inputs:\n",
    "<ul>\n",
    "    <li> df: the dataframe to be cleaned </li>\n",
    "    <li> vars: a list of vars to drop </li>\n",
    "</ul>\n",
    "The cleanData function creates a new dataframe object which is a copy of the original data frame with the following changes:\n",
    "<ul>\n",
    "    <li> it does not contain the columns in the vars list </li>\n",
    "    <li> prices are within (1000, 200000) </li>\n",
    "    <li> observations with obvious patterned (illegimate) values such as 1234 </li>\n",
    "    <li> NA valued rows are dropped </li>\n",
    "    <li> unreasonably valued odometer values are dropped (above 500,000 miles)</li>\n",
    "    <li> variables of characters are considered factor type variables </li>\n",
    "\n",
    "</ul>"
   ]
  },
  {
   "cell_type": "code",
   "execution_count": 6,
   "id": "ebb21994-087c-42bf-8c7c-a01421826ab5",
   "metadata": {
    "tags": []
   },
   "outputs": [],
   "source": [
    "cleanData = function(df,vars){\n",
    "    cleanedVehicles <<- df[ , !(names(df) %in% vars)]%>% #remove certain columns \n",
    "    filter(price>1000, price < 200000)%>% #remove cars outside of (1000,1000000)\n",
    "    filter(price != 1234,price != 12345, price != 123456, price != 54321) %>% #remoce cars with prices following a pattern\n",
    "    filter(odometer < 500000) %>%\n",
    "    drop_na()%>% #drop missing values\n",
    "    mutate_if(sapply(., is.character), as.factor) %>% #factorizes <chr> variables\n",
    "    filter(year >= 2000) %>%\n",
    "    distinct()  # drops duplicate values\n",
    "  \n",
    "    return(cleanedVehicles)\n",
    "    }"
   ]
  },
  {
   "cell_type": "markdown",
   "id": "27cc8ebe-9111-47d1-824c-f0236332932d",
   "metadata": {},
   "source": [
    "## Applying the cleanData function and saving the data\n",
    "The above function is applied to our dataframe, then the data is saved"
   ]
  },
  {
   "cell_type": "code",
   "execution_count": 7,
   "id": "3341e61c-1cda-4690-9e29-45658bab15da",
   "metadata": {
    "tags": []
   },
   "outputs": [],
   "source": [
    "#applying the cleanData function to the vehicles dataset to filter for variables\n",
    "filteredVars = c('id','url','region','region_url','VIN','image_url','description','lat','long','county','posting_date','model')\n",
    "\n",
    "cleanVehicles = cleanData(vehicles,filteredVars)"
   ]
  },
  {
   "cell_type": "code",
   "execution_count": 8,
   "id": "121158dc-3c54-473b-b214-539dd062460c",
   "metadata": {
    "tags": []
   },
   "outputs": [
    {
     "data": {
      "text/html": [
       "<table class=\"dataframe\">\n",
       "<caption>A data.frame: 6 × 12</caption>\n",
       "<thead>\n",
       "\t<tr><th></th><th scope=col>price</th><th scope=col>year</th><th scope=col>manufacturer</th><th scope=col>condition</th><th scope=col>cylinders</th><th scope=col>fuel</th><th scope=col>odometer</th><th scope=col>transmission</th><th scope=col>drive</th><th scope=col>type</th><th scope=col>paint_color</th><th scope=col>state</th></tr>\n",
       "\t<tr><th></th><th scope=col>&lt;dbl&gt;</th><th scope=col>&lt;int&gt;</th><th scope=col>&lt;fct&gt;</th><th scope=col>&lt;fct&gt;</th><th scope=col>&lt;fct&gt;</th><th scope=col>&lt;fct&gt;</th><th scope=col>&lt;int&gt;</th><th scope=col>&lt;fct&gt;</th><th scope=col>&lt;fct&gt;</th><th scope=col>&lt;fct&gt;</th><th scope=col>&lt;fct&gt;</th><th scope=col>&lt;fct&gt;</th></tr>\n",
       "</thead>\n",
       "<tbody>\n",
       "\t<tr><th scope=row>1</th><td>33590</td><td>2014</td><td>gmc      </td><td>good     </td><td>8 cylinders</td><td>gas</td><td> 57923</td><td>other    </td><td>   </td><td>pickup</td><td>white</td><td>al</td></tr>\n",
       "\t<tr><th scope=row>2</th><td>22590</td><td>2010</td><td>chevrolet</td><td>good     </td><td>8 cylinders</td><td>gas</td><td> 71229</td><td>other    </td><td>   </td><td>pickup</td><td>blue </td><td>al</td></tr>\n",
       "\t<tr><th scope=row>3</th><td>39590</td><td>2020</td><td>chevrolet</td><td>good     </td><td>8 cylinders</td><td>gas</td><td> 19160</td><td>other    </td><td>   </td><td>pickup</td><td>red  </td><td>al</td></tr>\n",
       "\t<tr><th scope=row>4</th><td>30990</td><td>2017</td><td>toyota   </td><td>good     </td><td>8 cylinders</td><td>gas</td><td> 41124</td><td>other    </td><td>   </td><td>pickup</td><td>red  </td><td>al</td></tr>\n",
       "\t<tr><th scope=row>5</th><td>15000</td><td>2013</td><td>ford     </td><td>excellent</td><td>6 cylinders</td><td>gas</td><td>128000</td><td>automatic</td><td>rwd</td><td>truck </td><td>black</td><td>al</td></tr>\n",
       "\t<tr><th scope=row>6</th><td>27990</td><td>2012</td><td>gmc      </td><td>good     </td><td>8 cylinders</td><td>gas</td><td> 68696</td><td>other    </td><td>4wd</td><td>pickup</td><td>black</td><td>al</td></tr>\n",
       "</tbody>\n",
       "</table>\n"
      ],
      "text/latex": [
       "A data.frame: 6 × 12\n",
       "\\begin{tabular}{r|llllllllllll}\n",
       "  & price & year & manufacturer & condition & cylinders & fuel & odometer & transmission & drive & type & paint\\_color & state\\\\\n",
       "  & <dbl> & <int> & <fct> & <fct> & <fct> & <fct> & <int> & <fct> & <fct> & <fct> & <fct> & <fct>\\\\\n",
       "\\hline\n",
       "\t1 & 33590 & 2014 & gmc       & good      & 8 cylinders & gas &  57923 & other     &     & pickup & white & al\\\\\n",
       "\t2 & 22590 & 2010 & chevrolet & good      & 8 cylinders & gas &  71229 & other     &     & pickup & blue  & al\\\\\n",
       "\t3 & 39590 & 2020 & chevrolet & good      & 8 cylinders & gas &  19160 & other     &     & pickup & red   & al\\\\\n",
       "\t4 & 30990 & 2017 & toyota    & good      & 8 cylinders & gas &  41124 & other     &     & pickup & red   & al\\\\\n",
       "\t5 & 15000 & 2013 & ford      & excellent & 6 cylinders & gas & 128000 & automatic & rwd & truck  & black & al\\\\\n",
       "\t6 & 27990 & 2012 & gmc       & good      & 8 cylinders & gas &  68696 & other     & 4wd & pickup & black & al\\\\\n",
       "\\end{tabular}\n"
      ],
      "text/markdown": [
       "\n",
       "A data.frame: 6 × 12\n",
       "\n",
       "| <!--/--> | price &lt;dbl&gt; | year &lt;int&gt; | manufacturer &lt;fct&gt; | condition &lt;fct&gt; | cylinders &lt;fct&gt; | fuel &lt;fct&gt; | odometer &lt;int&gt; | transmission &lt;fct&gt; | drive &lt;fct&gt; | type &lt;fct&gt; | paint_color &lt;fct&gt; | state &lt;fct&gt; |\n",
       "|---|---|---|---|---|---|---|---|---|---|---|---|---|\n",
       "| 1 | 33590 | 2014 | gmc       | good      | 8 cylinders | gas |  57923 | other     | <!----> | pickup | white | al |\n",
       "| 2 | 22590 | 2010 | chevrolet | good      | 8 cylinders | gas |  71229 | other     | <!----> | pickup | blue  | al |\n",
       "| 3 | 39590 | 2020 | chevrolet | good      | 8 cylinders | gas |  19160 | other     | <!----> | pickup | red   | al |\n",
       "| 4 | 30990 | 2017 | toyota    | good      | 8 cylinders | gas |  41124 | other     | <!----> | pickup | red   | al |\n",
       "| 5 | 15000 | 2013 | ford      | excellent | 6 cylinders | gas | 128000 | automatic | rwd | truck  | black | al |\n",
       "| 6 | 27990 | 2012 | gmc       | good      | 8 cylinders | gas |  68696 | other     | 4wd | pickup | black | al |\n",
       "\n"
      ],
      "text/plain": [
       "  price year manufacturer condition cylinders   fuel odometer transmission\n",
       "1 33590 2014 gmc          good      8 cylinders gas   57923   other       \n",
       "2 22590 2010 chevrolet    good      8 cylinders gas   71229   other       \n",
       "3 39590 2020 chevrolet    good      8 cylinders gas   19160   other       \n",
       "4 30990 2017 toyota       good      8 cylinders gas   41124   other       \n",
       "5 15000 2013 ford         excellent 6 cylinders gas  128000   automatic   \n",
       "6 27990 2012 gmc          good      8 cylinders gas   68696   other       \n",
       "  drive type   paint_color state\n",
       "1       pickup white       al   \n",
       "2       pickup blue        al   \n",
       "3       pickup red         al   \n",
       "4       pickup red         al   \n",
       "5 rwd   truck  black       al   \n",
       "6 4wd   pickup black       al   "
      ]
     },
     "metadata": {},
     "output_type": "display_data"
    }
   ],
   "source": [
    "#save the data\n",
    "write.csv(cleanedVehicles, '02-vehicles-clean.csv',row.names=FALSE)\n",
    "head(cleanVehicles)"
   ]
  },
  {
   "cell_type": "code",
   "execution_count": 15,
   "id": "02a0fb6a-7282-4788-bb22-3034dc0f324f",
   "metadata": {
    "tags": []
   },
   "outputs": [
    {
     "data": {
      "text/plain": [
       "   Min. 1st Qu.  Median    Mean 3rd Qu.    Max. \n",
       "      0   41549   92095   96186  139032  499232 "
      ]
     },
     "metadata": {},
     "output_type": "display_data"
    }
   ],
   "source": [
    "summary(cleanVehicles$odometer)"
   ]
  }
 ],
 "metadata": {
  "kernelspec": {
   "display_name": "R",
   "language": "R",
   "name": "ir"
  },
  "language_info": {
   "codemirror_mode": "r",
   "file_extension": ".r",
   "mimetype": "text/x-r-source",
   "name": "R",
   "pygments_lexer": "r",
   "version": "4.1.3"
  }
 },
 "nbformat": 4,
 "nbformat_minor": 5
}
