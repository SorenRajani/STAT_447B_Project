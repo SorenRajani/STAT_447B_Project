{
 "cells": [
  {
   "cell_type": "code",
   "execution_count": 17,
   "id": "72ee0cd3-be14-4061-8465-f3a5523b963f",
   "metadata": {
    "tags": []
   },
   "outputs": [],
   "source": [
    "#set the wd to file location\n",
    "setwd(getSrcDirectory(function(){})[1])"
   ]
  },
  {
   "cell_type": "markdown",
   "id": "fcfcf0c2-6e2f-4334-b336-810c2be1d271",
   "metadata": {},
   "source": [
    "# dataSplit Notebook\n",
    "This notebook is to be run 2nd.\\\n",
    "The purpose of this file is to split the cleaned data into two sets, one for wrangling and training, and another as a final holdout set that analysis and tuning is blinded to to prevent leakage."
   ]
  },
  {
   "cell_type": "code",
   "execution_count": 18,
   "id": "37825529-6d2d-480f-9545-538b8d0e0301",
   "metadata": {
    "tags": []
   },
   "outputs": [],
   "source": [
    "#Import Necessary libraries\n",
    "suppressWarnings({\n",
    "library('tidyverse')\n",
    "library('dplyr')\n",
    "library('forcats')})"
   ]
  },
  {
   "cell_type": "code",
   "execution_count": 19,
   "id": "1c5cdc50-6c5d-49fc-8410-32f34d711973",
   "metadata": {
    "tags": []
   },
   "outputs": [],
   "source": [
    "#Read Data\n",
    "cleanVehicles = read.csv('02-vehicles-clean.csv')"
   ]
  },
  {
   "cell_type": "markdown",
   "id": "64a23f95-2da2-4ec5-8578-4a98729033be",
   "metadata": {},
   "source": [
    "## dataSplitFunction\n",
    "The data split function takes the following inputs:\n",
    "<ul> \n",
    "    <li> df: the dataframe to split (should be pre-cleaned), type dataframe </li>\n",
    "    <li> alpha: the proprtion of the data to be held out, type int </li>\n",
    "    <li> seed: a seed to set randomness, type int </li>\n",
    "</ul>\n",
    "\n",
    "The data split function returns the following output:\n",
    "<ul>\n",
    "    <li> iholdout: the indexes of df which belong to the holdout set </li>\n",
    "</ul>\n",
    "The data is split randomly"
   ]
  },
  {
   "cell_type": "code",
   "execution_count": 20,
   "id": "6c050e0f-9369-478b-a9cc-1f37bb2a1263",
   "metadata": {
    "tags": []
   },
   "outputs": [],
   "source": [
    "#define the splitting function (read above for documentation)\n",
    "dataSplit <- function(df,alpha,seed = 447){\n",
    "    set.seed(447)\n",
    "    N = nrow(df) \n",
    "    n = round(alpha*N)\n",
    "    index = sample(N)\n",
    "    iholdout = index[1:n]\n",
    "    return(iholdout)\n",
    "}"
   ]
  },
  {
   "cell_type": "markdown",
   "id": "46366439-40bb-4b58-b467-b45f57d6e53e",
   "metadata": {},
   "source": [
    "## Applying dataSplit and saving the files"
   ]
  },
  {
   "cell_type": "markdown",
   "id": "a30be6f6-29e0-4745-94ab-9266eab6b0a8",
   "metadata": {},
   "source": [
    "The above function is called then the resulting files are saved, to prevent data leakage we do not access the holdout file until the final model evaluations. "
   ]
  },
  {
   "cell_type": "code",
   "execution_count": 21,
   "id": "e6ea1f10-3e11-491b-8aab-2f7709acf839",
   "metadata": {
    "tags": []
   },
   "outputs": [],
   "source": [
    "#generate the holdout indices\n",
    "iholdout = dataSplit(cleanVehicles,alpha = 0.2)\n",
    "#split cleanVehicles\n",
    "holdoutVehicles = cleanVehicles[iholdout,]; sampleVehicles = cleanVehicles[-iholdout,]"
   ]
  },
  {
   "cell_type": "markdown",
   "id": "352a58b9-2aa9-4961-a4d6-226b872745eb",
   "metadata": {},
   "source": [
    "check the number of rows to verify correct functioning of ```dataSplit()```\n"
   ]
  },
  {
   "cell_type": "code",
   "execution_count": 23,
   "id": "e3e343e5-9e82-4296-8891-6fd31d2bdcea",
   "metadata": {},
   "outputs": [
    {
     "name": "stdout",
     "output_type": "stream",
     "text": [
      "[1] 195064\n"
     ]
    }
   ],
   "source": [
    "#get number of rows of sampleVehicles\n",
    "print(nrow(sampleVehicles))"
   ]
  },
  {
   "cell_type": "code",
   "execution_count": 24,
   "id": "62dcb5e9-9c51-47d7-a655-85a6a798203e",
   "metadata": {},
   "outputs": [
    {
     "name": "stdout",
     "output_type": "stream",
     "text": [
      "[1] 48766\n"
     ]
    }
   ],
   "source": [
    "#get number of rows of holdoutVehicles\n",
    "print(nrow(holdoutVehicles))"
   ]
  },
  {
   "cell_type": "code",
   "execution_count": 25,
   "id": "723dba34-07f8-4ae8-9a47-a8d79a616cba",
   "metadata": {},
   "outputs": [],
   "source": [
    "#save the files\n",
    "write.csv(sampleVehicles, '03a-vehicles-sample.csv',row.names=FALSE)\n",
    "write.csv(holdoutVehicles, '03b-vehicles-holdout.csv',row.names=FALSE)\n",
    "     "
   ]
  }
 ],
 "metadata": {
  "kernelspec": {
   "display_name": "R",
   "language": "R",
   "name": "ir"
  },
  "language_info": {
   "codemirror_mode": "r",
   "file_extension": ".r",
   "mimetype": "text/x-r-source",
   "name": "R",
   "pygments_lexer": "r",
   "version": "4.1.3"
  }
 },
 "nbformat": 4,
 "nbformat_minor": 5
}
