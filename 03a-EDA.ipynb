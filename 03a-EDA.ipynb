{
 "cells": [
  {
   "cell_type": "markdown",
   "id": "ac77bfe6-9b0c-4b61-a262-f8cb1229c55c",
   "metadata": {},
   "source": [
    "# Exploratory Data Analysis "
   ]
  },
  {
   "cell_type": "code",
   "execution_count": 2,
   "id": "3b5df20c-51b4-495f-b5c0-12e2b52ecf67",
   "metadata": {},
   "outputs": [],
   "source": [
    "#Import Necessary libraries\n",
    "suppressWarnings({\n",
    "library(\"dplyr\")\n",
    "library(\"tidyverse\")})"
   ]
  },
  {
   "cell_type": "code",
   "execution_count": 3,
   "id": "e360c924-5473-4b0a-a9f9-9cdbf5209682",
   "metadata": {},
   "outputs": [],
   "source": [
    "##Read Data\n",
    "data<- read.csv(\"./03a-vehicles-sample.csv\", header = TRUE)"
   ]
  },
  {
   "cell_type": "markdown",
   "id": "97ad963c-293d-4bbd-9a6e-a6176429d33c",
   "metadata": {},
   "source": [
    "The aim of this document is to explore data prior to vetting to suggest the next steps - wrangling, transformations, predictive methods;"
   ]
  },
  {
   "cell_type": "code",
   "execution_count": 4,
   "id": "3aea2694-9544-4121-ae86-00de50061d03",
   "metadata": {},
   "outputs": [
    {
     "data": {
      "text/html": [
       "<style>\n",
       ".list-inline {list-style: none; margin:0; padding: 0}\n",
       ".list-inline>li {display: inline-block}\n",
       ".list-inline>li:not(:last-child)::after {content: \"\\00b7\"; padding: 0 .5ex}\n",
       "</style>\n",
       "<ol class=list-inline><li>219447</li><li>14</li></ol>\n"
      ],
      "text/latex": [
       "\\begin{enumerate*}\n",
       "\\item 219447\n",
       "\\item 14\n",
       "\\end{enumerate*}\n"
      ],
      "text/markdown": [
       "1. 219447\n",
       "2. 14\n",
       "\n",
       "\n"
      ],
      "text/plain": [
       "[1] 219447     14"
      ]
     },
     "metadata": {},
     "output_type": "display_data"
    }
   ],
   "source": [
    "# check the dimensions of the data frame\n",
    "dim(data)"
   ]
  },
  {
   "cell_type": "code",
   "execution_count": 5,
   "id": "f69a7c7f-e25b-4003-9edd-f3a79ae02682",
   "metadata": {},
   "outputs": [
    {
     "data": {
      "text/html": [
       "<style>\n",
       ".list-inline {list-style: none; margin:0; padding: 0}\n",
       ".list-inline>li {display: inline-block}\n",
       ".list-inline>li:not(:last-child)::after {content: \"\\00b7\"; padding: 0 .5ex}\n",
       "</style>\n",
       "<ol class=list-inline><li>'price'</li><li>'year'</li><li>'manufacturer'</li><li>'condition'</li><li>'cylinders'</li><li>'fuel'</li><li>'odometer'</li><li>'title_status'</li><li>'transmission'</li><li>'drive'</li><li>'size'</li><li>'type'</li><li>'paint_color'</li><li>'state'</li></ol>\n"
      ],
      "text/latex": [
       "\\begin{enumerate*}\n",
       "\\item 'price'\n",
       "\\item 'year'\n",
       "\\item 'manufacturer'\n",
       "\\item 'condition'\n",
       "\\item 'cylinders'\n",
       "\\item 'fuel'\n",
       "\\item 'odometer'\n",
       "\\item 'title\\_status'\n",
       "\\item 'transmission'\n",
       "\\item 'drive'\n",
       "\\item 'size'\n",
       "\\item 'type'\n",
       "\\item 'paint\\_color'\n",
       "\\item 'state'\n",
       "\\end{enumerate*}\n"
      ],
      "text/markdown": [
       "1. 'price'\n",
       "2. 'year'\n",
       "3. 'manufacturer'\n",
       "4. 'condition'\n",
       "5. 'cylinders'\n",
       "6. 'fuel'\n",
       "7. 'odometer'\n",
       "8. 'title_status'\n",
       "9. 'transmission'\n",
       "10. 'drive'\n",
       "11. 'size'\n",
       "12. 'type'\n",
       "13. 'paint_color'\n",
       "14. 'state'\n",
       "\n",
       "\n"
      ],
      "text/plain": [
       " [1] \"price\"        \"year\"         \"manufacturer\" \"condition\"    \"cylinders\"   \n",
       " [6] \"fuel\"         \"odometer\"     \"title_status\" \"transmission\" \"drive\"       \n",
       "[11] \"size\"         \"type\"         \"paint_color\"  \"state\"       "
      ]
     },
     "metadata": {},
     "output_type": "display_data"
    }
   ],
   "source": [
    "colnames(data)"
   ]
  },
  {
   "cell_type": "markdown",
   "id": "542acc96-e5b1-4117-b5dd-96193695b87c",
   "metadata": {},
   "source": [
    "### Convert all character data to factors"
   ]
  },
  {
   "cell_type": "code",
   "execution_count": 6,
   "id": "a26a17df-57c8-419b-9457-8b923d9720a8",
   "metadata": {},
   "outputs": [],
   "source": [
    "data<- data%>%\n",
    "mutate_if(sapply(data, is.character), as.factor)"
   ]
  },
  {
   "cell_type": "markdown",
   "id": "b32131a4-4b78-4ec0-a2db-3c44a0b83ecd",
   "metadata": {},
   "source": [
    "### Summary Statistics"
   ]
  },
  {
   "cell_type": "code",
   "execution_count": 7,
   "id": "1a21f1ad-7ac5-4a03-907a-2dc1c7ed1932",
   "metadata": {},
   "outputs": [
    {
     "data": {
      "text/plain": [
       "     price             year         manufacturer        condition    \n",
       " Min.   :  1002   Min.   :2000   ford     : 34862            :78430  \n",
       " 1st Qu.:  7500   1st Qu.:2008   chevrolet: 26303   excellent:56415  \n",
       " Median : 14995   Median :2013   toyota   : 18557   fair     : 3151  \n",
       " Mean   : 18609   Mean   :2012   honda    : 12616   good     :67021  \n",
       " 3rd Qu.: 26555   3rd Qu.:2017   nissan   : 10728   like new :13468  \n",
       " Max.   :199999   Max.   :2022   jeep     :  9353   new      :  698  \n",
       "                                 (Other)  :107028   salvage  :  264  \n",
       "        cylinders           fuel           odometer          title_status   \n",
       "             :84689           :  1169   Min.   :     0             :  3031  \n",
       " 6 cylinders :51729   diesel  : 13612   1st Qu.: 41526   clean     :207512  \n",
       " 4 cylinders :45382   electric:   963   Median : 92002   lien      :  1169  \n",
       " 8 cylinders :34837   gas     :186055   Mean   : 96167   missing   :   104  \n",
       " 5 cylinders : 1094   hybrid  :  3081   3rd Qu.:139029   parts only:    41  \n",
       " 10 cylinders:  723   other   : 14567   Max.   :499232   rebuilt   :  5016  \n",
       " (Other)     :  993                                      salvage   :  2574  \n",
       "    transmission    drive                size             type      \n",
       "          :   941      :63161              :150309   sedan  :47652  \n",
       " automatic:176888   4wd:67843   compact    : 11129          :46943  \n",
       " manual   : 10742   fwd:60301   full-size  : 35382   SUV    :42309  \n",
       " other    : 30876   rwd:28142   mid-size   : 20871   pickup :19704  \n",
       "                                sub-compact:  1756   truck  :16497  \n",
       "                                                     other  :10629  \n",
       "                                                     (Other):35713  \n",
       "  paint_color        state       \n",
       "        :58707   ca     : 22209  \n",
       " white  :41599   fl     : 13989  \n",
       " black  :34428   tx     : 12526  \n",
       " silver :24696   ny     : 10023  \n",
       " blue   :16872   oh     :  8679  \n",
       " red    :15355   mi     :  7339  \n",
       " (Other):27790   (Other):144682  "
      ]
     },
     "metadata": {},
     "output_type": "display_data"
    }
   ],
   "source": [
    "summary(data)"
   ]
  },
  {
   "cell_type": "markdown",
   "id": "f9d7fa67-0f30-49eb-bdb6-65fc2ba62172",
   "metadata": {},
   "source": [
    "### "
   ]
  }
 ],
 "metadata": {
  "kernelspec": {
   "display_name": "R",
   "language": "R",
   "name": "ir"
  },
  "language_info": {
   "codemirror_mode": "r",
   "file_extension": ".r",
   "mimetype": "text/x-r-source",
   "name": "R",
   "pygments_lexer": "r",
   "version": "4.1.3"
  }
 },
 "nbformat": 4,
 "nbformat_minor": 5
}
