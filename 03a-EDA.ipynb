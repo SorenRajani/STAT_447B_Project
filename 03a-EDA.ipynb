{
 "cells": [
  {
   "cell_type": "code",
   "execution_count": 8,
   "id": "a6a1ab67-398d-4d96-bf73-ecd8c7c4b115",
   "metadata": {},
   "outputs": [],
   "source": [
    "#set the wd to file location\n",
    "setwd(getSrcDirectory(function(){})[1])"
   ]
  },
  {
   "cell_type": "markdown",
   "id": "ac77bfe6-9b0c-4b61-a262-f8cb1229c55c",
   "metadata": {},
   "source": [
    "# Exploratory Data Analysis "
   ]
  },
  {
   "cell_type": "markdown",
   "id": "831f7708-725e-4fbd-8dfb-2b6cdf394e00",
   "metadata": {},
   "source": [
    "This notebook is to be run 3rd.\\\n",
    "The purpose of this file is to perform initial exploration on the split of training data prior to vetting to suggest the next steps - wrangling, transformations, predictive methods;"
   ]
  },
  {
   "cell_type": "code",
   "execution_count": 11,
   "id": "3b5df20c-51b4-495f-b5c0-12e2b52ecf67",
   "metadata": {},
   "outputs": [],
   "source": [
    "#Import Necessary libraries\n",
    "suppressWarnings({\n",
    "library(\"dplyr\")\n",
    "library(\"tidyverse\")})"
   ]
  },
  {
   "cell_type": "code",
   "execution_count": 12,
   "id": "e360c924-5473-4b0a-a9f9-9cdbf5209682",
   "metadata": {},
   "outputs": [],
   "source": [
    "##Read Data\n",
    "data<- read.csv(\"./03a-vehicles-sample.csv\", header = TRUE)"
   ]
  },
  {
   "cell_type": "markdown",
   "id": "690cfc23-9054-4585-b5c4-f8b77a2d6dec",
   "metadata": {},
   "source": [
    "check the dimensions of the data frame"
   ]
  },
  {
   "cell_type": "code",
   "execution_count": 13,
   "id": "3aea2694-9544-4121-ae86-00de50061d03",
   "metadata": {},
   "outputs": [
    {
     "data": {
      "text/html": [
       "<style>\n",
       ".list-inline {list-style: none; margin:0; padding: 0}\n",
       ".list-inline>li {display: inline-block}\n",
       ".list-inline>li:not(:last-child)::after {content: \"\\00b7\"; padding: 0 .5ex}\n",
       "</style>\n",
       "<ol class=list-inline><li>195064</li><li>14</li></ol>\n"
      ],
      "text/latex": [
       "\\begin{enumerate*}\n",
       "\\item 195064\n",
       "\\item 14\n",
       "\\end{enumerate*}\n"
      ],
      "text/markdown": [
       "1. 195064\n",
       "2. 14\n",
       "\n",
       "\n"
      ],
      "text/plain": [
       "[1] 195064     14"
      ]
     },
     "metadata": {},
     "output_type": "display_data"
    }
   ],
   "source": [
    "dim(data)"
   ]
  },
  {
   "cell_type": "code",
   "execution_count": 14,
   "id": "f69a7c7f-e25b-4003-9edd-f3a79ae02682",
   "metadata": {},
   "outputs": [
    {
     "data": {
      "text/html": [
       "<style>\n",
       ".list-inline {list-style: none; margin:0; padding: 0}\n",
       ".list-inline>li {display: inline-block}\n",
       ".list-inline>li:not(:last-child)::after {content: \"\\00b7\"; padding: 0 .5ex}\n",
       "</style>\n",
       "<ol class=list-inline><li>'price'</li><li>'year'</li><li>'manufacturer'</li><li>'condition'</li><li>'cylinders'</li><li>'fuel'</li><li>'odometer'</li><li>'title_status'</li><li>'transmission'</li><li>'drive'</li><li>'size'</li><li>'type'</li><li>'paint_color'</li><li>'state'</li></ol>\n"
      ],
      "text/latex": [
       "\\begin{enumerate*}\n",
       "\\item 'price'\n",
       "\\item 'year'\n",
       "\\item 'manufacturer'\n",
       "\\item 'condition'\n",
       "\\item 'cylinders'\n",
       "\\item 'fuel'\n",
       "\\item 'odometer'\n",
       "\\item 'title\\_status'\n",
       "\\item 'transmission'\n",
       "\\item 'drive'\n",
       "\\item 'size'\n",
       "\\item 'type'\n",
       "\\item 'paint\\_color'\n",
       "\\item 'state'\n",
       "\\end{enumerate*}\n"
      ],
      "text/markdown": [
       "1. 'price'\n",
       "2. 'year'\n",
       "3. 'manufacturer'\n",
       "4. 'condition'\n",
       "5. 'cylinders'\n",
       "6. 'fuel'\n",
       "7. 'odometer'\n",
       "8. 'title_status'\n",
       "9. 'transmission'\n",
       "10. 'drive'\n",
       "11. 'size'\n",
       "12. 'type'\n",
       "13. 'paint_color'\n",
       "14. 'state'\n",
       "\n",
       "\n"
      ],
      "text/plain": [
       " [1] \"price\"        \"year\"         \"manufacturer\" \"condition\"    \"cylinders\"   \n",
       " [6] \"fuel\"         \"odometer\"     \"title_status\" \"transmission\" \"drive\"       \n",
       "[11] \"size\"         \"type\"         \"paint_color\"  \"state\"       "
      ]
     },
     "metadata": {},
     "output_type": "display_data"
    }
   ],
   "source": [
    "colnames(data)"
   ]
  },
  {
   "cell_type": "markdown",
   "id": "542acc96-e5b1-4117-b5dd-96193695b87c",
   "metadata": {},
   "source": [
    "### Convert all character data to factors"
   ]
  },
  {
   "cell_type": "code",
   "execution_count": 15,
   "id": "a26a17df-57c8-419b-9457-8b923d9720a8",
   "metadata": {},
   "outputs": [],
   "source": [
    "data<- data%>%\n",
    "mutate_if(sapply(data, is.character), as.factor)"
   ]
  },
  {
   "cell_type": "markdown",
   "id": "b32131a4-4b78-4ec0-a2db-3c44a0b83ecd",
   "metadata": {},
   "source": [
    "### Summary Statistics"
   ]
  },
  {
   "cell_type": "code",
   "execution_count": 16,
   "id": "1a21f1ad-7ac5-4a03-907a-2dc1c7ed1932",
   "metadata": {},
   "outputs": [
    {
     "data": {
      "text/plain": [
       "     price             year         manufacturer       condition    \n",
       " Min.   :  1003   Min.   :2000   ford     :31090            :69731  \n",
       " 1st Qu.:  7500   1st Qu.:2008   chevrolet:23357   excellent:50158  \n",
       " Median : 14995   Median :2013   toyota   :16500   fair     : 2776  \n",
       " Mean   : 18614   Mean   :2012   honda    :11184   good     :59523  \n",
       " 3rd Qu.: 26590   3rd Qu.:2017   nissan   : 9526   like new :12023  \n",
       " Max.   :199999   Max.   :2022   jeep     : 8311   new      :  612  \n",
       "                                 (Other)  :95096   salvage  :  241  \n",
       "        cylinders           fuel           odometer          title_status   \n",
       "             :75248           :  1041   Min.   :     0             :  2684  \n",
       " 6 cylinders :46043   diesel  : 12150   1st Qu.: 41526   clean     :184490  \n",
       " 4 cylinders :40315   electric:   849   Median : 92050   lien      :  1028  \n",
       " 8 cylinders :30976   gas     :165360   Mean   : 96207   missing   :    94  \n",
       " 5 cylinders :  968   hybrid  :  2753   3rd Qu.:139056   parts only:    38  \n",
       " 10 cylinders:  636   other   : 12911   Max.   :499232   rebuilt   :  4450  \n",
       " (Other)     :  878                                      salvage   :  2280  \n",
       "    transmission    drive                size             type      \n",
       "          :   833      :56219              :133603   sedan  :42288  \n",
       " automatic:157380   4wd:60309   compact    :  9902          :41715  \n",
       " manual   :  9506   fwd:53545   full-size  : 31393   SUV    :37621  \n",
       " other    : 27345   rwd:24991   mid-size   : 18587   pickup :17471  \n",
       "                                sub-compact:  1579   truck  :14678  \n",
       "                                                     other  : 9426  \n",
       "                                                     (Other):31865  \n",
       "  paint_color        state       \n",
       "        :52225   ca     : 19689  \n",
       " white  :37008   fl     : 12472  \n",
       " black  :30531   tx     : 11137  \n",
       " silver :21901   ny     :  8899  \n",
       " blue   :14973   oh     :  7707  \n",
       " red    :13703   mi     :  6506  \n",
       " (Other):24723   (Other):128654  "
      ]
     },
     "metadata": {},
     "output_type": "display_data"
    }
   ],
   "source": [
    "summary(data)"
   ]
  },
  {
   "cell_type": "markdown",
   "id": "56952d43-d8f4-41fa-a4c4-fd054ea2628a",
   "metadata": {},
   "source": [
    "### Comments on numeric data:\n",
    " - ```year``` : values range from 2000 to 2022 depicting the year the posted vehicle was manufactured. A better variable for interpretation would be ```age```. The dataset was collected for posts made in year 2022 (over the period of 3 months). We can mutate the dataset to create ```age``` as follows $age = 2022 - year$.\n",
    "  - ```odometer``` : values range from 0 to ~500,000 miles. Extreme values were excluded from the dataset (see 01-dataClean.ipynb), however looking at the summary odometer appears to be skewed to the right. Considering all values are positive, performing a square-root or cube-root transformation might be beneficial. "
   ]
  },
  {
   "cell_type": "markdown",
   "id": "f9d7fa67-0f30-49eb-bdb6-65fc2ba62172",
   "metadata": {},
   "source": [
    "### Comments on categorical data \n",
    " - Binning : many attributes have similar categories that can be binned to produce better predictive power. attribute - ```condition```, ```fule```, ```cylinders```, ```transmission```, ```drive```, ```size```, ```type```, ```paint_color``` & ```title_status``` have significant amount of missing values, these may have their own predictive power. we expect a lower asking price if the poster has lesser information about the car. \n",
    " "
   ]
  }
 ],
 "metadata": {
  "kernelspec": {
   "display_name": "R",
   "language": "R",
   "name": "ir"
  },
  "language_info": {
   "codemirror_mode": "r",
   "file_extension": ".r",
   "mimetype": "text/x-r-source",
   "name": "R",
   "pygments_lexer": "r",
   "version": "4.1.3"
  }
 },
 "nbformat": 4,
 "nbformat_minor": 5
}
