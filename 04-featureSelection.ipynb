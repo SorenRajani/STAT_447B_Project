{
 "cells": [
  {
   "cell_type": "markdown",
   "id": "28649813-6e13-4954-a2b6-2c449f950d37",
   "metadata": {
    "tags": []
   },
   "source": [
    "# Feature selection"
   ]
  },
  {
   "cell_type": "code",
   "execution_count": 7,
   "id": "139ea0cf-4e48-4bad-99e5-5472131607f1",
   "metadata": {},
   "outputs": [],
   "source": [
    "library(tidyverse)\n",
    "library(dplyr)\n",
    "library(rpart)\n",
    "source('functions.R')"
   ]
  },
  {
   "cell_type": "code",
   "execution_count": 8,
   "id": "4afb5649-4ef6-45f6-bd95-4fbffd2f91d8",
   "metadata": {},
   "outputs": [],
   "source": [
    "train = readRDS(\"04a-wrangledTrain.rds\")"
   ]
  },
  {
   "cell_type": "code",
   "execution_count": 9,
   "id": "97d802b8-e613-4faa-8a52-ec026b9e7cfb",
   "metadata": {},
   "outputs": [
    {
     "data": {
      "text/html": [
       "<table class=\"dataframe\">\n",
       "<caption>A data.frame: 6 × 15</caption>\n",
       "<thead>\n",
       "\t<tr><th></th><th scope=col>price</th><th scope=col>condition</th><th scope=col>cylinders</th><th scope=col>fuel</th><th scope=col>title_status</th><th scope=col>transmission</th><th scope=col>drive</th><th scope=col>size</th><th scope=col>paint_color</th><th scope=col>state</th><th scope=col>type</th><th scope=col>countryOrigin</th><th scope=col>isLuxury</th><th scope=col>age</th><th scope=col>sqrt_odometer</th></tr>\n",
       "\t<tr><th></th><th scope=col>&lt;dbl&gt;</th><th scope=col>&lt;fct&gt;</th><th scope=col>&lt;fct&gt;</th><th scope=col>&lt;fct&gt;</th><th scope=col>&lt;fct&gt;</th><th scope=col>&lt;fct&gt;</th><th scope=col>&lt;fct&gt;</th><th scope=col>&lt;fct&gt;</th><th scope=col>&lt;fct&gt;</th><th scope=col>&lt;fct&gt;</th><th scope=col>&lt;fct&gt;</th><th scope=col>&lt;fct&gt;</th><th scope=col>&lt;dbl&gt;</th><th scope=col>&lt;dbl&gt;</th><th scope=col>&lt;dbl&gt;</th></tr>\n",
       "</thead>\n",
       "<tbody>\n",
       "\t<tr><th scope=row>1</th><td>33590</td><td>good     </td><td>8 cylinders</td><td>gas</td><td>clean</td><td>other    </td><td>   </td><td>         </td><td>white</td><td>al</td><td>pickup</td><td>USA  </td><td>0</td><td> 8</td><td>240.6720</td></tr>\n",
       "\t<tr><th scope=row>2</th><td>22590</td><td>good     </td><td>8 cylinders</td><td>gas</td><td>clean</td><td>other    </td><td>   </td><td>         </td><td>blue </td><td>al</td><td>pickup</td><td>USA  </td><td>0</td><td>12</td><td>266.8876</td></tr>\n",
       "\t<tr><th scope=row>3</th><td>39590</td><td>good     </td><td>8 cylinders</td><td>gas</td><td>clean</td><td>other    </td><td>   </td><td>         </td><td>red  </td><td>al</td><td>pickup</td><td>USA  </td><td>0</td><td> 2</td><td>138.4197</td></tr>\n",
       "\t<tr><th scope=row>4</th><td>30990</td><td>good     </td><td>8 cylinders</td><td>gas</td><td>clean</td><td>other    </td><td>   </td><td>         </td><td>red  </td><td>al</td><td>pickup</td><td>Japan</td><td>0</td><td> 5</td><td>202.7905</td></tr>\n",
       "\t<tr><th scope=row>5</th><td>15000</td><td>excellent</td><td>6 cylinders</td><td>gas</td><td>clean</td><td>automatic</td><td>rwd</td><td>full-size</td><td>black</td><td>al</td><td>truck </td><td>USA  </td><td>0</td><td> 9</td><td>357.7709</td></tr>\n",
       "\t<tr><th scope=row>6</th><td>27990</td><td>good     </td><td>8 cylinders</td><td>gas</td><td>clean</td><td>other    </td><td>4wd</td><td>         </td><td>black</td><td>al</td><td>pickup</td><td>USA  </td><td>0</td><td>10</td><td>262.0992</td></tr>\n",
       "</tbody>\n",
       "</table>\n"
      ],
      "text/latex": [
       "A data.frame: 6 × 15\n",
       "\\begin{tabular}{r|lllllllllllllll}\n",
       "  & price & condition & cylinders & fuel & title\\_status & transmission & drive & size & paint\\_color & state & type & countryOrigin & isLuxury & age & sqrt\\_odometer\\\\\n",
       "  & <dbl> & <fct> & <fct> & <fct> & <fct> & <fct> & <fct> & <fct> & <fct> & <fct> & <fct> & <fct> & <dbl> & <dbl> & <dbl>\\\\\n",
       "\\hline\n",
       "\t1 & 33590 & good      & 8 cylinders & gas & clean & other     &     &           & white & al & pickup & USA   & 0 &  8 & 240.6720\\\\\n",
       "\t2 & 22590 & good      & 8 cylinders & gas & clean & other     &     &           & blue  & al & pickup & USA   & 0 & 12 & 266.8876\\\\\n",
       "\t3 & 39590 & good      & 8 cylinders & gas & clean & other     &     &           & red   & al & pickup & USA   & 0 &  2 & 138.4197\\\\\n",
       "\t4 & 30990 & good      & 8 cylinders & gas & clean & other     &     &           & red   & al & pickup & Japan & 0 &  5 & 202.7905\\\\\n",
       "\t5 & 15000 & excellent & 6 cylinders & gas & clean & automatic & rwd & full-size & black & al & truck  & USA   & 0 &  9 & 357.7709\\\\\n",
       "\t6 & 27990 & good      & 8 cylinders & gas & clean & other     & 4wd &           & black & al & pickup & USA   & 0 & 10 & 262.0992\\\\\n",
       "\\end{tabular}\n"
      ],
      "text/markdown": [
       "\n",
       "A data.frame: 6 × 15\n",
       "\n",
       "| <!--/--> | price &lt;dbl&gt; | condition &lt;fct&gt; | cylinders &lt;fct&gt; | fuel &lt;fct&gt; | title_status &lt;fct&gt; | transmission &lt;fct&gt; | drive &lt;fct&gt; | size &lt;fct&gt; | paint_color &lt;fct&gt; | state &lt;fct&gt; | type &lt;fct&gt; | countryOrigin &lt;fct&gt; | isLuxury &lt;dbl&gt; | age &lt;dbl&gt; | sqrt_odometer &lt;dbl&gt; |\n",
       "|---|---|---|---|---|---|---|---|---|---|---|---|---|---|---|---|\n",
       "| 1 | 33590 | good      | 8 cylinders | gas | clean | other     | <!----> | <!----> | white | al | pickup | USA   | 0 |  8 | 240.6720 |\n",
       "| 2 | 22590 | good      | 8 cylinders | gas | clean | other     | <!----> | <!----> | blue  | al | pickup | USA   | 0 | 12 | 266.8876 |\n",
       "| 3 | 39590 | good      | 8 cylinders | gas | clean | other     | <!----> | <!----> | red   | al | pickup | USA   | 0 |  2 | 138.4197 |\n",
       "| 4 | 30990 | good      | 8 cylinders | gas | clean | other     | <!----> | <!----> | red   | al | pickup | Japan | 0 |  5 | 202.7905 |\n",
       "| 5 | 15000 | excellent | 6 cylinders | gas | clean | automatic | rwd | full-size | black | al | truck  | USA   | 0 |  9 | 357.7709 |\n",
       "| 6 | 27990 | good      | 8 cylinders | gas | clean | other     | 4wd | <!----> | black | al | pickup | USA   | 0 | 10 | 262.0992 |\n",
       "\n"
      ],
      "text/plain": [
       "  price condition cylinders   fuel title_status transmission drive size     \n",
       "1 33590 good      8 cylinders gas  clean        other                       \n",
       "2 22590 good      8 cylinders gas  clean        other                       \n",
       "3 39590 good      8 cylinders gas  clean        other                       \n",
       "4 30990 good      8 cylinders gas  clean        other                       \n",
       "5 15000 excellent 6 cylinders gas  clean        automatic    rwd   full-size\n",
       "6 27990 good      8 cylinders gas  clean        other        4wd            \n",
       "  paint_color state type   countryOrigin isLuxury age sqrt_odometer\n",
       "1 white       al    pickup USA           0         8  240.6720     \n",
       "2 blue        al    pickup USA           0        12  266.8876     \n",
       "3 red         al    pickup USA           0         2  138.4197     \n",
       "4 red         al    pickup Japan         0         5  202.7905     \n",
       "5 black       al    truck  USA           0         9  357.7709     \n",
       "6 black       al    pickup USA           0        10  262.0992     "
      ]
     },
     "metadata": {},
     "output_type": "display_data"
    }
   ],
   "source": [
    "head(train)"
   ]
  },
  {
   "cell_type": "code",
   "execution_count": 10,
   "id": "7a5c2c84-1228-4c09-8f48-d44ece0de5f4",
   "metadata": {},
   "outputs": [
    {
     "name": "stdout",
     "output_type": "stream",
     "text": [
      "n= 195064 \n",
      "\n",
      "node), split, n, deviance, yval\n",
      "      * denotes terminal node\n",
      "\n",
      " 1) root 195064 135166.200  9.522564  \n",
      "   2) age>=9.5 87380  44424.840  8.946882  \n",
      "     4) fuel=,electric,gas,hybrid 79504  35405.530  8.869055  \n",
      "       8) age>=12.5 51678  21660.990  8.688554  \n",
      "        16) drive=,fwd 28797   9679.144  8.507107 *\n",
      "        17) drive=4wd,rwd 22881   9840.545  8.916915 *\n",
      "       9) age< 12.5 27826   8933.884  9.204279  \n",
      "        18) drive=,fwd 16437   4342.863  9.011664 *\n",
      "        19) drive=4wd,rwd 11389   3101.087  9.482267 *\n",
      "     5) fuel=diesel,other 7876   3676.720  9.732500 *\n",
      "   3) age< 9.5 107684  38284.320  9.989700  \n",
      "     6) age>=5.5 55661  19197.790  9.740095  \n",
      "      12) type=,bus,hatchback,mini-van,sedan,SUV,van,wagon 40410  12253.460  9.582236  \n",
      "        24) cylinders=3 cylinders,4 cylinders,5 cylinders,other 13217   2388.248  9.286980 *\n",
      "        25) cylinders=,10 cylinders,12 cylinders,6 cylinders,8 cylinders 27193   8152.987  9.725743 *\n",
      "      13) type=convertible,coupe,offroad,other,pickup,truck 15251   3269.127 10.158370 *\n",
      "     7) age< 5.5 52023  11908.350 10.256760  \n",
      "      14) drive=fwd 13893   2272.184  9.938106 *\n",
      "      15) drive=,4wd,rwd 38130   7711.461 10.372860 *\n"
     ]
    }
   ],
   "source": [
    "ctree = rpart(log(price)~., data=train)\n",
    "print(ctree)"
   ]
  },
  {
   "cell_type": "code",
   "execution_count": 11,
   "id": "c378331b-887b-4cca-9658-698dfd6347fe",
   "metadata": {},
   "outputs": [],
   "source": [
    "#' @description Extract variables/features that appear in the tree.\n",
    "#' @param ctree object from rpart\n",
    "#' @param iprint flag is T for intermediate prints\n",
    "#' @return vector with the names of features that appear in the tree.\n",
    "TreeFeatures = function(ctree, iprint=F)\n",
    "{ splits = ctree$splits\n",
    "  if(iprint) print(splits) \n",
    "  nn = nrow(splits)\n",
    "  rowlabel = rownames(splits)\n",
    "  treelist = NULL\n",
    "  treelist = c(treelist, rowlabel[1])\n",
    "  count = splits[,1]\n",
    "  for(ii in 2:nn)\n",
    "  { if(count[ii]==count[ii-1] | count[ii]==0) next\n",
    "    treelist = c(treelist,rowlabel[ii])\n",
    "  }\n",
    "  if(iprint) \n",
    "  { print(treelist)\n",
    "    shortlist = unique(treelist)\n",
    "    cat(\"shortlist\\n\"); print(shortlist)\n",
    "  }\n",
    "  unique(treelist)\n",
    "}"
   ]
  },
  {
   "cell_type": "code",
   "execution_count": 12,
   "id": "b20bc07d-358e-4347-b4bd-cbe59e98dcb4",
   "metadata": {},
   "outputs": [
    {
     "name": "stdout",
     "output_type": "stream",
     "text": [
      "[1] \"age\"       \"fuel\"      \"drive\"     \"type\"      \"cylinders\"\n"
     ]
    }
   ],
   "source": [
    "TreeBestfeatures = TreeFeatures(ctree)\n",
    "print(TreeBestfeatures)"
   ]
  },
  {
   "cell_type": "code",
   "execution_count": null,
   "id": "0d2533c5-84a1-4422-9e10-ed818953d545",
   "metadata": {},
   "outputs": [],
   "source": []
  }
 ],
 "metadata": {
  "kernelspec": {
   "display_name": "R",
   "language": "R",
   "name": "ir"
  },
  "language_info": {
   "codemirror_mode": "r",
   "file_extension": ".r",
   "mimetype": "text/x-r-source",
   "name": "R",
   "pygments_lexer": "r",
   "version": "4.1.3"
  }
 },
 "nbformat": 4,
 "nbformat_minor": 5
}
