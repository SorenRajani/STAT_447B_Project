{
 "cells": [
  {
   "cell_type": "code",
   "execution_count": 2,
   "id": "70122093-048e-4968-b6d2-5fff49a5805f",
   "metadata": {},
   "outputs": [],
   "source": [
    "#Import Necessary libraries\n",
    "suppressWarnings({\n",
    "library('tidyverse')\n",
    "library('dplyr')\n",
    "source('functions.R')})"
   ]
  },
  {
   "cell_type": "code",
   "execution_count": 3,
   "id": "a52b8310-d121-404e-ab08-7395bd50f49f",
   "metadata": {},
   "outputs": [],
   "source": [
    "train = readRDS(\"04a-wrangledTrain.rds\")\n",
    "train_subset = feature_selection(train)"
   ]
  },
  {
   "cell_type": "markdown",
   "id": "1c55e7f8-11d6-4309-a99f-8a7ac4919807",
   "metadata": {},
   "source": [
    "# 05a Linear Regression\n",
    "This file will perform k-fold cv on two different linear regression without weights and interactions based models, one on the entire predictor set, the other on a subset of the predictor variables"
   ]
  },
  {
   "cell_type": "markdown",
   "id": "a7da18a0-9c59-4ca2-b4b5-b85dd9b2fec9",
   "metadata": {},
   "source": [
    "## Unique Functions for Linear Regression \n",
    "We define myTrain, myPredict() and myScore() function as required by the kFold() customized to fit, predict and score the linear model"
   ]
  },
  {
   "cell_type": "code",
   "execution_count": 4,
   "id": "bfe43192-89fd-417d-b336-652869d4be8e",
   "metadata": {},
   "outputs": [],
   "source": [
    "#' @description\n",
    "#' Define training function to train model based on data to be used for linear Regression without any weights//interavtions\n",
    "#'\n",
    "#' @param data - dataset which is being used to train the desired model\n",
    "#'\n",
    "#' @return model - the trained model\n",
    "myTrain = function(data){\n",
    "    model = lm(log(price)~., data = data)\n",
    "    return(model)\n",
    "}"
   ]
  },
  {
   "cell_type": "code",
   "execution_count": 5,
   "id": "5e1e35d0-3594-43c6-b5e0-49063f463222",
   "metadata": {},
   "outputs": [],
   "source": [
    "#' @description\n",
    "#' Function to get prediction for new data based on input model with prediciton interval of 80%\n",
    "#' \n",
    "#' @param model - trained model\n",
    "#' @newdata - the data for which the predictions are to be made\n",
    "#'\n",
    "#' @return a dataset return predicted price in USD with IS\n",
    "myPredict= function(model, newdata){\n",
    "    log_price_predict = predict(model, newdata=newdata, interval=\"prediction\", level=0.8)\n",
    "    return(exp(log_price_predict))\n",
    "}"
   ]
  },
  {
   "cell_type": "code",
   "execution_count": 6,
   "id": "f150ab5c-26d4-45f8-9466-0ff0838b4802",
   "metadata": {},
   "outputs": [],
   "source": [
    "#' @description \n",
    "#' Function to produce interval scores for given predictions and true values\n",
    "#'\n",
    "#' @param predict = predicted values with 80% PI\n",
    "#' @param data = dataset which contains price - the true value\n",
    "#'\n",
    "#' @return interval score outcomes = summary of level, average length of interval, interval score and coverage\n",
    "myScore= function(predict, data){\n",
    "    intervalScore(predict, data$price, level = 0.8)\n",
    "    }"
   ]
  },
  {
   "cell_type": "code",
   "execution_count": 7,
   "id": "f781b695-e651-4453-adbd-d54cafc37e8b",
   "metadata": {},
   "outputs": [
    {
     "data": {
      "text/html": [
       "<ol>\n",
       "\t<li><strong>$summary</strong> = <style>\n",
       ".list-inline {list-style: none; margin:0; padding: 0}\n",
       ".list-inline>li {display: inline-block}\n",
       ".list-inline>li:not(:last-child)::after {content: \"\\00b7\"; padding: 0 .5ex}\n",
       "</style>\n",
       "<ol class=list-inline><li>0.8</li><li>19487.0314554108</li><li>26168.8443604916</li><li>0.856200304517002</li></ol>\n",
       "</li>\n",
       "\t<li><strong>$summary</strong> = <style>\n",
       ".list-inline {list-style: none; margin:0; padding: 0}\n",
       ".list-inline>li {display: inline-block}\n",
       ".list-inline>li:not(:last-child)::after {content: \"\\00b7\"; padding: 0 .5ex}\n",
       "</style>\n",
       "<ol class=list-inline><li>0.8</li><li>19681.7407183973</li><li>26175.0167181884</li><li>0.855708155826579</li></ol>\n",
       "</li>\n",
       "\t<li><strong>$summary</strong> = <style>\n",
       ".list-inline {list-style: none; margin:0; padding: 0}\n",
       ".list-inline>li {display: inline-block}\n",
       ".list-inline>li:not(:last-child)::after {content: \"\\00b7\"; padding: 0 .5ex}\n",
       "</style>\n",
       "<ol class=list-inline><li>0.8</li><li>19566.6381186901</li><li>26306.7292446107</li><li>0.854080157485159</li></ol>\n",
       "</li>\n",
       "</ol>\n"
      ],
      "text/latex": [
       "\\begin{enumerate}\n",
       "\\item \\textbf{\\$summary} = \\begin{enumerate*}\n",
       "\\item 0.8\n",
       "\\item 19487.0314554108\n",
       "\\item 26168.8443604916\n",
       "\\item 0.856200304517002\n",
       "\\end{enumerate*}\n",
       "\n",
       "\\item \\textbf{\\$summary} = \\begin{enumerate*}\n",
       "\\item 0.8\n",
       "\\item 19681.7407183973\n",
       "\\item 26175.0167181884\n",
       "\\item 0.855708155826579\n",
       "\\end{enumerate*}\n",
       "\n",
       "\\item \\textbf{\\$summary} = \\begin{enumerate*}\n",
       "\\item 0.8\n",
       "\\item 19566.6381186901\n",
       "\\item 26306.7292446107\n",
       "\\item 0.854080157485159\n",
       "\\end{enumerate*}\n",
       "\n",
       "\\end{enumerate}\n"
      ],
      "text/markdown": [
       "1. **$summary** = 1. 0.8\n",
       "2. 19487.0314554108\n",
       "3. 26168.8443604916\n",
       "4. 0.856200304517002\n",
       "\n",
       "\n",
       "\n",
       "2. **$summary** = 1. 0.8\n",
       "2. 19681.7407183973\n",
       "3. 26175.0167181884\n",
       "4. 0.855708155826579\n",
       "\n",
       "\n",
       "\n",
       "3. **$summary** = 1. 0.8\n",
       "2. 19566.6381186901\n",
       "3. 26306.7292446107\n",
       "4. 0.854080157485159\n",
       "\n",
       "\n",
       "\n",
       "\n",
       "\n"
      ],
      "text/plain": [
       "[[1]]\n",
       "[[1]]$summary\n",
       "[1] 8.000000e-01 1.948703e+04 2.616884e+04 8.562003e-01\n",
       "\n",
       "\n",
       "[[2]]\n",
       "[[2]]$summary\n",
       "[1] 8.000000e-01 1.968174e+04 2.617502e+04 8.557082e-01\n",
       "\n",
       "\n",
       "[[3]]\n",
       "[[3]]$summary\n",
       "[1] 8.000000e-01 1.956664e+04 2.630673e+04 8.540802e-01\n",
       "\n"
      ]
     },
     "metadata": {},
     "output_type": "display_data"
    }
   ],
   "source": [
    "### Below are the output for each fold. Each fold (1,2,3) has the label + its summary for level, avglength, IS, cover\n",
    "### for the fold in that order\n",
    "kFold(3, 123, train)"
   ]
  },
  {
   "cell_type": "code",
   "execution_count": 8,
   "id": "9e14c764-d9f3-4969-a666-35f4c0156b15",
   "metadata": {},
   "outputs": [
    {
     "data": {
      "text/html": [
       "<ol>\n",
       "\t<li><strong>$summary</strong> = <style>\n",
       ".list-inline {list-style: none; margin:0; padding: 0}\n",
       ".list-inline>li {display: inline-block}\n",
       ".list-inline>li:not(:last-child)::after {content: \"\\00b7\"; padding: 0 .5ex}\n",
       "</style>\n",
       "<ol class=list-inline><li>0.8</li><li>21561.3702517916</li><li>28837.0057711813</li><li>0.846157395303056</li></ol>\n",
       "</li>\n",
       "\t<li><strong>$summary</strong> = <style>\n",
       ".list-inline {list-style: none; margin:0; padding: 0}\n",
       ".list-inline>li {display: inline-block}\n",
       ".list-inline>li:not(:last-child)::after {content: \"\\00b7\"; padding: 0 .5ex}\n",
       "</style>\n",
       "<ol class=list-inline><li>0.8</li><li>21774.4152846223</li><li>28694.1158597457</li><li>0.85092508574153</li></ol>\n",
       "</li>\n",
       "\t<li><strong>$summary</strong> = <style>\n",
       ".list-inline {list-style: none; margin:0; padding: 0}\n",
       ".list-inline>li {display: inline-block}\n",
       ".list-inline>li:not(:last-child)::after {content: \"\\00b7\"; padding: 0 .5ex}\n",
       "</style>\n",
       "<ol class=list-inline><li>0.8</li><li>21689.2454524131</li><li>28980.7761001483</li><li>0.846744178893298</li></ol>\n",
       "</li>\n",
       "</ol>\n"
      ],
      "text/latex": [
       "\\begin{enumerate}\n",
       "\\item \\textbf{\\$summary} = \\begin{enumerate*}\n",
       "\\item 0.8\n",
       "\\item 21561.3702517916\n",
       "\\item 28837.0057711813\n",
       "\\item 0.846157395303056\n",
       "\\end{enumerate*}\n",
       "\n",
       "\\item \\textbf{\\$summary} = \\begin{enumerate*}\n",
       "\\item 0.8\n",
       "\\item 21774.4152846223\n",
       "\\item 28694.1158597457\n",
       "\\item 0.85092508574153\n",
       "\\end{enumerate*}\n",
       "\n",
       "\\item \\textbf{\\$summary} = \\begin{enumerate*}\n",
       "\\item 0.8\n",
       "\\item 21689.2454524131\n",
       "\\item 28980.7761001483\n",
       "\\item 0.846744178893298\n",
       "\\end{enumerate*}\n",
       "\n",
       "\\end{enumerate}\n"
      ],
      "text/markdown": [
       "1. **$summary** = 1. 0.8\n",
       "2. 21561.3702517916\n",
       "3. 28837.0057711813\n",
       "4. 0.846157395303056\n",
       "\n",
       "\n",
       "\n",
       "2. **$summary** = 1. 0.8\n",
       "2. 21774.4152846223\n",
       "3. 28694.1158597457\n",
       "4. 0.85092508574153\n",
       "\n",
       "\n",
       "\n",
       "3. **$summary** = 1. 0.8\n",
       "2. 21689.2454524131\n",
       "3. 28980.7761001483\n",
       "4. 0.846744178893298\n",
       "\n",
       "\n",
       "\n",
       "\n",
       "\n"
      ],
      "text/plain": [
       "[[1]]\n",
       "[[1]]$summary\n",
       "[1] 8.000000e-01 2.156137e+04 2.883701e+04 8.461574e-01\n",
       "\n",
       "\n",
       "[[2]]\n",
       "[[2]]$summary\n",
       "[1] 8.000000e-01 2.177442e+04 2.869412e+04 8.509251e-01\n",
       "\n",
       "\n",
       "[[3]]\n",
       "[[3]]$summary\n",
       "[1] 8.000000e-01 2.168925e+04 2.898078e+04 8.467442e-01\n",
       "\n"
      ]
     },
     "metadata": {},
     "output_type": "display_data"
    }
   ],
   "source": [
    "### Below are the output for each fold. Each fold (1,2,3) has the label + its summary for level, avglength, IS, cover\n",
    "### for the fold in that order\n",
    "kFold(3, 123, feature_selection(train))"
   ]
  },
  {
   "cell_type": "markdown",
   "id": "c3ca898d-94c8-4b73-aa2d-7d33de3ac2c0",
   "metadata": {},
   "source": [
    "The myPredict() and myScore() functions are now redefined for 50% prediction intervals"
   ]
  },
  {
   "cell_type": "code",
   "execution_count": 9,
   "id": "eccd2eb9-d848-4f93-b108-bb3071f0a12d",
   "metadata": {},
   "outputs": [],
   "source": [
    "#' @description\n",
    "#' Function to get prediction for new data based on input model with prediciton interval of 50%\n",
    "#' \n",
    "#' @param model - trained model\n",
    "#' @newdata - the data for which the predictions are to be made\n",
    "#'\n",
    "#' @return a dataset return predicted price in USD with PI\n",
    "myPredict= function(model, newdata){\n",
    "    log_price_predict = predict(model, newdata=newdata, interval=\"prediction\", level=0.5)\n",
    "    return(exp(log_price_predict))\n",
    "}"
   ]
  },
  {
   "cell_type": "code",
   "execution_count": 10,
   "id": "9d66b385-0ebd-49d2-8f74-c3e59df3abee",
   "metadata": {},
   "outputs": [],
   "source": [
    "#' @description \n",
    "#' Function to produce interval scores for given predictions and true values\n",
    "#'\n",
    "#' @param predict = predicted values with 50% PI\n",
    "#' @param data = dataset which contains price - the true value\n",
    "#'\n",
    "#' @return interval score outcomes = summary of level, average length of interval, interval score and coverage\n",
    "myScore= function(predict, data){\n",
    "    intervalScore(predict, data$price, level = 0.5)\n",
    "    }"
   ]
  },
  {
   "cell_type": "code",
   "execution_count": 11,
   "id": "cf84b9ba-85d8-43ab-bc42-1d16ff6d2a98",
   "metadata": {},
   "outputs": [
    {
     "data": {
      "text/html": [
       "<ol>\n",
       "\t<li><strong>$summary</strong> = <style>\n",
       ".list-inline {list-style: none; margin:0; padding: 0}\n",
       ".list-inline>li {display: inline-block}\n",
       ".list-inline>li:not(:last-child)::after {content: \"\\00b7\"; padding: 0 .5ex}\n",
       "</style>\n",
       "<ol class=list-inline><li>0.5</li><li>9916.91282182387</li><li>16711.9235934107</li><li>0.605988834376586</li></ol>\n",
       "</li>\n",
       "\t<li><strong>$summary</strong> = <style>\n",
       ".list-inline {list-style: none; margin:0; padding: 0}\n",
       ".list-inline>li {display: inline-block}\n",
       ".list-inline>li:not(:last-child)::after {content: \"\\00b7\"; padding: 0 .5ex}\n",
       "</style>\n",
       "<ol class=list-inline><li>0.5</li><li>10014.5057785638</li><li>16772.1575640086</li><li>0.607480660094431</li></ol>\n",
       "</li>\n",
       "\t<li><strong>$summary</strong> = <style>\n",
       ".list-inline {list-style: none; margin:0; padding: 0}\n",
       ".list-inline>li {display: inline-block}\n",
       ".list-inline>li:not(:last-child)::after {content: \"\\00b7\"; padding: 0 .5ex}\n",
       "</style>\n",
       "<ol class=list-inline><li>0.5</li><li>9956.96168927055</li><li>16829.1717360512</li><li>0.605287441173757</li></ol>\n",
       "</li>\n",
       "</ol>\n"
      ],
      "text/latex": [
       "\\begin{enumerate}\n",
       "\\item \\textbf{\\$summary} = \\begin{enumerate*}\n",
       "\\item 0.5\n",
       "\\item 9916.91282182387\n",
       "\\item 16711.9235934107\n",
       "\\item 0.605988834376586\n",
       "\\end{enumerate*}\n",
       "\n",
       "\\item \\textbf{\\$summary} = \\begin{enumerate*}\n",
       "\\item 0.5\n",
       "\\item 10014.5057785638\n",
       "\\item 16772.1575640086\n",
       "\\item 0.607480660094431\n",
       "\\end{enumerate*}\n",
       "\n",
       "\\item \\textbf{\\$summary} = \\begin{enumerate*}\n",
       "\\item 0.5\n",
       "\\item 9956.96168927055\n",
       "\\item 16829.1717360512\n",
       "\\item 0.605287441173757\n",
       "\\end{enumerate*}\n",
       "\n",
       "\\end{enumerate}\n"
      ],
      "text/markdown": [
       "1. **$summary** = 1. 0.5\n",
       "2. 9916.91282182387\n",
       "3. 16711.9235934107\n",
       "4. 0.605988834376586\n",
       "\n",
       "\n",
       "\n",
       "2. **$summary** = 1. 0.5\n",
       "2. 10014.5057785638\n",
       "3. 16772.1575640086\n",
       "4. 0.607480660094431\n",
       "\n",
       "\n",
       "\n",
       "3. **$summary** = 1. 0.5\n",
       "2. 9956.96168927055\n",
       "3. 16829.1717360512\n",
       "4. 0.605287441173757\n",
       "\n",
       "\n",
       "\n",
       "\n",
       "\n"
      ],
      "text/plain": [
       "[[1]]\n",
       "[[1]]$summary\n",
       "[1] 5.000000e-01 9.916913e+03 1.671192e+04 6.059888e-01\n",
       "\n",
       "\n",
       "[[2]]\n",
       "[[2]]$summary\n",
       "[1] 5.000000e-01 1.001451e+04 1.677216e+04 6.074807e-01\n",
       "\n",
       "\n",
       "[[3]]\n",
       "[[3]]$summary\n",
       "[1] 5.000000e-01 9.956962e+03 1.682917e+04 6.052874e-01\n",
       "\n"
      ]
     },
     "metadata": {},
     "output_type": "display_data"
    }
   ],
   "source": [
    "### Below are the output for each fold. Each fold (1,2,3) has the label + its summary for level, avglength, IS, cover\n",
    "### for the fold in that order\n",
    "kFold(3, 123, train)"
   ]
  },
  {
   "cell_type": "code",
   "execution_count": 12,
   "id": "75abe96b-3a2d-41f2-8b31-6ba4ceb9883a",
   "metadata": {},
   "outputs": [
    {
     "data": {
      "text/html": [
       "<ol>\n",
       "\t<li><strong>$summary</strong> = <style>\n",
       ".list-inline {list-style: none; margin:0; padding: 0}\n",
       ".list-inline>li {display: inline-block}\n",
       ".list-inline>li:not(:last-child)::after {content: \"\\00b7\"; padding: 0 .5ex}\n",
       "</style>\n",
       "<ol class=list-inline><li>0.5</li><li>10880.6951065694</li><li>18426.0187235499</li><li>0.579612740499223</li></ol>\n",
       "</li>\n",
       "\t<li><strong>$summary</strong> = <style>\n",
       ".list-inline {list-style: none; margin:0; padding: 0}\n",
       ".list-inline>li {display: inline-block}\n",
       ".list-inline>li:not(:last-child)::after {content: \"\\00b7\"; padding: 0 .5ex}\n",
       "</style>\n",
       "<ol class=list-inline><li>0.5</li><li>10983.5580537094</li><li>18406.0742561134</li><li>0.584672644222636</li></ol>\n",
       "</li>\n",
       "\t<li><strong>$summary</strong> = <style>\n",
       ".list-inline {list-style: none; margin:0; padding: 0}\n",
       ".list-inline>li {display: inline-block}\n",
       ".list-inline>li:not(:last-child)::after {content: \"\\00b7\"; padding: 0 .5ex}\n",
       "</style>\n",
       "<ol class=list-inline><li>0.5</li><li>10943.3004243998</li><li>18533.4902375747</li><li>0.584371443511427</li></ol>\n",
       "</li>\n",
       "</ol>\n"
      ],
      "text/latex": [
       "\\begin{enumerate}\n",
       "\\item \\textbf{\\$summary} = \\begin{enumerate*}\n",
       "\\item 0.5\n",
       "\\item 10880.6951065694\n",
       "\\item 18426.0187235499\n",
       "\\item 0.579612740499223\n",
       "\\end{enumerate*}\n",
       "\n",
       "\\item \\textbf{\\$summary} = \\begin{enumerate*}\n",
       "\\item 0.5\n",
       "\\item 10983.5580537094\n",
       "\\item 18406.0742561134\n",
       "\\item 0.584672644222636\n",
       "\\end{enumerate*}\n",
       "\n",
       "\\item \\textbf{\\$summary} = \\begin{enumerate*}\n",
       "\\item 0.5\n",
       "\\item 10943.3004243998\n",
       "\\item 18533.4902375747\n",
       "\\item 0.584371443511427\n",
       "\\end{enumerate*}\n",
       "\n",
       "\\end{enumerate}\n"
      ],
      "text/markdown": [
       "1. **$summary** = 1. 0.5\n",
       "2. 10880.6951065694\n",
       "3. 18426.0187235499\n",
       "4. 0.579612740499223\n",
       "\n",
       "\n",
       "\n",
       "2. **$summary** = 1. 0.5\n",
       "2. 10983.5580537094\n",
       "3. 18406.0742561134\n",
       "4. 0.584672644222636\n",
       "\n",
       "\n",
       "\n",
       "3. **$summary** = 1. 0.5\n",
       "2. 10943.3004243998\n",
       "3. 18533.4902375747\n",
       "4. 0.584371443511427\n",
       "\n",
       "\n",
       "\n",
       "\n",
       "\n"
      ],
      "text/plain": [
       "[[1]]\n",
       "[[1]]$summary\n",
       "[1] 5.000000e-01 1.088070e+04 1.842602e+04 5.796127e-01\n",
       "\n",
       "\n",
       "[[2]]\n",
       "[[2]]$summary\n",
       "[1] 5.000000e-01 1.098356e+04 1.840607e+04 5.846726e-01\n",
       "\n",
       "\n",
       "[[3]]\n",
       "[[3]]$summary\n",
       "[1] 5.000000e-01 1.094330e+04 1.853349e+04 5.843714e-01\n",
       "\n"
      ]
     },
     "metadata": {},
     "output_type": "display_data"
    }
   ],
   "source": [
    "### Below are the output for each fold. Each fold (1,2,3) has the label + its summary for level, avglength, IS, cover\n",
    "### for the fold in that order\n",
    "kFold(3, 123, feature_selection(train))"
   ]
  },
  {
   "cell_type": "markdown",
   "id": "33d0aa0a-4672-4987-8d91-794786edb5d6",
   "metadata": {},
   "source": [
    "### Training the models\n",
    "Here we train the models and save them for comparison with other methods on the holdout."
   ]
  },
  {
   "cell_type": "code",
   "execution_count": 13,
   "id": "e1c963f8-e947-45f7-abeb-7e356be49802",
   "metadata": {},
   "outputs": [],
   "source": [
    "model_full <- myTrain(train)\n",
    "model_subset<-myTrain(train_subset)\n",
    "saveRDS(model_full, \"05a-lm.rds\")\n",
    "saveRDS(model_subset, \"05a-subsetlm.rds\")"
   ]
  },
  {
   "cell_type": "code",
   "execution_count": null,
   "id": "39beb8ab-0d39-42ac-af72-a75ae0ef1a31",
   "metadata": {},
   "outputs": [],
   "source": [
    "holdo<-readRDS(\"04b-wrangledHoldout.rds\")\n",
    "holdo_subset<- feature_selection(holdo)"
   ]
  },
  {
   "cell_type": "code",
   "execution_count": null,
   "id": "2fa8b38c-a0f6-4dc7-89b1-9f4401b78b7a",
   "metadata": {},
   "outputs": [],
   "source": [
    "model_full <- myTrain(train)\n",
    "model_subset<-myTrain(train_subset)"
   ]
  },
  {
   "cell_type": "code",
   "execution_count": null,
   "id": "9e5972ea-49ed-47fe-b5a2-92fa7a412a49",
   "metadata": {},
   "outputs": [],
   "source": [
    "myPredict= function(model, newdata){\n",
    "    log_price_predict = predict(model, newdata=newdata, interval=\"prediction\", level=0.5)\n",
    "    return(exp(log_price_predict))\n",
    "}"
   ]
  },
  {
   "cell_type": "code",
   "execution_count": null,
   "id": "51511ec8-10d2-4842-b4c1-c46f12f04227",
   "metadata": {},
   "outputs": [],
   "source": [
    "myScore= function(predict, data){\n",
    "    intervalScore(predict, data$price, level = 0.5)\n",
    "    }"
   ]
  },
  {
   "cell_type": "code",
   "execution_count": null,
   "id": "aa670a7e-65b2-45ab-abea-6c029873e52e",
   "metadata": {},
   "outputs": [],
   "source": [
    "model_full <- myTrain(train)\n",
    "model_subset<-myTrain(train_subset)"
   ]
  },
  {
   "cell_type": "code",
   "execution_count": null,
   "id": "8552aac2-b816-4a60-a6fd-75c629cbc09e",
   "metadata": {},
   "outputs": [],
   "source": [
    "prediction_full<- myPredict(model_full, holdo)\n",
    "predict_subset<- myPredict(model_subset, holdo_subset)"
   ]
  },
  {
   "cell_type": "code",
   "execution_count": null,
   "id": "eb8d5403-592b-49c4-bab2-bad0a4160db4",
   "metadata": {},
   "outputs": [],
   "source": [
    "myScore(prediction_full, holdo)"
   ]
  },
  {
   "cell_type": "code",
   "execution_count": null,
   "id": "1b3429cd-ef03-4dff-a608-1d28d8a64cbd",
   "metadata": {},
   "outputs": [],
   "source": [
    "myScore(predict_subset, holdo_subset)"
   ]
  },
  {
   "cell_type": "code",
   "execution_count": null,
   "id": "d72c1ea0-5b5d-43b0-b9a7-4de12f1d3f60",
   "metadata": {},
   "outputs": [],
   "source": []
  },
  {
   "cell_type": "code",
   "execution_count": null,
   "id": "c6588ac8-d574-4522-b69e-610cee21a310",
   "metadata": {},
   "outputs": [],
   "source": []
  }
 ],
 "metadata": {
  "kernelspec": {
   "display_name": "R",
   "language": "R",
   "name": "ir"
  },
  "language_info": {
   "codemirror_mode": "r",
   "file_extension": ".r",
   "mimetype": "text/x-r-source",
   "name": "R",
   "pygments_lexer": "r",
   "version": "4.1.3"
  }
 },
 "nbformat": 4,
 "nbformat_minor": 5
}
