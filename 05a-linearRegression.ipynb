{
 "cells": [
  {
   "cell_type": "code",
   "execution_count": 38,
   "id": "70122093-048e-4968-b6d2-5fff49a5805f",
   "metadata": {},
   "outputs": [],
   "source": [
    "#Import Necessary libraries\n",
    "library('tidyverse')\n",
    "library('dplyr')\n",
    "source('functions.R')"
   ]
  },
  {
   "cell_type": "code",
   "execution_count": 44,
   "id": "9a43f463-7f32-435e-adf1-f92ea9f65e6c",
   "metadata": {},
   "outputs": [],
   "source": [
    "train = readRDS(\"04a-wrangledTrain.rds\")\n",
    "train = train[-84211, ]\n",
    "train_subset = feature_selection(train)"
   ]
  },
  {
   "cell_type": "code",
   "execution_count": 67,
   "id": "bfe43192-89fd-417d-b336-652869d4be8e",
   "metadata": {},
   "outputs": [],
   "source": [
    "myTrain = function(data){\n",
    "    model = lm(log(price)~., data = data)\n",
    "    return(model)\n",
    "}"
   ]
  },
  {
   "cell_type": "code",
   "execution_count": 68,
   "id": "5e1e35d0-3594-43c6-b5e0-49063f463222",
   "metadata": {},
   "outputs": [],
   "source": [
    "myPredict= function(model, newdata){\n",
    "    log_price_predict = predict(model, newdata=newdata, interval=\"prediction\", level=0.5)\n",
    "    return(exp(log_price_predict))\n",
    "}"
   ]
  },
  {
   "cell_type": "code",
   "execution_count": 69,
   "id": "f150ab5c-26d4-45f8-9466-0ff0838b4802",
   "metadata": {},
   "outputs": [],
   "source": [
    "myScore= function(predict, data){\n",
    "    intervalScore(predict, data$price, level = 0.5)\n",
    "    }"
   ]
  },
  {
   "cell_type": "code",
   "execution_count": 70,
   "id": "7331055a-8605-4c17-85e0-7fc5188bb9ec",
   "metadata": {},
   "outputs": [
    {
     "name": "stderr",
     "output_type": "stream",
     "text": [
      "Warning message in predict.lm(model, newdata = newdata, interval = \"prediction\", :\n",
      "\"prediction from a rank-deficient fit may be misleading\"\n"
     ]
    },
    {
     "data": {
      "text/html": [
       "<strong>$summary</strong> = <style>\n",
       ".list-inline {list-style: none; margin:0; padding: 0}\n",
       ".list-inline>li {display: inline-block}\n",
       ".list-inline>li:not(:last-child)::after {content: \"\\00b7\"; padding: 0 .5ex}\n",
       "</style>\n",
       "<ol class=list-inline><li>0.5</li><li>9566.03321359102</li><li>15976.446594566</li><li>0.616698194942147</li></ol>\n"
      ],
      "text/latex": [
       "\\textbf{\\$summary} = \\begin{enumerate*}\n",
       "\\item 0.5\n",
       "\\item 9566.03321359102\n",
       "\\item 15976.446594566\n",
       "\\item 0.616698194942147\n",
       "\\end{enumerate*}\n"
      ],
      "text/markdown": [
       "**$summary** = 1. 0.5\n",
       "2. 9566.03321359102\n",
       "3. 15976.446594566\n",
       "4. 0.616698194942147\n",
       "\n",
       "\n"
      ],
      "text/plain": [
       "$summary\n",
       "[1] 5.000000e-01 9.566033e+03 1.597645e+04 6.166982e-01\n"
      ]
     },
     "metadata": {},
     "output_type": "display_data"
    }
   ],
   "source": [
    "myScore(myPredict(myTrain(train), train), train)"
   ]
  },
  {
   "cell_type": "code",
   "execution_count": 71,
   "id": "f781b695-e651-4453-adbd-d54cafc37e8b",
   "metadata": {},
   "outputs": [
    {
     "name": "stderr",
     "output_type": "stream",
     "text": [
      "Warning message in predict.lm(model, newdata = newdata, interval = \"prediction\", :\n",
      "\"prediction from a rank-deficient fit may be misleading\"\n",
      "Warning message in predict.lm(model, newdata = newdata, interval = \"prediction\", :\n",
      "\"prediction from a rank-deficient fit may be misleading\"\n",
      "Warning message in predict.lm(model, newdata = newdata, interval = \"prediction\", :\n",
      "\"prediction from a rank-deficient fit may be misleading\"\n"
     ]
    },
    {
     "data": {
      "text/html": [
       "<ol>\n",
       "\t<li><strong>$summary</strong> = <style>\n",
       ".list-inline {list-style: none; margin:0; padding: 0}\n",
       ".list-inline>li {display: inline-block}\n",
       ".list-inline>li:not(:last-child)::after {content: \"\\00b7\"; padding: 0 .5ex}\n",
       "</style>\n",
       "<ol class=list-inline><li>0.5</li><li>9585.60291425368</li><li>15955.2302726828</li><li>0.61640085510835</li></ol>\n",
       "</li>\n",
       "\t<li><strong>$summary</strong> = <style>\n",
       ".list-inline {list-style: none; margin:0; padding: 0}\n",
       ".list-inline>li {display: inline-block}\n",
       ".list-inline>li:not(:last-child)::after {content: \"\\00b7\"; padding: 0 .5ex}\n",
       "</style>\n",
       "<ol class=list-inline><li>0.5</li><li>9583.98762013529</li><li>16024.4505345836</li><li>0.615601113486412</li></ol>\n",
       "</li>\n",
       "\t<li><strong>$summary</strong> = <style>\n",
       ".list-inline {list-style: none; margin:0; padding: 0}\n",
       ".list-inline>li {display: inline-block}\n",
       ".list-inline>li:not(:last-child)::after {content: \"\\00b7\"; padding: 0 .5ex}\n",
       "</style>\n",
       "<ol class=list-inline><li>0.5</li><li>9538.21242101976</li><li>16007.5380516676</li><li>0.616554651574107</li></ol>\n",
       "</li>\n",
       "</ol>\n"
      ],
      "text/latex": [
       "\\begin{enumerate}\n",
       "\\item \\textbf{\\$summary} = \\begin{enumerate*}\n",
       "\\item 0.5\n",
       "\\item 9585.60291425368\n",
       "\\item 15955.2302726828\n",
       "\\item 0.61640085510835\n",
       "\\end{enumerate*}\n",
       "\n",
       "\\item \\textbf{\\$summary} = \\begin{enumerate*}\n",
       "\\item 0.5\n",
       "\\item 9583.98762013529\n",
       "\\item 16024.4505345836\n",
       "\\item 0.615601113486412\n",
       "\\end{enumerate*}\n",
       "\n",
       "\\item \\textbf{\\$summary} = \\begin{enumerate*}\n",
       "\\item 0.5\n",
       "\\item 9538.21242101976\n",
       "\\item 16007.5380516676\n",
       "\\item 0.616554651574107\n",
       "\\end{enumerate*}\n",
       "\n",
       "\\end{enumerate}\n"
      ],
      "text/markdown": [
       "1. **$summary** = 1. 0.5\n",
       "2. 9585.60291425368\n",
       "3. 15955.2302726828\n",
       "4. 0.61640085510835\n",
       "\n",
       "\n",
       "\n",
       "2. **$summary** = 1. 0.5\n",
       "2. 9583.98762013529\n",
       "3. 16024.4505345836\n",
       "4. 0.615601113486412\n",
       "\n",
       "\n",
       "\n",
       "3. **$summary** = 1. 0.5\n",
       "2. 9538.21242101976\n",
       "3. 16007.5380516676\n",
       "4. 0.616554651574107\n",
       "\n",
       "\n",
       "\n",
       "\n",
       "\n"
      ],
      "text/plain": [
       "[[1]]\n",
       "[[1]]$summary\n",
       "[1] 5.000000e-01 9.585603e+03 1.595523e+04 6.164009e-01\n",
       "\n",
       "\n",
       "[[2]]\n",
       "[[2]]$summary\n",
       "[1] 5.000000e-01 9.583988e+03 1.602445e+04 6.156011e-01\n",
       "\n",
       "\n",
       "[[3]]\n",
       "[[3]]$summary\n",
       "[1] 5.000000e-01 9.538212e+03 1.600754e+04 6.165547e-01\n",
       "\n"
      ]
     },
     "metadata": {},
     "output_type": "display_data"
    }
   ],
   "source": [
    "kFold(3, 123, train)"
   ]
  },
  {
   "cell_type": "code",
   "execution_count": 72,
   "id": "9e14c764-d9f3-4969-a666-35f4c0156b15",
   "metadata": {},
   "outputs": [
    {
     "data": {
      "text/html": [
       "<ol>\n",
       "\t<li><strong>$summary</strong> = <style>\n",
       ".list-inline {list-style: none; margin:0; padding: 0}\n",
       ".list-inline>li {display: inline-block}\n",
       ".list-inline>li:not(:last-child)::after {content: \"\\00b7\"; padding: 0 .5ex}\n",
       "</style>\n",
       "<ol class=list-inline><li>0.5</li><li>10820.2482337972</li><li>18141.8343007202</li><li>0.596145860568124</li></ol>\n",
       "</li>\n",
       "\t<li><strong>$summary</strong> = <style>\n",
       ".list-inline {list-style: none; margin:0; padding: 0}\n",
       ".list-inline>li {display: inline-block}\n",
       ".list-inline>li:not(:last-child)::after {content: \"\\00b7\"; padding: 0 .5ex}\n",
       "</style>\n",
       "<ol class=list-inline><li>0.5</li><li>10834.4551219503</li><li>18211.7466163355</li><li>0.594238784392735</li></ol>\n",
       "</li>\n",
       "\t<li><strong>$summary</strong> = <style>\n",
       ".list-inline {list-style: none; margin:0; padding: 0}\n",
       ".list-inline>li {display: inline-block}\n",
       ".list-inline>li:not(:last-child)::after {content: \"\\00b7\"; padding: 0 .5ex}\n",
       "</style>\n",
       "<ol class=list-inline><li>0.5</li><li>10762.4855483368</li><li>18219.5212691445</li><li>0.590609187800864</li></ol>\n",
       "</li>\n",
       "</ol>\n"
      ],
      "text/latex": [
       "\\begin{enumerate}\n",
       "\\item \\textbf{\\$summary} = \\begin{enumerate*}\n",
       "\\item 0.5\n",
       "\\item 10820.2482337972\n",
       "\\item 18141.8343007202\n",
       "\\item 0.596145860568124\n",
       "\\end{enumerate*}\n",
       "\n",
       "\\item \\textbf{\\$summary} = \\begin{enumerate*}\n",
       "\\item 0.5\n",
       "\\item 10834.4551219503\n",
       "\\item 18211.7466163355\n",
       "\\item 0.594238784392735\n",
       "\\end{enumerate*}\n",
       "\n",
       "\\item \\textbf{\\$summary} = \\begin{enumerate*}\n",
       "\\item 0.5\n",
       "\\item 10762.4855483368\n",
       "\\item 18219.5212691445\n",
       "\\item 0.590609187800864\n",
       "\\end{enumerate*}\n",
       "\n",
       "\\end{enumerate}\n"
      ],
      "text/markdown": [
       "1. **$summary** = 1. 0.5\n",
       "2. 10820.2482337972\n",
       "3. 18141.8343007202\n",
       "4. 0.596145860568124\n",
       "\n",
       "\n",
       "\n",
       "2. **$summary** = 1. 0.5\n",
       "2. 10834.4551219503\n",
       "3. 18211.7466163355\n",
       "4. 0.594238784392735\n",
       "\n",
       "\n",
       "\n",
       "3. **$summary** = 1. 0.5\n",
       "2. 10762.4855483368\n",
       "3. 18219.5212691445\n",
       "4. 0.590609187800864\n",
       "\n",
       "\n",
       "\n",
       "\n",
       "\n"
      ],
      "text/plain": [
       "[[1]]\n",
       "[[1]]$summary\n",
       "[1] 5.000000e-01 1.082025e+04 1.814183e+04 5.961459e-01\n",
       "\n",
       "\n",
       "[[2]]\n",
       "[[2]]$summary\n",
       "[1] 5.000000e-01 1.083446e+04 1.821175e+04 5.942388e-01\n",
       "\n",
       "\n",
       "[[3]]\n",
       "[[3]]$summary\n",
       "[1] 5.000000e-01 1.076249e+04 1.821952e+04 5.906092e-01\n",
       "\n"
      ]
     },
     "metadata": {},
     "output_type": "display_data"
    }
   ],
   "source": [
    "kFold(3, 123, feature_selection(train))"
   ]
  },
  {
   "cell_type": "code",
   "execution_count": 73,
   "id": "eccd2eb9-d848-4f93-b108-bb3071f0a12d",
   "metadata": {},
   "outputs": [],
   "source": [
    "myPredict= function(model, newdata){\n",
    "    log_price_predict = predict(model, newdata=newdata, interval=\"prediction\", level=0.8)\n",
    "    return(exp(log_price_predict))\n",
    "}"
   ]
  },
  {
   "cell_type": "code",
   "execution_count": 74,
   "id": "9d66b385-0ebd-49d2-8f74-c3e59df3abee",
   "metadata": {},
   "outputs": [],
   "source": [
    "myScore= function(predict, data){\n",
    "    intervalScore(predict, data$price, level = 0.8)\n",
    "    }"
   ]
  },
  {
   "cell_type": "code",
   "execution_count": 75,
   "id": "cf84b9ba-85d8-43ab-bc42-1d16ff6d2a98",
   "metadata": {},
   "outputs": [
    {
     "name": "stderr",
     "output_type": "stream",
     "text": [
      "Warning message in predict.lm(model, newdata = newdata, interval = \"prediction\", :\n",
      "\"prediction from a rank-deficient fit may be misleading\"\n",
      "Warning message in predict.lm(model, newdata = newdata, interval = \"prediction\", :\n",
      "\"prediction from a rank-deficient fit may be misleading\"\n",
      "Warning message in predict.lm(model, newdata = newdata, interval = \"prediction\", :\n",
      "\"prediction from a rank-deficient fit may be misleading\"\n"
     ]
    },
    {
     "data": {
      "text/html": [
       "<ol>\n",
       "\t<li><strong>$summary</strong> = <style>\n",
       ".list-inline {list-style: none; margin:0; padding: 0}\n",
       ".list-inline>li {display: inline-block}\n",
       ".list-inline>li:not(:last-child)::after {content: \"\\00b7\"; padding: 0 .5ex}\n",
       "</style>\n",
       "<ol class=list-inline><li>0.8</li><li>18783.1417829887</li><li>25059.8127355329</li><li>0.860229771919841</li></ol>\n",
       "</li>\n",
       "\t<li><strong>$summary</strong> = <style>\n",
       ".list-inline {list-style: none; margin:0; padding: 0}\n",
       ".list-inline>li {display: inline-block}\n",
       ".list-inline>li:not(:last-child)::after {content: \"\\00b7\"; padding: 0 .5ex}\n",
       "</style>\n",
       "<ol class=list-inline><li>0.8</li><li>18781.8587329074</li><li>25114.1919667824</li><li>0.858860983374602</li></ol>\n",
       "</li>\n",
       "\t<li><strong>$summary</strong> = <style>\n",
       ".list-inline {list-style: none; margin:0; padding: 0}\n",
       ".list-inline>li {display: inline-block}\n",
       ".list-inline>li:not(:last-child)::after {content: \"\\00b7\"; padding: 0 .5ex}\n",
       "</style>\n",
       "<ol class=list-inline><li>0.8</li><li>18689.8771855728</li><li>25110.1581217252</li><li>0.85764599129512</li></ol>\n",
       "</li>\n",
       "</ol>\n"
      ],
      "text/latex": [
       "\\begin{enumerate}\n",
       "\\item \\textbf{\\$summary} = \\begin{enumerate*}\n",
       "\\item 0.8\n",
       "\\item 18783.1417829887\n",
       "\\item 25059.8127355329\n",
       "\\item 0.860229771919841\n",
       "\\end{enumerate*}\n",
       "\n",
       "\\item \\textbf{\\$summary} = \\begin{enumerate*}\n",
       "\\item 0.8\n",
       "\\item 18781.8587329074\n",
       "\\item 25114.1919667824\n",
       "\\item 0.858860983374602\n",
       "\\end{enumerate*}\n",
       "\n",
       "\\item \\textbf{\\$summary} = \\begin{enumerate*}\n",
       "\\item 0.8\n",
       "\\item 18689.8771855728\n",
       "\\item 25110.1581217252\n",
       "\\item 0.85764599129512\n",
       "\\end{enumerate*}\n",
       "\n",
       "\\end{enumerate}\n"
      ],
      "text/markdown": [
       "1. **$summary** = 1. 0.8\n",
       "2. 18783.1417829887\n",
       "3. 25059.8127355329\n",
       "4. 0.860229771919841\n",
       "\n",
       "\n",
       "\n",
       "2. **$summary** = 1. 0.8\n",
       "2. 18781.8587329074\n",
       "3. 25114.1919667824\n",
       "4. 0.858860983374602\n",
       "\n",
       "\n",
       "\n",
       "3. **$summary** = 1. 0.8\n",
       "2. 18689.8771855728\n",
       "3. 25110.1581217252\n",
       "4. 0.85764599129512\n",
       "\n",
       "\n",
       "\n",
       "\n",
       "\n"
      ],
      "text/plain": [
       "[[1]]\n",
       "[[1]]$summary\n",
       "[1] 8.000000e-01 1.878314e+04 2.505981e+04 8.602298e-01\n",
       "\n",
       "\n",
       "[[2]]\n",
       "[[2]]$summary\n",
       "[1]     0.800000 18781.858733 25114.191967     0.858861\n",
       "\n",
       "\n",
       "[[3]]\n",
       "[[3]]$summary\n",
       "[1]     0.800000 18689.877186 25110.158122     0.857646\n",
       "\n"
      ]
     },
     "metadata": {},
     "output_type": "display_data"
    }
   ],
   "source": [
    "kFold(3, 123, train)"
   ]
  },
  {
   "cell_type": "code",
   "execution_count": 76,
   "id": "75abe96b-3a2d-41f2-8b31-6ba4ceb9883a",
   "metadata": {},
   "outputs": [
    {
     "data": {
      "text/html": [
       "<ol>\n",
       "\t<li><strong>$summary</strong> = <style>\n",
       ".list-inline {list-style: none; margin:0; padding: 0}\n",
       ".list-inline>li {display: inline-block}\n",
       ".list-inline>li:not(:last-child)::after {content: \"\\00b7\"; padding: 0 .5ex}\n",
       "</style>\n",
       "<ol class=list-inline><li>0.8</li><li>21417.8453415659</li><li>28609.3833594657</li><li>0.849371741437382</li></ol>\n",
       "</li>\n",
       "\t<li><strong>$summary</strong> = <style>\n",
       ".list-inline {list-style: none; margin:0; padding: 0}\n",
       ".list-inline>li {display: inline-block}\n",
       ".list-inline>li:not(:last-child)::after {content: \"\\00b7\"; padding: 0 .5ex}\n",
       "</style>\n",
       "<ol class=list-inline><li>0.8</li><li>21447.8791930045</li><li>28608.5949283043</li><li>0.848987250272989</li></ol>\n",
       "</li>\n",
       "\t<li><strong>$summary</strong> = <style>\n",
       ".list-inline {list-style: none; margin:0; padding: 0}\n",
       ".list-inline>li {display: inline-block}\n",
       ".list-inline>li:not(:last-child)::after {content: \"\\00b7\"; padding: 0 .5ex}\n",
       "</style>\n",
       "<ol class=list-inline><li>0.8</li><li>21297.2494500134</li><li>28727.45201728</li><li>0.847295489149659</li></ol>\n",
       "</li>\n",
       "</ol>\n"
      ],
      "text/latex": [
       "\\begin{enumerate}\n",
       "\\item \\textbf{\\$summary} = \\begin{enumerate*}\n",
       "\\item 0.8\n",
       "\\item 21417.8453415659\n",
       "\\item 28609.3833594657\n",
       "\\item 0.849371741437382\n",
       "\\end{enumerate*}\n",
       "\n",
       "\\item \\textbf{\\$summary} = \\begin{enumerate*}\n",
       "\\item 0.8\n",
       "\\item 21447.8791930045\n",
       "\\item 28608.5949283043\n",
       "\\item 0.848987250272989\n",
       "\\end{enumerate*}\n",
       "\n",
       "\\item \\textbf{\\$summary} = \\begin{enumerate*}\n",
       "\\item 0.8\n",
       "\\item 21297.2494500134\n",
       "\\item 28727.45201728\n",
       "\\item 0.847295489149659\n",
       "\\end{enumerate*}\n",
       "\n",
       "\\end{enumerate}\n"
      ],
      "text/markdown": [
       "1. **$summary** = 1. 0.8\n",
       "2. 21417.8453415659\n",
       "3. 28609.3833594657\n",
       "4. 0.849371741437382\n",
       "\n",
       "\n",
       "\n",
       "2. **$summary** = 1. 0.8\n",
       "2. 21447.8791930045\n",
       "3. 28608.5949283043\n",
       "4. 0.848987250272989\n",
       "\n",
       "\n",
       "\n",
       "3. **$summary** = 1. 0.8\n",
       "2. 21297.2494500134\n",
       "3. 28727.45201728\n",
       "4. 0.847295489149659\n",
       "\n",
       "\n",
       "\n",
       "\n",
       "\n"
      ],
      "text/plain": [
       "[[1]]\n",
       "[[1]]$summary\n",
       "[1] 8.000000e-01 2.141785e+04 2.860938e+04 8.493717e-01\n",
       "\n",
       "\n",
       "[[2]]\n",
       "[[2]]$summary\n",
       "[1] 8.000000e-01 2.144788e+04 2.860859e+04 8.489873e-01\n",
       "\n",
       "\n",
       "[[3]]\n",
       "[[3]]$summary\n",
       "[1] 8.000000e-01 2.129725e+04 2.872745e+04 8.472955e-01\n",
       "\n"
      ]
     },
     "metadata": {},
     "output_type": "display_data"
    }
   ],
   "source": [
    "kFold(3, 123, feature_selection(train))"
   ]
  },
  {
   "cell_type": "code",
   "execution_count": null,
   "id": "62c78012-0cf2-4ff4-8115-c835abe0381c",
   "metadata": {},
   "outputs": [],
   "source": []
  },
  {
   "cell_type": "code",
   "execution_count": null,
   "id": "e1c963f8-e947-45f7-abeb-7e356be49802",
   "metadata": {},
   "outputs": [],
   "source": []
  },
  {
   "cell_type": "markdown",
   "id": "89e37835-0495-4978-b9ce-dde8b5fc7707",
   "metadata": {},
   "source": [
    "#### holdout result"
   ]
  },
  {
   "cell_type": "code",
   "execution_count": 77,
   "id": "39beb8ab-0d39-42ac-af72-a75ae0ef1a31",
   "metadata": {},
   "outputs": [],
   "source": [
    "holdo<-readRDS(\"04b-wrangledHoldout.rds\")\n",
    "holdo_subset<- feature_selection(holdo)"
   ]
  },
  {
   "cell_type": "code",
   "execution_count": 78,
   "id": "2fa8b38c-a0f6-4dc7-89b1-9f4401b78b7a",
   "metadata": {},
   "outputs": [],
   "source": [
    "model_full <- myTrain(train)\n",
    "model_subset<-myTrain(train_subset)"
   ]
  },
  {
   "cell_type": "code",
   "execution_count": 79,
   "id": "9e5972ea-49ed-47fe-b5a2-92fa7a412a49",
   "metadata": {},
   "outputs": [],
   "source": [
    "myPredict= function(model, newdata){\n",
    "    log_price_predict = predict(model, newdata=newdata, interval=\"prediction\", level=0.5)\n",
    "    return(exp(log_price_predict))\n",
    "}"
   ]
  },
  {
   "cell_type": "code",
   "execution_count": 80,
   "id": "51511ec8-10d2-4842-b4c1-c46f12f04227",
   "metadata": {},
   "outputs": [],
   "source": [
    "myScore= function(predict, data){\n",
    "    intervalScore(predict, data$price, level = 0.5)\n",
    "    }"
   ]
  },
  {
   "cell_type": "code",
   "execution_count": 81,
   "id": "aa670a7e-65b2-45ab-abea-6c029873e52e",
   "metadata": {},
   "outputs": [],
   "source": [
    "model_full <- myTrain(train)\n",
    "model_subset<-myTrain(train_subset)"
   ]
  },
  {
   "cell_type": "code",
   "execution_count": 82,
   "id": "8552aac2-b816-4a60-a6fd-75c629cbc09e",
   "metadata": {},
   "outputs": [
    {
     "name": "stderr",
     "output_type": "stream",
     "text": [
      "Warning message in predict.lm(model, newdata = newdata, interval = \"prediction\", :\n",
      "\"prediction from a rank-deficient fit may be misleading\"\n"
     ]
    }
   ],
   "source": [
    "prediction_full<- myPredict(model_full, holdo)\n",
    "predict_subset<- myPredict(model_subset, holdo_subset)"
   ]
  },
  {
   "cell_type": "code",
   "execution_count": 83,
   "id": "eb8d5403-592b-49c4-bab2-bad0a4160db4",
   "metadata": {},
   "outputs": [
    {
     "data": {
      "text/html": [
       "<strong>$summary</strong> = <style>\n",
       ".list-inline {list-style: none; margin:0; padding: 0}\n",
       ".list-inline>li {display: inline-block}\n",
       ".list-inline>li:not(:last-child)::after {content: \"\\00b7\"; padding: 0 .5ex}\n",
       "</style>\n",
       "<ol class=list-inline><li>0.5</li><li>9536.46563210455</li><li>15820.0630928727</li><li>0.614218923020137</li></ol>\n"
      ],
      "text/latex": [
       "\\textbf{\\$summary} = \\begin{enumerate*}\n",
       "\\item 0.5\n",
       "\\item 9536.46563210455\n",
       "\\item 15820.0630928727\n",
       "\\item 0.614218923020137\n",
       "\\end{enumerate*}\n"
      ],
      "text/markdown": [
       "**$summary** = 1. 0.5\n",
       "2. 9536.46563210455\n",
       "3. 15820.0630928727\n",
       "4. 0.614218923020137\n",
       "\n",
       "\n"
      ],
      "text/plain": [
       "$summary\n",
       "[1] 5.000000e-01 9.536466e+03 1.582006e+04 6.142189e-01\n"
      ]
     },
     "metadata": {},
     "output_type": "display_data"
    }
   ],
   "source": [
    "myScore(prediction_full, holdo)"
   ]
  },
  {
   "cell_type": "code",
   "execution_count": 84,
   "id": "1b3429cd-ef03-4dff-a608-1d28d8a64cbd",
   "metadata": {},
   "outputs": [
    {
     "data": {
      "text/html": [
       "<strong>$summary</strong> = <style>\n",
       ".list-inline {list-style: none; margin:0; padding: 0}\n",
       ".list-inline>li {display: inline-block}\n",
       ".list-inline>li:not(:last-child)::after {content: \"\\00b7\"; padding: 0 .5ex}\n",
       "</style>\n",
       "<ol class=list-inline><li>0.5</li><li>10767.2297687533</li><li>17982.6337460451</li><li>0.591949308944757</li></ol>\n"
      ],
      "text/latex": [
       "\\textbf{\\$summary} = \\begin{enumerate*}\n",
       "\\item 0.5\n",
       "\\item 10767.2297687533\n",
       "\\item 17982.6337460451\n",
       "\\item 0.591949308944757\n",
       "\\end{enumerate*}\n"
      ],
      "text/markdown": [
       "**$summary** = 1. 0.5\n",
       "2. 10767.2297687533\n",
       "3. 17982.6337460451\n",
       "4. 0.591949308944757\n",
       "\n",
       "\n"
      ],
      "text/plain": [
       "$summary\n",
       "[1] 5.000000e-01 1.076723e+04 1.798263e+04 5.919493e-01\n"
      ]
     },
     "metadata": {},
     "output_type": "display_data"
    }
   ],
   "source": [
    "myScore(predict_subset, holdo_subset)"
   ]
  },
  {
   "cell_type": "code",
   "execution_count": null,
   "id": "d72c1ea0-5b5d-43b0-b9a7-4de12f1d3f60",
   "metadata": {},
   "outputs": [],
   "source": []
  },
  {
   "cell_type": "code",
   "execution_count": null,
   "id": "c6588ac8-d574-4522-b69e-610cee21a310",
   "metadata": {},
   "outputs": [],
   "source": []
  }
 ],
 "metadata": {
  "kernelspec": {
   "display_name": "R",
   "language": "R",
   "name": "ir"
  },
  "language_info": {
   "codemirror_mode": "r",
   "file_extension": ".r",
   "mimetype": "text/x-r-source",
   "name": "R",
   "pygments_lexer": "r",
   "version": "4.1.3"
  }
 },
 "nbformat": 4,
 "nbformat_minor": 5
}
