{
 "cells": [
  {
   "cell_type": "code",
   "execution_count": 146,
   "id": "70122093-048e-4968-b6d2-5fff49a5805f",
   "metadata": {},
   "outputs": [],
   "source": [
    "#Import Necessary libraries\n",
    "library('tidyverse')\n",
    "library('dplyr')\n",
    "source('functions.R')"
   ]
  },
  {
   "cell_type": "code",
   "execution_count": 147,
   "id": "a52b8310-d121-404e-ab08-7395bd50f49f",
   "metadata": {},
   "outputs": [],
   "source": [
    "train = readRDS(\"04a-wrangledTrain.rds\")\n",
    "train_subset = feature_selection(train)"
   ]
  },
  {
   "cell_type": "code",
   "execution_count": 148,
   "id": "bfe43192-89fd-417d-b336-652869d4be8e",
   "metadata": {},
   "outputs": [],
   "source": [
    "myTrain = function(data){\n",
    "    model = lm(log(price)~., data = data)\n",
    "    return(model)\n",
    "}"
   ]
  },
  {
   "cell_type": "code",
   "execution_count": 149,
   "id": "5e1e35d0-3594-43c6-b5e0-49063f463222",
   "metadata": {},
   "outputs": [],
   "source": [
    "myPredict= function(model, newdata){\n",
    "    log_price_predict = predict(model, newdata=newdata, interval=\"prediction\", level=0.5)\n",
    "    return(exp(log_price_predict))\n",
    "}"
   ]
  },
  {
   "cell_type": "code",
   "execution_count": 150,
   "id": "f150ab5c-26d4-45f8-9466-0ff0838b4802",
   "metadata": {},
   "outputs": [],
   "source": [
    "myScore= function(predict, data){\n",
    "    intervalScore(predict, data$price, level = 0.5)\n",
    "    }"
   ]
  },
  {
   "cell_type": "code",
   "execution_count": 153,
   "id": "f781b695-e651-4453-adbd-d54cafc37e8b",
   "metadata": {},
   "outputs": [
    {
     "data": {
      "text/html": [
       "<ol>\n",
       "\t<li><strong>$summary</strong> = <style>\n",
       ".list-inline {list-style: none; margin:0; padding: 0}\n",
       ".list-inline>li {display: inline-block}\n",
       ".list-inline>li:not(:last-child)::after {content: \"\\00b7\"; padding: 0 .5ex}\n",
       "</style>\n",
       "<ol class=list-inline><li>0.5</li><li>9916.91282182387</li><li>16711.9235934107</li><li>0.605988834376586</li></ol>\n",
       "</li>\n",
       "\t<li><strong>$summary</strong> = <style>\n",
       ".list-inline {list-style: none; margin:0; padding: 0}\n",
       ".list-inline>li {display: inline-block}\n",
       ".list-inline>li:not(:last-child)::after {content: \"\\00b7\"; padding: 0 .5ex}\n",
       "</style>\n",
       "<ol class=list-inline><li>0.5</li><li>10014.5057785638</li><li>16772.1575640086</li><li>0.607480660094431</li></ol>\n",
       "</li>\n",
       "\t<li><strong>$summary</strong> = <style>\n",
       ".list-inline {list-style: none; margin:0; padding: 0}\n",
       ".list-inline>li {display: inline-block}\n",
       ".list-inline>li:not(:last-child)::after {content: \"\\00b7\"; padding: 0 .5ex}\n",
       "</style>\n",
       "<ol class=list-inline><li>0.5</li><li>9956.96168927055</li><li>16829.1717360512</li><li>0.605287441173757</li></ol>\n",
       "</li>\n",
       "</ol>\n"
      ],
      "text/latex": [
       "\\begin{enumerate}\n",
       "\\item \\textbf{\\$summary} = \\begin{enumerate*}\n",
       "\\item 0.5\n",
       "\\item 9916.91282182387\n",
       "\\item 16711.9235934107\n",
       "\\item 0.605988834376586\n",
       "\\end{enumerate*}\n",
       "\n",
       "\\item \\textbf{\\$summary} = \\begin{enumerate*}\n",
       "\\item 0.5\n",
       "\\item 10014.5057785638\n",
       "\\item 16772.1575640086\n",
       "\\item 0.607480660094431\n",
       "\\end{enumerate*}\n",
       "\n",
       "\\item \\textbf{\\$summary} = \\begin{enumerate*}\n",
       "\\item 0.5\n",
       "\\item 9956.96168927055\n",
       "\\item 16829.1717360512\n",
       "\\item 0.605287441173757\n",
       "\\end{enumerate*}\n",
       "\n",
       "\\end{enumerate}\n"
      ],
      "text/markdown": [
       "1. **$summary** = 1. 0.5\n",
       "2. 9916.91282182387\n",
       "3. 16711.9235934107\n",
       "4. 0.605988834376586\n",
       "\n",
       "\n",
       "\n",
       "2. **$summary** = 1. 0.5\n",
       "2. 10014.5057785638\n",
       "3. 16772.1575640086\n",
       "4. 0.607480660094431\n",
       "\n",
       "\n",
       "\n",
       "3. **$summary** = 1. 0.5\n",
       "2. 9956.96168927055\n",
       "3. 16829.1717360512\n",
       "4. 0.605287441173757\n",
       "\n",
       "\n",
       "\n",
       "\n",
       "\n"
      ],
      "text/plain": [
       "[[1]]\n",
       "[[1]]$summary\n",
       "[1] 5.000000e-01 9.916913e+03 1.671192e+04 6.059888e-01\n",
       "\n",
       "\n",
       "[[2]]\n",
       "[[2]]$summary\n",
       "[1] 5.000000e-01 1.001451e+04 1.677216e+04 6.074807e-01\n",
       "\n",
       "\n",
       "[[3]]\n",
       "[[3]]$summary\n",
       "[1] 5.000000e-01 9.956962e+03 1.682917e+04 6.052874e-01\n",
       "\n"
      ]
     },
     "metadata": {},
     "output_type": "display_data"
    }
   ],
   "source": [
    "kFold(3, 123, train)"
   ]
  },
  {
   "cell_type": "code",
   "execution_count": 154,
   "id": "9e14c764-d9f3-4969-a666-35f4c0156b15",
   "metadata": {},
   "outputs": [
    {
     "data": {
      "text/html": [
       "<ol>\n",
       "\t<li><strong>$summary</strong> = <style>\n",
       ".list-inline {list-style: none; margin:0; padding: 0}\n",
       ".list-inline>li {display: inline-block}\n",
       ".list-inline>li:not(:last-child)::after {content: \"\\00b7\"; padding: 0 .5ex}\n",
       "</style>\n",
       "<ol class=list-inline><li>0.5</li><li>10991.4809181807</li><li>18758.4375347317</li><li>0.584426569877424</li></ol>\n",
       "</li>\n",
       "\t<li><strong>$summary</strong> = <style>\n",
       ".list-inline {list-style: none; margin:0; padding: 0}\n",
       ".list-inline>li {display: inline-block}\n",
       ".list-inline>li:not(:last-child)::after {content: \"\\00b7\"; padding: 0 .5ex}\n",
       "</style>\n",
       "<ol class=list-inline><li>0.5</li><li>11113.3059434467</li><li>18688.5298972364</li><li>0.589701788652897</li></ol>\n",
       "</li>\n",
       "\t<li><strong>$summary</strong> = <style>\n",
       ".list-inline {list-style: none; margin:0; padding: 0}\n",
       ".list-inline>li {display: inline-block}\n",
       ".list-inline>li:not(:last-child)::after {content: \"\\00b7\"; padding: 0 .5ex}\n",
       "</style>\n",
       "<ol class=list-inline><li>0.5</li><li>11066.6574254808</li><li>18900.2533570072</li><li>0.585463381624681</li></ol>\n",
       "</li>\n",
       "</ol>\n"
      ],
      "text/latex": [
       "\\begin{enumerate}\n",
       "\\item \\textbf{\\$summary} = \\begin{enumerate*}\n",
       "\\item 0.5\n",
       "\\item 10991.4809181807\n",
       "\\item 18758.4375347317\n",
       "\\item 0.584426569877424\n",
       "\\end{enumerate*}\n",
       "\n",
       "\\item \\textbf{\\$summary} = \\begin{enumerate*}\n",
       "\\item 0.5\n",
       "\\item 11113.3059434467\n",
       "\\item 18688.5298972364\n",
       "\\item 0.589701788652897\n",
       "\\end{enumerate*}\n",
       "\n",
       "\\item \\textbf{\\$summary} = \\begin{enumerate*}\n",
       "\\item 0.5\n",
       "\\item 11066.6574254808\n",
       "\\item 18900.2533570072\n",
       "\\item 0.585463381624681\n",
       "\\end{enumerate*}\n",
       "\n",
       "\\end{enumerate}\n"
      ],
      "text/markdown": [
       "1. **$summary** = 1. 0.5\n",
       "2. 10991.4809181807\n",
       "3. 18758.4375347317\n",
       "4. 0.584426569877424\n",
       "\n",
       "\n",
       "\n",
       "2. **$summary** = 1. 0.5\n",
       "2. 11113.3059434467\n",
       "3. 18688.5298972364\n",
       "4. 0.589701788652897\n",
       "\n",
       "\n",
       "\n",
       "3. **$summary** = 1. 0.5\n",
       "2. 11066.6574254808\n",
       "3. 18900.2533570072\n",
       "4. 0.585463381624681\n",
       "\n",
       "\n",
       "\n",
       "\n",
       "\n"
      ],
      "text/plain": [
       "[[1]]\n",
       "[[1]]$summary\n",
       "[1] 5.000000e-01 1.099148e+04 1.875844e+04 5.844266e-01\n",
       "\n",
       "\n",
       "[[2]]\n",
       "[[2]]$summary\n",
       "[1] 5.000000e-01 1.111331e+04 1.868853e+04 5.897018e-01\n",
       "\n",
       "\n",
       "[[3]]\n",
       "[[3]]$summary\n",
       "[1] 5.000000e-01 1.106666e+04 1.890025e+04 5.854634e-01\n",
       "\n"
      ]
     },
     "metadata": {},
     "output_type": "display_data"
    }
   ],
   "source": [
    "kFold(3, 123, feature_selection(train))"
   ]
  },
  {
   "cell_type": "code",
   "execution_count": 155,
   "id": "eccd2eb9-d848-4f93-b108-bb3071f0a12d",
   "metadata": {},
   "outputs": [],
   "source": [
    "myPredict= function(model, newdata){\n",
    "    log_price_predict = predict(model, newdata=newdata, interval=\"prediction\", level=0.8)\n",
    "    return(exp(log_price_predict))\n",
    "}"
   ]
  },
  {
   "cell_type": "code",
   "execution_count": 156,
   "id": "9d66b385-0ebd-49d2-8f74-c3e59df3abee",
   "metadata": {},
   "outputs": [],
   "source": [
    "myScore= function(predict, data){\n",
    "    intervalScore(predict, data$price, level = 0.8)\n",
    "    }"
   ]
  },
  {
   "cell_type": "code",
   "execution_count": 157,
   "id": "cf84b9ba-85d8-43ab-bc42-1d16ff6d2a98",
   "metadata": {},
   "outputs": [
    {
     "data": {
      "text/html": [
       "<ol>\n",
       "\t<li><strong>$summary</strong> = <style>\n",
       ".list-inline {list-style: none; margin:0; padding: 0}\n",
       ".list-inline>li {display: inline-block}\n",
       ".list-inline>li:not(:last-child)::after {content: \"\\00b7\"; padding: 0 .5ex}\n",
       "</style>\n",
       "<ol class=list-inline><li>0.8</li><li>19487.0314554108</li><li>26168.8443604916</li><li>0.856200304517002</li></ol>\n",
       "</li>\n",
       "\t<li><strong>$summary</strong> = <style>\n",
       ".list-inline {list-style: none; margin:0; padding: 0}\n",
       ".list-inline>li {display: inline-block}\n",
       ".list-inline>li:not(:last-child)::after {content: \"\\00b7\"; padding: 0 .5ex}\n",
       "</style>\n",
       "<ol class=list-inline><li>0.8</li><li>19681.7407183973</li><li>26175.0167181884</li><li>0.855708155826579</li></ol>\n",
       "</li>\n",
       "\t<li><strong>$summary</strong> = <style>\n",
       ".list-inline {list-style: none; margin:0; padding: 0}\n",
       ".list-inline>li {display: inline-block}\n",
       ".list-inline>li:not(:last-child)::after {content: \"\\00b7\"; padding: 0 .5ex}\n",
       "</style>\n",
       "<ol class=list-inline><li>0.8</li><li>19566.6381186901</li><li>26306.7292446107</li><li>0.854080157485159</li></ol>\n",
       "</li>\n",
       "</ol>\n"
      ],
      "text/latex": [
       "\\begin{enumerate}\n",
       "\\item \\textbf{\\$summary} = \\begin{enumerate*}\n",
       "\\item 0.8\n",
       "\\item 19487.0314554108\n",
       "\\item 26168.8443604916\n",
       "\\item 0.856200304517002\n",
       "\\end{enumerate*}\n",
       "\n",
       "\\item \\textbf{\\$summary} = \\begin{enumerate*}\n",
       "\\item 0.8\n",
       "\\item 19681.7407183973\n",
       "\\item 26175.0167181884\n",
       "\\item 0.855708155826579\n",
       "\\end{enumerate*}\n",
       "\n",
       "\\item \\textbf{\\$summary} = \\begin{enumerate*}\n",
       "\\item 0.8\n",
       "\\item 19566.6381186901\n",
       "\\item 26306.7292446107\n",
       "\\item 0.854080157485159\n",
       "\\end{enumerate*}\n",
       "\n",
       "\\end{enumerate}\n"
      ],
      "text/markdown": [
       "1. **$summary** = 1. 0.8\n",
       "2. 19487.0314554108\n",
       "3. 26168.8443604916\n",
       "4. 0.856200304517002\n",
       "\n",
       "\n",
       "\n",
       "2. **$summary** = 1. 0.8\n",
       "2. 19681.7407183973\n",
       "3. 26175.0167181884\n",
       "4. 0.855708155826579\n",
       "\n",
       "\n",
       "\n",
       "3. **$summary** = 1. 0.8\n",
       "2. 19566.6381186901\n",
       "3. 26306.7292446107\n",
       "4. 0.854080157485159\n",
       "\n",
       "\n",
       "\n",
       "\n",
       "\n"
      ],
      "text/plain": [
       "[[1]]\n",
       "[[1]]$summary\n",
       "[1] 8.000000e-01 1.948703e+04 2.616884e+04 8.562003e-01\n",
       "\n",
       "\n",
       "[[2]]\n",
       "[[2]]$summary\n",
       "[1] 8.000000e-01 1.968174e+04 2.617502e+04 8.557082e-01\n",
       "\n",
       "\n",
       "[[3]]\n",
       "[[3]]$summary\n",
       "[1] 8.000000e-01 1.956664e+04 2.630673e+04 8.540802e-01\n",
       "\n"
      ]
     },
     "metadata": {},
     "output_type": "display_data"
    }
   ],
   "source": [
    "kFold(3, 123, train)"
   ]
  },
  {
   "cell_type": "code",
   "execution_count": 158,
   "id": "75abe96b-3a2d-41f2-8b31-6ba4ceb9883a",
   "metadata": {},
   "outputs": [
    {
     "data": {
      "text/html": [
       "<ol>\n",
       "\t<li><strong>$summary</strong> = <style>\n",
       ".list-inline {list-style: none; margin:0; padding: 0}\n",
       ".list-inline>li {display: inline-block}\n",
       ".list-inline>li:not(:last-child)::after {content: \"\\00b7\"; padding: 0 .5ex}\n",
       "</style>\n",
       "<ol class=list-inline><li>0.8</li><li>21803.1722319937</li><li>29586.3877094256</li><li>0.84369665185094</li></ol>\n",
       "</li>\n",
       "\t<li><strong>$summary</strong> = <style>\n",
       ".list-inline {list-style: none; margin:0; padding: 0}\n",
       ".list-inline>li {display: inline-block}\n",
       ".list-inline>li:not(:last-child)::after {content: \"\\00b7\"; padding: 0 .5ex}\n",
       "</style>\n",
       "<ol class=list-inline><li>0.8</li><li>22055.8167013332</li><li>29362.4460911112</li><li>0.848387444056536</li></ol>\n",
       "</li>\n",
       "\t<li><strong>$summary</strong> = <style>\n",
       ".list-inline {list-style: none; margin:0; padding: 0}\n",
       ".list-inline>li {display: inline-block}\n",
       ".list-inline>li:not(:last-child)::after {content: \"\\00b7\"; padding: 0 .5ex}\n",
       "</style>\n",
       "<ol class=list-inline><li>0.8</li><li>21955.1708627939</li><li>29785.3491334838</li><li>0.845175479068623</li></ol>\n",
       "</li>\n",
       "</ol>\n"
      ],
      "text/latex": [
       "\\begin{enumerate}\n",
       "\\item \\textbf{\\$summary} = \\begin{enumerate*}\n",
       "\\item 0.8\n",
       "\\item 21803.1722319937\n",
       "\\item 29586.3877094256\n",
       "\\item 0.84369665185094\n",
       "\\end{enumerate*}\n",
       "\n",
       "\\item \\textbf{\\$summary} = \\begin{enumerate*}\n",
       "\\item 0.8\n",
       "\\item 22055.8167013332\n",
       "\\item 29362.4460911112\n",
       "\\item 0.848387444056536\n",
       "\\end{enumerate*}\n",
       "\n",
       "\\item \\textbf{\\$summary} = \\begin{enumerate*}\n",
       "\\item 0.8\n",
       "\\item 21955.1708627939\n",
       "\\item 29785.3491334838\n",
       "\\item 0.845175479068623\n",
       "\\end{enumerate*}\n",
       "\n",
       "\\end{enumerate}\n"
      ],
      "text/markdown": [
       "1. **$summary** = 1. 0.8\n",
       "2. 21803.1722319937\n",
       "3. 29586.3877094256\n",
       "4. 0.84369665185094\n",
       "\n",
       "\n",
       "\n",
       "2. **$summary** = 1. 0.8\n",
       "2. 22055.8167013332\n",
       "3. 29362.4460911112\n",
       "4. 0.848387444056536\n",
       "\n",
       "\n",
       "\n",
       "3. **$summary** = 1. 0.8\n",
       "2. 21955.1708627939\n",
       "3. 29785.3491334838\n",
       "4. 0.845175479068623\n",
       "\n",
       "\n",
       "\n",
       "\n",
       "\n"
      ],
      "text/plain": [
       "[[1]]\n",
       "[[1]]$summary\n",
       "[1] 8.000000e-01 2.180317e+04 2.958639e+04 8.436967e-01\n",
       "\n",
       "\n",
       "[[2]]\n",
       "[[2]]$summary\n",
       "[1] 8.000000e-01 2.205582e+04 2.936245e+04 8.483874e-01\n",
       "\n",
       "\n",
       "[[3]]\n",
       "[[3]]$summary\n",
       "[1] 8.000000e-01 2.195517e+04 2.978535e+04 8.451755e-01\n",
       "\n"
      ]
     },
     "metadata": {},
     "output_type": "display_data"
    }
   ],
   "source": [
    "kFold(3, 123, feature_selection(train))"
   ]
  },
  {
   "cell_type": "code",
   "execution_count": null,
   "id": "62c78012-0cf2-4ff4-8115-c835abe0381c",
   "metadata": {},
   "outputs": [],
   "source": []
  },
  {
   "cell_type": "code",
   "execution_count": null,
   "id": "e1c963f8-e947-45f7-abeb-7e356be49802",
   "metadata": {},
   "outputs": [],
   "source": []
  },
  {
   "cell_type": "markdown",
   "id": "89e37835-0495-4978-b9ce-dde8b5fc7707",
   "metadata": {},
   "source": [
    "#### holdout result"
   ]
  },
  {
   "cell_type": "code",
   "execution_count": 159,
   "id": "39beb8ab-0d39-42ac-af72-a75ae0ef1a31",
   "metadata": {},
   "outputs": [],
   "source": [
    "holdo<-readRDS(\"04b-wrangledHoldout.rds\")\n",
    "holdo_subset<- feature_selection(holdo)"
   ]
  },
  {
   "cell_type": "code",
   "execution_count": 160,
   "id": "2fa8b38c-a0f6-4dc7-89b1-9f4401b78b7a",
   "metadata": {},
   "outputs": [],
   "source": [
    "model_full <- myTrain(train)\n",
    "model_subset<-myTrain(train_subset)"
   ]
  },
  {
   "cell_type": "code",
   "execution_count": 161,
   "id": "9e5972ea-49ed-47fe-b5a2-92fa7a412a49",
   "metadata": {},
   "outputs": [],
   "source": [
    "myPredict= function(model, newdata){\n",
    "    log_price_predict = predict(model, newdata=newdata, interval=\"prediction\", level=0.5)\n",
    "    return(exp(log_price_predict))\n",
    "}"
   ]
  },
  {
   "cell_type": "code",
   "execution_count": 162,
   "id": "51511ec8-10d2-4842-b4c1-c46f12f04227",
   "metadata": {},
   "outputs": [],
   "source": [
    "myScore= function(predict, data){\n",
    "    intervalScore(predict, data$price, level = 0.5)\n",
    "    }"
   ]
  },
  {
   "cell_type": "code",
   "execution_count": 163,
   "id": "aa670a7e-65b2-45ab-abea-6c029873e52e",
   "metadata": {},
   "outputs": [],
   "source": [
    "model_full <- myTrain(train)\n",
    "model_subset<-myTrain(train_subset)"
   ]
  },
  {
   "cell_type": "code",
   "execution_count": 164,
   "id": "8552aac2-b816-4a60-a6fd-75c629cbc09e",
   "metadata": {},
   "outputs": [],
   "source": [
    "prediction_full<- myPredict(model_full, holdo)\n",
    "predict_subset<- myPredict(model_subset, holdo_subset)"
   ]
  },
  {
   "cell_type": "code",
   "execution_count": 165,
   "id": "eb8d5403-592b-49c4-bab2-bad0a4160db4",
   "metadata": {},
   "outputs": [
    {
     "data": {
      "text/html": [
       "<strong>$summary</strong> = <style>\n",
       ".list-inline {list-style: none; margin:0; padding: 0}\n",
       ".list-inline>li {display: inline-block}\n",
       ".list-inline>li:not(:last-child)::after {content: \"\\00b7\"; padding: 0 .5ex}\n",
       "</style>\n",
       "<ol class=list-inline><li>0.5</li><li>9941.950341527</li><li>16632.1689541007</li><li>0.603268670795226</li></ol>\n"
      ],
      "text/latex": [
       "\\textbf{\\$summary} = \\begin{enumerate*}\n",
       "\\item 0.5\n",
       "\\item 9941.950341527\n",
       "\\item 16632.1689541007\n",
       "\\item 0.603268670795226\n",
       "\\end{enumerate*}\n"
      ],
      "text/markdown": [
       "**$summary** = 1. 0.5\n",
       "2. 9941.950341527\n",
       "3. 16632.1689541007\n",
       "4. 0.603268670795226\n",
       "\n",
       "\n"
      ],
      "text/plain": [
       "$summary\n",
       "[1] 5.000000e-01 9.941950e+03 1.663217e+04 6.032687e-01\n"
      ]
     },
     "metadata": {},
     "output_type": "display_data"
    }
   ],
   "source": [
    "myScore(prediction_full, holdo)"
   ]
  },
  {
   "cell_type": "code",
   "execution_count": 166,
   "id": "1b3429cd-ef03-4dff-a608-1d28d8a64cbd",
   "metadata": {},
   "outputs": [
    {
     "data": {
      "text/html": [
       "<strong>$summary</strong> = <style>\n",
       ".list-inline {list-style: none; margin:0; padding: 0}\n",
       ".list-inline>li {display: inline-block}\n",
       ".list-inline>li:not(:last-child)::after {content: \"\\00b7\"; padding: 0 .5ex}\n",
       "</style>\n",
       "<ol class=list-inline><li>0.5</li><li>11029.7288074796</li><li>18607.2649068676</li><li>0.585920518393963</li></ol>\n"
      ],
      "text/latex": [
       "\\textbf{\\$summary} = \\begin{enumerate*}\n",
       "\\item 0.5\n",
       "\\item 11029.7288074796\n",
       "\\item 18607.2649068676\n",
       "\\item 0.585920518393963\n",
       "\\end{enumerate*}\n"
      ],
      "text/markdown": [
       "**$summary** = 1. 0.5\n",
       "2. 11029.7288074796\n",
       "3. 18607.2649068676\n",
       "4. 0.585920518393963\n",
       "\n",
       "\n"
      ],
      "text/plain": [
       "$summary\n",
       "[1] 5.000000e-01 1.102973e+04 1.860726e+04 5.859205e-01\n"
      ]
     },
     "metadata": {},
     "output_type": "display_data"
    }
   ],
   "source": [
    "myScore(predict_subset, holdo_subset)"
   ]
  },
  {
   "cell_type": "code",
   "execution_count": null,
   "id": "d72c1ea0-5b5d-43b0-b9a7-4de12f1d3f60",
   "metadata": {},
   "outputs": [],
   "source": []
  },
  {
   "cell_type": "code",
   "execution_count": null,
   "id": "c6588ac8-d574-4522-b69e-610cee21a310",
   "metadata": {},
   "outputs": [],
   "source": []
  }
 ],
 "metadata": {
  "kernelspec": {
   "display_name": "R",
   "language": "R",
   "name": "ir"
  },
  "language_info": {
   "codemirror_mode": "r",
   "file_extension": ".r",
   "mimetype": "text/x-r-source",
   "name": "R",
   "pygments_lexer": "r",
   "version": "4.1.3"
  }
 },
 "nbformat": 4,
 "nbformat_minor": 5
}
