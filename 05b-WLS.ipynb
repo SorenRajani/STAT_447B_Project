{
 "cells": [
  {
   "cell_type": "markdown",
   "id": "fdce15b3-eb83-45f3-8c51-dfd7774219f2",
   "metadata": {},
   "source": [
    "# Weighted Least Squares Methods"
   ]
  },
  {
   "cell_type": "markdown",
   "id": "a8479872-3ed1-417d-8274-98b95d42dc1c",
   "metadata": {},
   "source": [
    "This docoment fits the weighted least squares model. It discusses the intuition behind creating the weights. "
   ]
  },
  {
   "cell_type": "markdown",
   "id": "d385a938-a9d4-47c9-8f8b-f133624d2be1",
   "metadata": {},
   "source": [
    "### Load Libraries + training and holdout data"
   ]
  },
  {
   "cell_type": "code",
   "execution_count": 34,
   "id": "170dfd1d-210c-4026-9bad-19bed617477b",
   "metadata": {},
   "outputs": [],
   "source": [
    "#Import Necessary libraries\n",
    "suppressWarnings({\n",
    "library('tidyverse')\n",
    "library('dplyr')\n",
    "source('functions.R')})"
   ]
  },
  {
   "cell_type": "code",
   "execution_count": 3,
   "id": "3a2e8983-325d-4357-a191-e1b5d1a61a89",
   "metadata": {},
   "outputs": [],
   "source": [
    "train = readRDS(\"04a-wrangledTrain.rds\")\n",
    "train = train[-84211, ]"
   ]
  },
  {
   "cell_type": "markdown",
   "id": "647d5f3e-32f5-49e7-913a-1ec6acbca011",
   "metadata": {},
   "source": [
    "#### Finding the weights"
   ]
  },
  {
   "cell_type": "code",
   "execution_count": 9,
   "id": "66fc6241-f2db-46ea-9ba0-bc910b92e79e",
   "metadata": {},
   "outputs": [
    {
     "data": {
      "text/html": [
       "<table class=\"dataframe\">\n",
       "<caption>A tibble: 41 × 2</caption>\n",
       "<thead>\n",
       "\t<tr><th scope=col>manufacturer</th><th scope=col>w</th></tr>\n",
       "\t<tr><th scope=col>&lt;fct&gt;</th><th scope=col>&lt;dbl&gt;</th></tr>\n",
       "</thead>\n",
       "<tbody>\n",
       "\t<tr><td>acura          </td><td>1.491313e-02</td></tr>\n",
       "\t<tr><td>alfa-romeo     </td><td>1.963468e-03</td></tr>\n",
       "\t<tr><td>aston-martin   </td><td>6.664514e-05</td></tr>\n",
       "\t<tr><td>audi           </td><td>2.035240e-02</td></tr>\n",
       "\t<tr><td>bmw            </td><td>3.551160e-02</td></tr>\n",
       "\t<tr><td>buick          </td><td>1.272922e-02</td></tr>\n",
       "\t<tr><td>cadillac       </td><td>1.644084e-02</td></tr>\n",
       "\t<tr><td>chevrolet      </td><td>1.197408e-01</td></tr>\n",
       "\t<tr><td>chrysler       </td><td>1.566161e-02</td></tr>\n",
       "\t<tr><td>dodge          </td><td>3.103613e-02</td></tr>\n",
       "\t<tr><td>ferrari        </td><td>1.794292e-04</td></tr>\n",
       "\t<tr><td>fiat           </td><td>2.065999e-03</td></tr>\n",
       "\t<tr><td>ford           </td><td>1.593844e-01</td></tr>\n",
       "\t<tr><td>gmc            </td><td>3.750070e-02</td></tr>\n",
       "\t<tr><td>harley-davidson</td><td>4.460098e-04</td></tr>\n",
       "\t<tr><td>honda          </td><td>5.733532e-02</td></tr>\n",
       "\t<tr><td>hyundai        </td><td>2.579679e-02</td></tr>\n",
       "\t<tr><td>infiniti       </td><td>1.242675e-02</td></tr>\n",
       "\t<tr><td>jaguar         </td><td>4.798450e-03</td></tr>\n",
       "\t<tr><td>jeep           </td><td>4.260675e-02</td></tr>\n",
       "\t<tr><td>kia            </td><td>2.110600e-02</td></tr>\n",
       "\t<tr><td>land rover     </td><td>3.588584e-05</td></tr>\n",
       "\t<tr><td>lexus          </td><td>2.092657e-02</td></tr>\n",
       "\t<tr><td>lincoln        </td><td>1.013519e-02</td></tr>\n",
       "\t<tr><td>mazda          </td><td>1.354947e-02</td></tr>\n",
       "\t<tr><td>mercedes-benz  </td><td>2.640173e-02</td></tr>\n",
       "\t<tr><td>mercury        </td><td>2.470997e-03</td></tr>\n",
       "\t<tr><td>mini           </td><td>6.618375e-03</td></tr>\n",
       "\t<tr><td>missing        </td><td>3.098999e-02</td></tr>\n",
       "\t<tr><td>mitsubishi     </td><td>7.941024e-03</td></tr>\n",
       "\t<tr><td>nissan         </td><td>4.883550e-02</td></tr>\n",
       "\t<tr><td>pontiac        </td><td>4.931740e-03</td></tr>\n",
       "\t<tr><td>porsche        </td><td>3.152828e-03</td></tr>\n",
       "\t<tr><td>ram            </td><td>3.814665e-02</td></tr>\n",
       "\t<tr><td>rover          </td><td>5.541799e-03</td></tr>\n",
       "\t<tr><td>saturn         </td><td>2.917006e-03</td></tr>\n",
       "\t<tr><td>subaru         </td><td>2.669907e-02</td></tr>\n",
       "\t<tr><td>tesla          </td><td>2.071126e-03</td></tr>\n",
       "\t<tr><td>toyota         </td><td>8.458806e-02</td></tr>\n",
       "\t<tr><td>volkswagen     </td><td>2.355649e-02</td></tr>\n",
       "\t<tr><td>volvo          </td><td>8.428046e-03</td></tr>\n",
       "</tbody>\n",
       "</table>\n"
      ],
      "text/latex": [
       "A tibble: 41 × 2\n",
       "\\begin{tabular}{ll}\n",
       " manufacturer & w\\\\\n",
       " <fct> & <dbl>\\\\\n",
       "\\hline\n",
       "\t acura           & 1.491313e-02\\\\\n",
       "\t alfa-romeo      & 1.963468e-03\\\\\n",
       "\t aston-martin    & 6.664514e-05\\\\\n",
       "\t audi            & 2.035240e-02\\\\\n",
       "\t bmw             & 3.551160e-02\\\\\n",
       "\t buick           & 1.272922e-02\\\\\n",
       "\t cadillac        & 1.644084e-02\\\\\n",
       "\t chevrolet       & 1.197408e-01\\\\\n",
       "\t chrysler        & 1.566161e-02\\\\\n",
       "\t dodge           & 3.103613e-02\\\\\n",
       "\t ferrari         & 1.794292e-04\\\\\n",
       "\t fiat            & 2.065999e-03\\\\\n",
       "\t ford            & 1.593844e-01\\\\\n",
       "\t gmc             & 3.750070e-02\\\\\n",
       "\t harley-davidson & 4.460098e-04\\\\\n",
       "\t honda           & 5.733532e-02\\\\\n",
       "\t hyundai         & 2.579679e-02\\\\\n",
       "\t infiniti        & 1.242675e-02\\\\\n",
       "\t jaguar          & 4.798450e-03\\\\\n",
       "\t jeep            & 4.260675e-02\\\\\n",
       "\t kia             & 2.110600e-02\\\\\n",
       "\t land rover      & 3.588584e-05\\\\\n",
       "\t lexus           & 2.092657e-02\\\\\n",
       "\t lincoln         & 1.013519e-02\\\\\n",
       "\t mazda           & 1.354947e-02\\\\\n",
       "\t mercedes-benz   & 2.640173e-02\\\\\n",
       "\t mercury         & 2.470997e-03\\\\\n",
       "\t mini            & 6.618375e-03\\\\\n",
       "\t missing         & 3.098999e-02\\\\\n",
       "\t mitsubishi      & 7.941024e-03\\\\\n",
       "\t nissan          & 4.883550e-02\\\\\n",
       "\t pontiac         & 4.931740e-03\\\\\n",
       "\t porsche         & 3.152828e-03\\\\\n",
       "\t ram             & 3.814665e-02\\\\\n",
       "\t rover           & 5.541799e-03\\\\\n",
       "\t saturn          & 2.917006e-03\\\\\n",
       "\t subaru          & 2.669907e-02\\\\\n",
       "\t tesla           & 2.071126e-03\\\\\n",
       "\t toyota          & 8.458806e-02\\\\\n",
       "\t volkswagen      & 2.355649e-02\\\\\n",
       "\t volvo           & 8.428046e-03\\\\\n",
       "\\end{tabular}\n"
      ],
      "text/markdown": [
       "\n",
       "A tibble: 41 × 2\n",
       "\n",
       "| manufacturer &lt;fct&gt; | w &lt;dbl&gt; |\n",
       "|---|---|\n",
       "| acura           | 1.491313e-02 |\n",
       "| alfa-romeo      | 1.963468e-03 |\n",
       "| aston-martin    | 6.664514e-05 |\n",
       "| audi            | 2.035240e-02 |\n",
       "| bmw             | 3.551160e-02 |\n",
       "| buick           | 1.272922e-02 |\n",
       "| cadillac        | 1.644084e-02 |\n",
       "| chevrolet       | 1.197408e-01 |\n",
       "| chrysler        | 1.566161e-02 |\n",
       "| dodge           | 3.103613e-02 |\n",
       "| ferrari         | 1.794292e-04 |\n",
       "| fiat            | 2.065999e-03 |\n",
       "| ford            | 1.593844e-01 |\n",
       "| gmc             | 3.750070e-02 |\n",
       "| harley-davidson | 4.460098e-04 |\n",
       "| honda           | 5.733532e-02 |\n",
       "| hyundai         | 2.579679e-02 |\n",
       "| infiniti        | 1.242675e-02 |\n",
       "| jaguar          | 4.798450e-03 |\n",
       "| jeep            | 4.260675e-02 |\n",
       "| kia             | 2.110600e-02 |\n",
       "| land rover      | 3.588584e-05 |\n",
       "| lexus           | 2.092657e-02 |\n",
       "| lincoln         | 1.013519e-02 |\n",
       "| mazda           | 1.354947e-02 |\n",
       "| mercedes-benz   | 2.640173e-02 |\n",
       "| mercury         | 2.470997e-03 |\n",
       "| mini            | 6.618375e-03 |\n",
       "| missing         | 3.098999e-02 |\n",
       "| mitsubishi      | 7.941024e-03 |\n",
       "| nissan          | 4.883550e-02 |\n",
       "| pontiac         | 4.931740e-03 |\n",
       "| porsche         | 3.152828e-03 |\n",
       "| ram             | 3.814665e-02 |\n",
       "| rover           | 5.541799e-03 |\n",
       "| saturn          | 2.917006e-03 |\n",
       "| subaru          | 2.669907e-02 |\n",
       "| tesla           | 2.071126e-03 |\n",
       "| toyota          | 8.458806e-02 |\n",
       "| volkswagen      | 2.355649e-02 |\n",
       "| volvo           | 8.428046e-03 |\n",
       "\n"
      ],
      "text/plain": [
       "   manufacturer    w           \n",
       "1  acura           1.491313e-02\n",
       "2  alfa-romeo      1.963468e-03\n",
       "3  aston-martin    6.664514e-05\n",
       "4  audi            2.035240e-02\n",
       "5  bmw             3.551160e-02\n",
       "6  buick           1.272922e-02\n",
       "7  cadillac        1.644084e-02\n",
       "8  chevrolet       1.197408e-01\n",
       "9  chrysler        1.566161e-02\n",
       "10 dodge           3.103613e-02\n",
       "11 ferrari         1.794292e-04\n",
       "12 fiat            2.065999e-03\n",
       "13 ford            1.593844e-01\n",
       "14 gmc             3.750070e-02\n",
       "15 harley-davidson 4.460098e-04\n",
       "16 honda           5.733532e-02\n",
       "17 hyundai         2.579679e-02\n",
       "18 infiniti        1.242675e-02\n",
       "19 jaguar          4.798450e-03\n",
       "20 jeep            4.260675e-02\n",
       "21 kia             2.110600e-02\n",
       "22 land rover      3.588584e-05\n",
       "23 lexus           2.092657e-02\n",
       "24 lincoln         1.013519e-02\n",
       "25 mazda           1.354947e-02\n",
       "26 mercedes-benz   2.640173e-02\n",
       "27 mercury         2.470997e-03\n",
       "28 mini            6.618375e-03\n",
       "29 missing         3.098999e-02\n",
       "30 mitsubishi      7.941024e-03\n",
       "31 nissan          4.883550e-02\n",
       "32 pontiac         4.931740e-03\n",
       "33 porsche         3.152828e-03\n",
       "34 ram             3.814665e-02\n",
       "35 rover           5.541799e-03\n",
       "36 saturn          2.917006e-03\n",
       "37 subaru          2.669907e-02\n",
       "38 tesla           2.071126e-03\n",
       "39 toyota          8.458806e-02\n",
       "40 volkswagen      2.355649e-02\n",
       "41 volvo           8.428046e-03"
      ]
     },
     "metadata": {},
     "output_type": "display_data"
    }
   ],
   "source": [
    "##Find initial weights\n",
    "train%>%\n",
    "group_by(manufacturer)%>%\n",
    "summarize(w = n()/nrow(train))"
   ]
  },
  {
   "cell_type": "code",
   "execution_count": 10,
   "id": "b5caf67a-eb0b-48e1-a775-96c35bb3d4b7",
   "metadata": {},
   "outputs": [],
   "source": [
    "## Function to return a manufacturer's country of origin\n",
    "# @param manufacturer string: a car's manufacturing company\n",
    "# @return originCountry string: a manufacturor's country of origin\n",
    "weight_fn<- function(manufacturer){\n",
    "    w = switch(manufacturer,\n",
    "        \"missing\" = 0.0309899878500792,\n",
    "        \"acura\" = 0.0149131306295915,\n",
    "        \"alfa-romeo\" = 0.0019634682128338,\n",
    "        \"aston-martin\" = 0,\n",
    "        \"audi\" = 0.0203523989685384,\n",
    "        \"bmw\" = 0.0355116039433414, \n",
    "        \"buick\" = 0.012729220815839,\n",
    "        \"cadillac\" = 0.0164408421894465,\n",
    "        \"chevrolet\" = 0.119740801689711,\n",
    "        \"chrysler\" = 0.0156616067629433,\n",
    "        \"dodge\" = 0.0310361267898064,\n",
    "        \"ferrari\" = 0.000179429210050086,\n",
    "        \"fiat\" = 0.00206599919000528,\n",
    "        \"ford\" = 0.159384404013062,\n",
    "        \"gmc\" = 0.0375007049004681,\n",
    "        \"harley-davidson\" = 0.000446009750695929, \n",
    "        \"honda\" = 0.0573353224342905,\n",
    "        \"hyundai\" = 0.0257967938563438,\n",
    "        \"infiniti\" = 0.0124267544331831,\n",
    "        \"jaguar\" = 0.00479844973162517,\n",
    "        \"jeep\" = 0.0426067475636077,\n",
    "        \"kia\" = 0.0211060016507487,\n",
    "        \"land rover\" = 0,\n",
    "        \"lexus\" = 0.0209265724406986,\n",
    "        \"lincoln\" = 0.0101351870934006,\n",
    "        \"mazda\" = 0.0135494686332108,\n",
    "        \"mercedes-benz\" = 0.0264017266216556,\n",
    "        \"mercury\" = 0.00247099654983262,\n",
    "        \"mini\" = 0.0066183745764189,\n",
    "        \"mitsubishi\" = 0.00794102418193097,\n",
    "        \"nissan\" = 0.0488355044267749,\n",
    "        \"pontiac\" = 0.00493174000194809,\n",
    "        \"porsche\" = 0.00315282754802295,\n",
    "        \"ram\" = 0.0381466500566484,\n",
    "        \"rover\" = 0.00554179931611838,\n",
    "        \"saturn\" = 0.00291700630052855,\n",
    "        \"subaru\" = 0.0266990664554529,\n",
    "        \"tesla\" = 0.00207112573886385,\n",
    "        \"toyota\" = 0.0845880561664693,\n",
    "        \"volkswagen\"  = 0.0235564920051471,\n",
    "        \"volvo\" = 0.00842804632349549)\n",
    "    return(unlist(w, use.names = FALSE))\n",
    "    }"
   ]
  },
  {
   "cell_type": "code",
   "execution_count": 11,
   "id": "8d616767-cf39-43dd-9c0b-b7cd9010ec5e",
   "metadata": {},
   "outputs": [],
   "source": [
    "## Function to apply country_of_origin to a dataframe\n",
    "# @param data dataframe: the data to retrieve the manufacturer's country of origin from, must have a columm called 'manufacturer'\n",
    "# @retrun new_data datframe: a copy of the original dataframe containing the new variable countryOrigin\n",
    "weight_transform<-function(data){\n",
    "    var <- as.character(data$manufacturer)\n",
    "    var[var==\"\"] = \"missing\"\n",
    "    data$manufacturer =  var\n",
    "    w = sapply(data$manufacturer, function(i) weight_fn(i))\n",
    "    new_data = data%>%\n",
    "        mutate(weights = ((1- w)/sum(1-w))*nrow(data))\n",
    "    return(new_data)             \n",
    "    }"
   ]
  },
  {
   "cell_type": "code",
   "execution_count": 13,
   "id": "7e48c63a-10ec-4817-b783-5a1f7a46d92b",
   "metadata": {},
   "outputs": [],
   "source": [
    "train = weight_transform(train)"
   ]
  },
  {
   "cell_type": "code",
   "execution_count": 14,
   "id": "0bfc958e-a4a4-4cc9-adf7-d57a7e843e2c",
   "metadata": {},
   "outputs": [
    {
     "data": {
      "text/html": [
       "195063"
      ],
      "text/latex": [
       "195063"
      ],
      "text/markdown": [
       "195063"
      ],
      "text/plain": [
       "[1] 195063"
      ]
     },
     "metadata": {},
     "output_type": "display_data"
    }
   ],
   "source": [
    "sum(train$weights)"
   ]
  },
  {
   "cell_type": "code",
   "execution_count": 15,
   "id": "dc2d06dc-ca25-44ef-a9de-da93459c95b9",
   "metadata": {},
   "outputs": [],
   "source": [
    "myTrain = function(data){\n",
    "    model = lm(log(price)~.-manufacturer, data = data, weights = data$weights)\n",
    "    return(model)\n",
    "}"
   ]
  },
  {
   "cell_type": "code",
   "execution_count": 16,
   "id": "b03e6f39-9d4a-4af2-84e6-c0e67f818060",
   "metadata": {},
   "outputs": [],
   "source": [
    "myPredict= function(model, newdata){\n",
    "    log_price_predict = predict(model, newdata=newdata, interval=\"prediction\", level=0.5)\n",
    "    return(exp(log_price_predict))\n",
    "}"
   ]
  },
  {
   "cell_type": "code",
   "execution_count": 17,
   "id": "fd8f30bf-6540-4a11-9a8d-98ce99155ba0",
   "metadata": {},
   "outputs": [],
   "source": [
    "myScore= function(predict, data){\n",
    "    intervalScore(predict, data$price, level = 0.5)\n",
    "    }"
   ]
  },
  {
   "cell_type": "code",
   "execution_count": 18,
   "id": "24130bff-3342-446e-bc14-e960a1ff7f42",
   "metadata": {},
   "outputs": [
    {
     "name": "stderr",
     "output_type": "stream",
     "text": [
      "Warning message in predict.lm(model, newdata = newdata, interval = \"prediction\", :\n",
      "\"Assuming constant prediction variance even though model fit is weighted\n",
      "\"\n",
      "Warning message in predict.lm(model, newdata = newdata, interval = \"prediction\", :\n",
      "\"Assuming constant prediction variance even though model fit is weighted\n",
      "\"\n",
      "Warning message in predict.lm(model, newdata = newdata, interval = \"prediction\", :\n",
      "\"Assuming constant prediction variance even though model fit is weighted\n",
      "\"\n"
     ]
    },
    {
     "data": {
      "text/html": [
       "<ol>\n",
       "\t<li><strong>$summary</strong> = <style>\n",
       ".list-inline {list-style: none; margin:0; padding: 0}\n",
       ".list-inline>li {display: inline-block}\n",
       ".list-inline>li:not(:last-child)::after {content: \"\\00b7\"; padding: 0 .5ex}\n",
       "</style>\n",
       "<ol class=list-inline><li>0.5</li><li>9835.46626583001</li><li>16472.3382682183</li><li>0.610187477891758</li></ol>\n",
       "</li>\n",
       "\t<li><strong>$summary</strong> = <style>\n",
       ".list-inline {list-style: none; margin:0; padding: 0}\n",
       ".list-inline>li {display: inline-block}\n",
       ".list-inline>li:not(:last-child)::after {content: \"\\00b7\"; padding: 0 .5ex}\n",
       "</style>\n",
       "<ol class=list-inline><li>0.5</li><li>9835.92700221241</li><li>16581.4788021667</li><li>0.608172744190339</li></ol>\n",
       "</li>\n",
       "\t<li><strong>$summary</strong> = <style>\n",
       ".list-inline {list-style: none; margin:0; padding: 0}\n",
       ".list-inline>li {display: inline-block}\n",
       ".list-inline>li:not(:last-child)::after {content: \"\\00b7\"; padding: 0 .5ex}\n",
       "</style>\n",
       "<ol class=list-inline><li>0.5</li><li>9773.87965893813</li><li>16568.8565055354</li><li>0.609003245105427</li></ol>\n",
       "</li>\n",
       "</ol>\n"
      ],
      "text/latex": [
       "\\begin{enumerate}\n",
       "\\item \\textbf{\\$summary} = \\begin{enumerate*}\n",
       "\\item 0.5\n",
       "\\item 9835.46626583001\n",
       "\\item 16472.3382682183\n",
       "\\item 0.610187477891758\n",
       "\\end{enumerate*}\n",
       "\n",
       "\\item \\textbf{\\$summary} = \\begin{enumerate*}\n",
       "\\item 0.5\n",
       "\\item 9835.92700221241\n",
       "\\item 16581.4788021667\n",
       "\\item 0.608172744190339\n",
       "\\end{enumerate*}\n",
       "\n",
       "\\item \\textbf{\\$summary} = \\begin{enumerate*}\n",
       "\\item 0.5\n",
       "\\item 9773.87965893813\n",
       "\\item 16568.8565055354\n",
       "\\item 0.609003245105427\n",
       "\\end{enumerate*}\n",
       "\n",
       "\\end{enumerate}\n"
      ],
      "text/markdown": [
       "1. **$summary** = 1. 0.5\n",
       "2. 9835.46626583001\n",
       "3. 16472.3382682183\n",
       "4. 0.610187477891758\n",
       "\n",
       "\n",
       "\n",
       "2. **$summary** = 1. 0.5\n",
       "2. 9835.92700221241\n",
       "3. 16581.4788021667\n",
       "4. 0.608172744190339\n",
       "\n",
       "\n",
       "\n",
       "3. **$summary** = 1. 0.5\n",
       "2. 9773.87965893813\n",
       "3. 16568.8565055354\n",
       "4. 0.609003245105427\n",
       "\n",
       "\n",
       "\n",
       "\n",
       "\n"
      ],
      "text/plain": [
       "[[1]]\n",
       "[[1]]$summary\n",
       "[1] 5.000000e-01 9.835466e+03 1.647234e+04 6.101875e-01\n",
       "\n",
       "\n",
       "[[2]]\n",
       "[[2]]$summary\n",
       "[1] 5.000000e-01 9.835927e+03 1.658148e+04 6.081727e-01\n",
       "\n",
       "\n",
       "[[3]]\n",
       "[[3]]$summary\n",
       "[1] 5.000000e-01 9.773880e+03 1.656886e+04 6.090032e-01\n",
       "\n"
      ]
     },
     "metadata": {},
     "output_type": "display_data"
    }
   ],
   "source": [
    "kFold(3, 123, train)"
   ]
  },
  {
   "cell_type": "code",
   "execution_count": 19,
   "id": "cd2adfcc-fc84-40bd-9a22-953f59857379",
   "metadata": {},
   "outputs": [
    {
     "data": {
      "text/html": [
       "<ol>\n",
       "\t<li><strong>$summary</strong> = <style>\n",
       ".list-inline {list-style: none; margin:0; padding: 0}\n",
       ".list-inline>li {display: inline-block}\n",
       ".list-inline>li:not(:last-child)::after {content: \"\\00b7\"; padding: 0 .5ex}\n",
       "</style>\n",
       "<ol class=list-inline><li>0.5</li><li>11301.1458411785</li><li>19300.8908841112</li><li>0.575937004967626</li></ol>\n",
       "</li>\n",
       "\t<li><strong>$summary</strong> = <style>\n",
       ".list-inline {list-style: none; margin:0; padding: 0}\n",
       ".list-inline>li {display: inline-block}\n",
       ".list-inline>li:not(:last-child)::after {content: \"\\00b7\"; padding: 0 .5ex}\n",
       "</style>\n",
       "<ol class=list-inline><li>0.5</li><li>11333.78831194</li><li>19450.4479442405</li><li>0.574322142077175</li></ol>\n",
       "</li>\n",
       "\t<li><strong>$summary</strong> = <style>\n",
       ".list-inline {list-style: none; margin:0; padding: 0}\n",
       ".list-inline>li {display: inline-block}\n",
       ".list-inline>li:not(:last-child)::after {content: \"\\00b7\"; padding: 0 .5ex}\n",
       "</style>\n",
       "<ol class=list-inline><li>0.5</li><li>11247.1162389535</li><li>19446.6811243887</li><li>0.571738361452454</li></ol>\n",
       "</li>\n",
       "</ol>\n"
      ],
      "text/latex": [
       "\\begin{enumerate}\n",
       "\\item \\textbf{\\$summary} = \\begin{enumerate*}\n",
       "\\item 0.5\n",
       "\\item 11301.1458411785\n",
       "\\item 19300.8908841112\n",
       "\\item 0.575937004967626\n",
       "\\end{enumerate*}\n",
       "\n",
       "\\item \\textbf{\\$summary} = \\begin{enumerate*}\n",
       "\\item 0.5\n",
       "\\item 11333.78831194\n",
       "\\item 19450.4479442405\n",
       "\\item 0.574322142077175\n",
       "\\end{enumerate*}\n",
       "\n",
       "\\item \\textbf{\\$summary} = \\begin{enumerate*}\n",
       "\\item 0.5\n",
       "\\item 11247.1162389535\n",
       "\\item 19446.6811243887\n",
       "\\item 0.571738361452454\n",
       "\\end{enumerate*}\n",
       "\n",
       "\\end{enumerate}\n"
      ],
      "text/markdown": [
       "1. **$summary** = 1. 0.5\n",
       "2. 11301.1458411785\n",
       "3. 19300.8908841112\n",
       "4. 0.575937004967626\n",
       "\n",
       "\n",
       "\n",
       "2. **$summary** = 1. 0.5\n",
       "2. 11333.78831194\n",
       "3. 19450.4479442405\n",
       "4. 0.574322142077175\n",
       "\n",
       "\n",
       "\n",
       "3. **$summary** = 1. 0.5\n",
       "2. 11247.1162389535\n",
       "3. 19446.6811243887\n",
       "4. 0.571738361452454\n",
       "\n",
       "\n",
       "\n",
       "\n",
       "\n"
      ],
      "text/plain": [
       "[[1]]\n",
       "[[1]]$summary\n",
       "[1]     0.500000 11301.145841 19300.890884     0.575937\n",
       "\n",
       "\n",
       "[[2]]\n",
       "[[2]]$summary\n",
       "[1] 5.000000e-01 1.133379e+04 1.945045e+04 5.743221e-01\n",
       "\n",
       "\n",
       "[[3]]\n",
       "[[3]]$summary\n",
       "[1] 5.000000e-01 1.124712e+04 1.944668e+04 5.717384e-01\n",
       "\n"
      ]
     },
     "metadata": {},
     "output_type": "display_data"
    }
   ],
   "source": [
    "kFold(3, 123, feature_selection(train))"
   ]
  },
  {
   "cell_type": "code",
   "execution_count": 31,
   "id": "1d03829f-084f-4c6e-a7b1-28bc93138747",
   "metadata": {},
   "outputs": [],
   "source": [
    "myPredict= function(model, newdata){\n",
    "    log_price_predict = predict(model, newdata=newdata, interval=\"prediction\", level=0.5)\n",
    "    return(exp(log_price_predict))\n",
    "}"
   ]
  },
  {
   "cell_type": "code",
   "execution_count": 32,
   "id": "d10f563e-3c13-4b36-8661-4306be432168",
   "metadata": {},
   "outputs": [],
   "source": [
    "myScore= function(predict, data){\n",
    "    intervalScore(predict, data$price, level = 0.5)\n",
    "    }"
   ]
  },
  {
   "cell_type": "code",
   "execution_count": 22,
   "id": "e50ce5b8-8790-4173-9a8a-52c2099826ea",
   "metadata": {},
   "outputs": [
    {
     "name": "stderr",
     "output_type": "stream",
     "text": [
      "Warning message in predict.lm(model, newdata = newdata, interval = \"prediction\", :\n",
      "\"Assuming constant prediction variance even though model fit is weighted\n",
      "\"\n",
      "Warning message in predict.lm(model, newdata = newdata, interval = \"prediction\", :\n",
      "\"Assuming constant prediction variance even though model fit is weighted\n",
      "\"\n",
      "Warning message in predict.lm(model, newdata = newdata, interval = \"prediction\", :\n",
      "\"Assuming constant prediction variance even though model fit is weighted\n",
      "\"\n"
     ]
    },
    {
     "data": {
      "text/html": [
       "<ol>\n",
       "\t<li><strong>$summary</strong> = <style>\n",
       ".list-inline {list-style: none; margin:0; padding: 0}\n",
       ".list-inline>li {display: inline-block}\n",
       ".list-inline>li:not(:last-child)::after {content: \"\\00b7\"; padding: 0 .5ex}\n",
       "</style>\n",
       "<ol class=list-inline><li>0.8</li><li>19310.3309771542</li><li>25891.9346251446</li><li>0.857415296596484</li></ol>\n",
       "</li>\n",
       "\t<li><strong>$summary</strong> = <style>\n",
       ".list-inline {list-style: none; margin:0; padding: 0}\n",
       ".list-inline>li {display: inline-block}\n",
       ".list-inline>li:not(:last-child)::after {content: \"\\00b7\"; padding: 0 .5ex}\n",
       "</style>\n",
       "<ol class=list-inline><li>0.8</li><li>19311.2259121476</li><li>26010.9231286405</li><li>0.856138785930699</li></ol>\n",
       "</li>\n",
       "\t<li><strong>$summary</strong> = <style>\n",
       ".list-inline {list-style: none; margin:0; padding: 0}\n",
       ".list-inline>li {display: inline-block}\n",
       ".list-inline>li:not(:last-child)::after {content: \"\\00b7\"; padding: 0 .5ex}\n",
       "</style>\n",
       "<ol class=list-inline><li>0.8</li><li>19187.4976528183</li><li>26067.4931155946</li><li>0.854216330108734</li></ol>\n",
       "</li>\n",
       "</ol>\n"
      ],
      "text/latex": [
       "\\begin{enumerate}\n",
       "\\item \\textbf{\\$summary} = \\begin{enumerate*}\n",
       "\\item 0.8\n",
       "\\item 19310.3309771542\n",
       "\\item 25891.9346251446\n",
       "\\item 0.857415296596484\n",
       "\\end{enumerate*}\n",
       "\n",
       "\\item \\textbf{\\$summary} = \\begin{enumerate*}\n",
       "\\item 0.8\n",
       "\\item 19311.2259121476\n",
       "\\item 26010.9231286405\n",
       "\\item 0.856138785930699\n",
       "\\end{enumerate*}\n",
       "\n",
       "\\item \\textbf{\\$summary} = \\begin{enumerate*}\n",
       "\\item 0.8\n",
       "\\item 19187.4976528183\n",
       "\\item 26067.4931155946\n",
       "\\item 0.854216330108734\n",
       "\\end{enumerate*}\n",
       "\n",
       "\\end{enumerate}\n"
      ],
      "text/markdown": [
       "1. **$summary** = 1. 0.8\n",
       "2. 19310.3309771542\n",
       "3. 25891.9346251446\n",
       "4. 0.857415296596484\n",
       "\n",
       "\n",
       "\n",
       "2. **$summary** = 1. 0.8\n",
       "2. 19311.2259121476\n",
       "3. 26010.9231286405\n",
       "4. 0.856138785930699\n",
       "\n",
       "\n",
       "\n",
       "3. **$summary** = 1. 0.8\n",
       "2. 19187.4976528183\n",
       "3. 26067.4931155946\n",
       "4. 0.854216330108734\n",
       "\n",
       "\n",
       "\n",
       "\n",
       "\n"
      ],
      "text/plain": [
       "[[1]]\n",
       "[[1]]$summary\n",
       "[1] 8.000000e-01 1.931033e+04 2.589193e+04 8.574153e-01\n",
       "\n",
       "\n",
       "[[2]]\n",
       "[[2]]$summary\n",
       "[1] 8.000000e-01 1.931123e+04 2.601092e+04 8.561388e-01\n",
       "\n",
       "\n",
       "[[3]]\n",
       "[[3]]$summary\n",
       "[1] 8.000000e-01 1.918750e+04 2.606749e+04 8.542163e-01\n",
       "\n"
      ]
     },
     "metadata": {},
     "output_type": "display_data"
    }
   ],
   "source": [
    "kFold(3, 123, train)"
   ]
  },
  {
   "cell_type": "code",
   "execution_count": 23,
   "id": "88e6494a-4aab-4a50-864d-f319a1957f20",
   "metadata": {},
   "outputs": [
    {
     "data": {
      "text/html": [
       "<ol>\n",
       "\t<li><strong>$summary</strong> = <style>\n",
       ".list-inline {list-style: none; margin:0; padding: 0}\n",
       ".list-inline>li {display: inline-block}\n",
       ".list-inline>li:not(:last-child)::after {content: \"\\00b7\"; padding: 0 .5ex}\n",
       "</style>\n",
       "<ol class=list-inline><li>0.8</li><li>22475.2571302317</li><li>30089.5764774341</li><li>0.844327217360545</li></ol>\n",
       "</li>\n",
       "\t<li><strong>$summary</strong> = <style>\n",
       ".list-inline {list-style: none; margin:0; padding: 0}\n",
       ".list-inline>li {display: inline-block}\n",
       ".list-inline>li:not(:last-child)::after {content: \"\\00b7\"; padding: 0 .5ex}\n",
       "</style>\n",
       "<ol class=list-inline><li>0.8</li><li>22540.2725394475</li><li>30254.6831787804</li><li>0.842850771289276</li></ol>\n",
       "</li>\n",
       "\t<li><strong>$summary</strong> = <style>\n",
       ".list-inline {list-style: none; margin:0; padding: 0}\n",
       ".list-inline>li {display: inline-block}\n",
       ".list-inline>li:not(:last-child)::after {content: \"\\00b7\"; padding: 0 .5ex}\n",
       "</style>\n",
       "<ol class=list-inline><li>0.8</li><li>22359.7911210085</li><li>30365.1792305249</li><li>0.841820334968702</li></ol>\n",
       "</li>\n",
       "</ol>\n"
      ],
      "text/latex": [
       "\\begin{enumerate}\n",
       "\\item \\textbf{\\$summary} = \\begin{enumerate*}\n",
       "\\item 0.8\n",
       "\\item 22475.2571302317\n",
       "\\item 30089.5764774341\n",
       "\\item 0.844327217360545\n",
       "\\end{enumerate*}\n",
       "\n",
       "\\item \\textbf{\\$summary} = \\begin{enumerate*}\n",
       "\\item 0.8\n",
       "\\item 22540.2725394475\n",
       "\\item 30254.6831787804\n",
       "\\item 0.842850771289276\n",
       "\\end{enumerate*}\n",
       "\n",
       "\\item \\textbf{\\$summary} = \\begin{enumerate*}\n",
       "\\item 0.8\n",
       "\\item 22359.7911210085\n",
       "\\item 30365.1792305249\n",
       "\\item 0.841820334968702\n",
       "\\end{enumerate*}\n",
       "\n",
       "\\end{enumerate}\n"
      ],
      "text/markdown": [
       "1. **$summary** = 1. 0.8\n",
       "2. 22475.2571302317\n",
       "3. 30089.5764774341\n",
       "4. 0.844327217360545\n",
       "\n",
       "\n",
       "\n",
       "2. **$summary** = 1. 0.8\n",
       "2. 22540.2725394475\n",
       "3. 30254.6831787804\n",
       "4. 0.842850771289276\n",
       "\n",
       "\n",
       "\n",
       "3. **$summary** = 1. 0.8\n",
       "2. 22359.7911210085\n",
       "3. 30365.1792305249\n",
       "4. 0.841820334968702\n",
       "\n",
       "\n",
       "\n",
       "\n",
       "\n"
      ],
      "text/plain": [
       "[[1]]\n",
       "[[1]]$summary\n",
       "[1] 8.000000e-01 2.247526e+04 3.008958e+04 8.443272e-01\n",
       "\n",
       "\n",
       "[[2]]\n",
       "[[2]]$summary\n",
       "[1] 8.000000e-01 2.254027e+04 3.025468e+04 8.428508e-01\n",
       "\n",
       "\n",
       "[[3]]\n",
       "[[3]]$summary\n",
       "[1] 8.000000e-01 2.235979e+04 3.036518e+04 8.418203e-01\n",
       "\n"
      ]
     },
     "metadata": {},
     "output_type": "display_data"
    }
   ],
   "source": [
    "kFold(3, 123, feature_selection(train))"
   ]
  },
  {
   "cell_type": "code",
   "execution_count": null,
   "id": "0b5fa30f-4751-4b5e-a87b-4d68e7f841cd",
   "metadata": {},
   "outputs": [],
   "source": []
  },
  {
   "cell_type": "code",
   "execution_count": 24,
   "id": "7fd555c5-4b99-41b9-b5ad-76a9d87184d8",
   "metadata": {},
   "outputs": [],
   "source": [
    "holdo<-readRDS(\"04b-wrangledHoldout.rds\")\n",
    "holdo = weight_transform(holdo)\n",
    "holdo_subset<- feature_selection(holdo)\n",
    "holdo_subset = weight_transform(holdo_subset)"
   ]
  },
  {
   "cell_type": "code",
   "execution_count": 25,
   "id": "b4dfe978-d209-4d1b-b1bb-953607b2867c",
   "metadata": {},
   "outputs": [],
   "source": [
    "myScore= function(predict, data){\n",
    "    intervalScore(predict, data$price, level = 0.5)\n",
    "    }"
   ]
  },
  {
   "cell_type": "code",
   "execution_count": 26,
   "id": "c71ca9c0-2a20-425f-810f-25ecf3694ffc",
   "metadata": {},
   "outputs": [],
   "source": [
    "feature_selection = function(data){\n",
    "    new_data = subset(data, select = c(price, age, fuel, drive, type, manufacturer, weights))\n",
    "    return(new_data)\n",
    "    }"
   ]
  },
  {
   "cell_type": "code",
   "execution_count": 27,
   "id": "bedbf364-3f02-4967-a281-bb8ad1f4f241",
   "metadata": {},
   "outputs": [],
   "source": [
    "train_subset<- feature_selection(train)\n",
    "model_full  <- myTrain(train)\n",
    "model_subset<-myTrain(train_subset)"
   ]
  },
  {
   "cell_type": "code",
   "execution_count": 28,
   "id": "992f79af-7f69-4793-83a4-57562218b6d9",
   "metadata": {},
   "outputs": [
    {
     "name": "stderr",
     "output_type": "stream",
     "text": [
      "Warning message in predict.lm(model, newdata = newdata, interval = \"prediction\", :\n",
      "\"Assuming constant prediction variance even though model fit is weighted\n",
      "\"\n",
      "Warning message in predict.lm(model, newdata = newdata, interval = \"prediction\", :\n",
      "\"Assuming constant prediction variance even though model fit is weighted\n",
      "\"\n"
     ]
    }
   ],
   "source": [
    "prediction_full<- myPredict(model_full, holdo)\n",
    "predict_subset<- myPredict(model_subset, holdo_subset)"
   ]
  },
  {
   "cell_type": "code",
   "execution_count": 33,
   "id": "de9e2b16-9f09-4de7-afb3-b47774b28dca",
   "metadata": {},
   "outputs": [
    {
     "data": {
      "text/html": [
       "<strong>$summary</strong> = <style>\n",
       ".list-inline {list-style: none; margin:0; padding: 0}\n",
       ".list-inline>li {display: inline-block}\n",
       ".list-inline>li:not(:last-child)::after {content: \"\\00b7\"; padding: 0 .5ex}\n",
       "</style>\n",
       "<ol class=list-inline><li>0.5</li><li>19222.941661463</li><li>21791.9774198815</li><li>0.853709551736866</li></ol>\n"
      ],
      "text/latex": [
       "\\textbf{\\$summary} = \\begin{enumerate*}\n",
       "\\item 0.5\n",
       "\\item 19222.941661463\n",
       "\\item 21791.9774198815\n",
       "\\item 0.853709551736866\n",
       "\\end{enumerate*}\n"
      ],
      "text/markdown": [
       "**$summary** = 1. 0.5\n",
       "2. 19222.941661463\n",
       "3. 21791.9774198815\n",
       "4. 0.853709551736866\n",
       "\n",
       "\n"
      ],
      "text/plain": [
       "$summary\n",
       "[1] 5.000000e-01 1.922294e+04 2.179198e+04 8.537096e-01\n"
      ]
     },
     "metadata": {},
     "output_type": "display_data"
    }
   ],
   "source": [
    "myScore(prediction_full, holdo)"
   ]
  },
  {
   "cell_type": "code",
   "execution_count": 30,
   "id": "0c6080b9-9a91-4139-bbb6-76e7c9bfab15",
   "metadata": {},
   "outputs": [
    {
     "data": {
      "text/html": [
       "<strong>$summary</strong> = <style>\n",
       ".list-inline {list-style: none; margin:0; padding: 0}\n",
       ".list-inline>li {display: inline-block}\n",
       ".list-inline>li:not(:last-child)::after {content: \"\\00b7\"; padding: 0 .5ex}\n",
       "</style>\n",
       "<ol class=list-inline><li>0.5</li><li>22422.2965076136</li><li>25419.876615293</li><li>0.843784604027396</li></ol>\n"
      ],
      "text/latex": [
       "\\textbf{\\$summary} = \\begin{enumerate*}\n",
       "\\item 0.5\n",
       "\\item 22422.2965076136\n",
       "\\item 25419.876615293\n",
       "\\item 0.843784604027396\n",
       "\\end{enumerate*}\n"
      ],
      "text/markdown": [
       "**$summary** = 1. 0.5\n",
       "2. 22422.2965076136\n",
       "3. 25419.876615293\n",
       "4. 0.843784604027396\n",
       "\n",
       "\n"
      ],
      "text/plain": [
       "$summary\n",
       "[1] 5.000000e-01 2.242230e+04 2.541988e+04 8.437846e-01\n"
      ]
     },
     "metadata": {},
     "output_type": "display_data"
    }
   ],
   "source": [
    "myScore(predict_subset, holdo_subset)"
   ]
  },
  {
   "cell_type": "code",
   "execution_count": null,
   "id": "b0a5e6dd-96ec-4c1b-b30a-4abf3ac4389c",
   "metadata": {},
   "outputs": [],
   "source": []
  }
 ],
 "metadata": {
  "kernelspec": {
   "display_name": "R",
   "language": "R",
   "name": "ir"
  },
  "language_info": {
   "codemirror_mode": "r",
   "file_extension": ".r",
   "mimetype": "text/x-r-source",
   "name": "R",
   "pygments_lexer": "r",
   "version": "4.1.3"
  }
 },
 "nbformat": 4,
 "nbformat_minor": 5
}
