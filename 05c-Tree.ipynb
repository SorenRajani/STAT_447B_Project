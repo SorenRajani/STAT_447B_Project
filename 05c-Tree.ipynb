{
 "cells": [
  {
   "cell_type": "code",
   "execution_count": 4,
   "id": "a0dc64db-868e-464c-8f3a-7d8a138e563b",
   "metadata": {
    "tags": []
   },
   "outputs": [],
   "source": [
    "library(tidyverse)\n",
    "library(dplyr)\n",
    "library(rpart)\n",
    "source('functions.R')\n",
    "library(rpart)"
   ]
  },
  {
   "cell_type": "markdown",
   "id": "46e9ccf9-a703-43cc-a1fd-b4b3f0a38eca",
   "metadata": {},
   "source": [
    "# 05c Trees\n",
    "I begin by training the model on the entire dataset"
   ]
  },
  {
   "cell_type": "code",
   "execution_count": 2,
   "id": "8e22232f-5a9a-40ab-825f-e6ab163f49dc",
   "metadata": {
    "tags": []
   },
   "outputs": [],
   "source": [
    "train = readRDS(\"04a-wrangledTrain.rds\")"
   ]
  },
  {
   "cell_type": "code",
   "execution_count": 7,
   "id": "0a3b1a0e-2f43-47f2-9c27-b869a49ac9db",
   "metadata": {
    "tags": []
   },
   "outputs": [],
   "source": [
    "# This function trains a tree and returns the model\n",
    "myTrain <- function(datafr){\n",
    "    mod = rpart(log(price)~ . , data=datafr)\n",
    "    return(mod)\n",
    "    }"
   ]
  },
  {
   "cell_type": "code",
   "execution_count": null,
   "id": "e9c9a85b-da60-4d17-a105-7bf78dcb1c57",
   "metadata": {},
   "outputs": [],
   "source": [
    "# This function predicts\n",
    "myPredict <- function(mod,datafr){\n",
    "    meanByTNode = tapply(train$o3max, RegTree$where, mean)\n",
    "    }"
   ]
  }
 ],
 "metadata": {
  "kernelspec": {
   "display_name": "R",
   "language": "R",
   "name": "ir"
  },
  "language_info": {
   "codemirror_mode": "r",
   "file_extension": ".r",
   "mimetype": "text/x-r-source",
   "name": "R",
   "pygments_lexer": "r",
   "version": "4.2.1"
  }
 },
 "nbformat": 4,
 "nbformat_minor": 5
}
