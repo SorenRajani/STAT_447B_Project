{
 "cells": [
  {
   "cell_type": "code",
   "execution_count": 3,
   "id": "6980bfca-f7ad-4fd4-89df-8bdae884c2c6",
   "metadata": {
    "tags": []
   },
   "outputs": [
    {
     "name": "stderr",
     "output_type": "stream",
     "text": [
      "── \u001b[1mAttaching packages\u001b[22m ─────────────────────────────────────── tidyverse 1.3.2 ──\n",
      "\u001b[32m✔\u001b[39m \u001b[34mggplot2\u001b[39m 3.4.1     \u001b[32m✔\u001b[39m \u001b[34mpurrr  \u001b[39m 0.3.5\n",
      "\u001b[32m✔\u001b[39m \u001b[34mtibble \u001b[39m 3.1.8     \u001b[32m✔\u001b[39m \u001b[34mdplyr  \u001b[39m 1.1.0\n",
      "\u001b[32m✔\u001b[39m \u001b[34mtidyr  \u001b[39m 1.2.1     \u001b[32m✔\u001b[39m \u001b[34mstringr\u001b[39m 1.5.0\n",
      "\u001b[32m✔\u001b[39m \u001b[34mreadr  \u001b[39m 2.1.3     \u001b[32m✔\u001b[39m \u001b[34mforcats\u001b[39m 0.5.2\n",
      "── \u001b[1mConflicts\u001b[22m ────────────────────────────────────────── tidyverse_conflicts() ──\n",
      "\u001b[31m✖\u001b[39m \u001b[34mdplyr\u001b[39m::\u001b[32mfilter()\u001b[39m masks \u001b[34mstats\u001b[39m::filter()\n",
      "\u001b[31m✖\u001b[39m \u001b[34mdplyr\u001b[39m::\u001b[32mlag()\u001b[39m    masks \u001b[34mstats\u001b[39m::lag()\n",
      "Loading required package: randomForest\n",
      "\n",
      "randomForest 4.7-1.1\n",
      "\n",
      "Type rfNews() to see new features/changes/bug fixes.\n",
      "\n",
      "\n",
      "Attaching package: ‘randomForest’\n",
      "\n",
      "\n",
      "The following object is masked from ‘package:dplyr’:\n",
      "\n",
      "    combine\n",
      "\n",
      "\n",
      "The following object is masked from ‘package:ggplot2’:\n",
      "\n",
      "    margin\n",
      "\n",
      "\n",
      "Loading required package: RColorBrewer\n",
      "\n",
      "\n",
      "Attaching package: ‘kableExtra’\n",
      "\n",
      "\n",
      "The following object is masked from ‘package:dplyr’:\n",
      "\n",
      "    group_rows\n",
      "\n",
      "\n"
     ]
    }
   ],
   "source": [
    "#Import Necessary libraries\n",
    "library('tidyverse')\n",
    "library('dplyr')\n",
    "library('forcats')\n",
    "library(quantregForest)\n",
    "library('kableExtra')\n",
    "source('functions.R')"
   ]
  },
  {
   "cell_type": "code",
   "execution_count": 4,
   "id": "4a5b7713-2224-4f90-9d33-9f823f0f86a4",
   "metadata": {
    "tags": []
   },
   "outputs": [],
   "source": [
    "kFoldForest = function(Kfold, seed, datafr)\n",
    "{ set.seed(seed)\n",
    "  n = nrow(datafr)\n",
    "  iperm<<-sample(n) # set as global for debugging check\n",
    "  nhold = round(n/Kfold)\n",
    "  reg = list()\n",
    "  pred = list() \n",
    "  scoreVar = list()\n",
    "  rocVar = list()\n",
    "  pred_y = sample(n-nhold)\n",
    "  for(k in 1:Kfold){ \n",
    "        ilow = (k-1)*nhold+1\n",
    "        ihigh = k*nhold\n",
    "        if(k==Kfold) { ihigh = n }\n",
    "        ifold = iperm[ilow:ihigh]\n",
    "      \n",
    "        holdo = datafr[ifold,]\n",
    "        train = datafr[-ifold,]\n",
    "        train$price = log(train$price)\n",
    "      \n",
    "        qRF = quantregForest(train[,-1],train[,1],ntree = 100)\n",
    "        predRF = predict(qRF, what=c(.1,.25,.5,.75,.9), newdata=holdo[,-1])\n",
    "        preds50 = cbind(exp(predRF[,3]),exp(predRF[,2]),exp(predRF[,4]))\n",
    "        preds80 = cbind(exp(predRF[,3]),exp(predRF[,1]),exp(predRF[,5]))\n",
    "      \n",
    "        IS50qRF = intervalScore(preds50,holdo$price,0.5)\n",
    "        IS80qRF = intervalScore(preds80,holdo$price,0.8)\n",
    "          \n",
    "        outqRF = rbind(IS50qRF$summary,IS80qRF$summary) \n",
    "        colnames(outqRF) = c(\"level\",\"avgleng\",\"IS\",\"cover\") \n",
    "        print(outqRF)\n",
    "        \n",
    "  }\n",
    "}"
   ]
  },
  {
   "cell_type": "code",
   "execution_count": 8,
   "id": "9e0fcaf7-68c0-491b-8435-c1b8d5d3327b",
   "metadata": {
    "tags": []
   },
   "outputs": [],
   "source": [
    "train = readRDS('04a-wrangledTrain.rds')\n",
    "training = train %>% select(price,condition,fuel,odometer,transmission,drive,isLuxury,age)"
   ]
  },
  {
   "cell_type": "code",
   "execution_count": 9,
   "id": "7fb4bcaf-838c-4d54-b4c8-939dd778d105",
   "metadata": {
    "tags": []
   },
   "outputs": [
    {
     "name": "stdout",
     "output_type": "stream",
     "text": [
      "     level   avgleng       IS     cover\n",
      "[1,]   0.5  8299.935 15129.47 0.5375340\n",
      "[2,]   0.8 16227.266 21949.24 0.8357915\n",
      "     level   avgleng       IS     cover\n",
      "[1,]   0.5  8300.686 15073.70 0.5402716\n",
      "[2,]   0.8 16173.385 21856.36 0.8343920\n",
      "     level   avgleng       IS     cover\n",
      "[1,]   0.5  8379.141 15239.59 0.5349113\n",
      "[2,]   0.8 16295.097 22242.79 0.8309034\n"
     ]
    }
   ],
   "source": [
    "kFoldForest(Kfold = 3,seed = 123,datafr = training)"
   ]
  },
  {
   "cell_type": "code",
   "execution_count": 5,
   "id": "53c1c9ce-7381-440f-bea0-1e82b0ec4b61",
   "metadata": {
    "tags": []
   },
   "outputs": [
    {
     "name": "stdout",
     "output_type": "stream",
     "text": [
      "     level  avgleng       IS     cover\n",
      "[1,]   0.5 11640.81 18918.67 0.6142169\n",
      "[2,]   0.8 24329.37 30063.24 0.8938497\n",
      "     level  avgleng       IS     cover\n",
      "[1,]   0.5 10806.70 18776.92 0.5865951\n",
      "[2,]   0.8 22137.93 28887.16 0.8755171\n",
      "     level  avgleng       IS     cover\n",
      "[1,]   0.5 11388.50 18986.80 0.6042724\n",
      "[2,]   0.8 23381.18 29916.05 0.8791640\n"
     ]
    }
   ],
   "source": [
    "sub = feature_selection(train) %>% select(-manufacturer)\n",
    "kFoldForest(Kfold = 3, seed = 123, datafr = sub)"
   ]
  },
  {
   "cell_type": "code",
   "execution_count": 14,
   "id": "10db302d-f608-4a34-ac72-4c3304a0e0c2",
   "metadata": {
    "tags": []
   },
   "outputs": [],
   "source": [
    "sub$price = log(sub$price)\n",
    "qRF = quantregForest(sub[,-1],sub[,1],ntree = 100)"
   ]
  },
  {
   "cell_type": "code",
   "execution_count": 16,
   "id": "7cf6cd37-92d6-4059-9d26-705bd4b392fa",
   "metadata": {
    "tags": []
   },
   "outputs": [],
   "source": [
    "holdo = readRDS('04b-wrangledHoldout.rds')"
   ]
  },
  {
   "cell_type": "code",
   "execution_count": 17,
   "id": "f9b05167-1661-41dd-a62f-8aa67fec7a01",
   "metadata": {
    "tags": []
   },
   "outputs": [],
   "source": [
    "predRF = predict(qRF, what=c(.1,.25,.5,.75,.9), newdata=holdo[,-1])"
   ]
  },
  {
   "cell_type": "code",
   "execution_count": 19,
   "id": "3e77a1d8-a0ff-4851-be83-367ed1683e22",
   "metadata": {
    "tags": []
   },
   "outputs": [
    {
     "name": "stdout",
     "output_type": "stream",
     "text": [
      "     level  avgleng       IS     cover\n",
      "[1,]   0.5 11346.96 18694.62 0.6035763\n",
      "[2,]   0.8 23133.01 29568.49 0.8753025\n"
     ]
    }
   ],
   "source": [
    "preds50 = cbind(exp(predRF[,3]),exp(predRF[,2]),exp(predRF[,4]))\n",
    "preds80 = cbind(exp(predRF[,3]),exp(predRF[,1]),exp(predRF[,5]))     \n",
    "IS50qRF = intervalScore(preds50,holdo$price,0.5)\n",
    "IS80qRF = intervalScore(preds80,holdo$price,0.8)\n",
    "outqRF = rbind(IS50qRF$summary,IS80qRF$summary) \n",
    "colnames(outqRF) = c(\"level\",\"avgleng\",\"IS\",\"cover\") \n",
    "print(outqRF)"
   ]
  },
  {
   "cell_type": "code",
   "execution_count": null,
   "id": "bbc87986-84c1-49ae-a70a-fe46c5f83c3b",
   "metadata": {},
   "outputs": [],
   "source": []
  }
 ],
 "metadata": {
  "kernelspec": {
   "display_name": "R",
   "language": "R",
   "name": "ir"
  },
  "language_info": {
   "codemirror_mode": "r",
   "file_extension": ".r",
   "mimetype": "text/x-r-source",
   "name": "R",
   "pygments_lexer": "r",
   "version": "4.2.1"
  }
 },
 "nbformat": 4,
 "nbformat_minor": 5
}
