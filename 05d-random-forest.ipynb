{
 "cells": [
  {
   "cell_type": "code",
   "execution_count": 4,
   "id": "6980bfca-f7ad-4fd4-89df-8bdae884c2c6",
   "metadata": {
    "tags": []
   },
   "outputs": [
    {
     "name": "stderr",
     "output_type": "stream",
     "text": [
      "── \u001b[1mAttaching packages\u001b[22m ─────────────────────────────────────── tidyverse 1.3.2 ──\n",
      "\u001b[32m✔\u001b[39m \u001b[34mggplot2\u001b[39m 3.4.1     \u001b[32m✔\u001b[39m \u001b[34mpurrr  \u001b[39m 0.3.5\n",
      "\u001b[32m✔\u001b[39m \u001b[34mtibble \u001b[39m 3.1.8     \u001b[32m✔\u001b[39m \u001b[34mdplyr  \u001b[39m 1.1.0\n",
      "\u001b[32m✔\u001b[39m \u001b[34mtidyr  \u001b[39m 1.2.1     \u001b[32m✔\u001b[39m \u001b[34mstringr\u001b[39m 1.5.0\n",
      "\u001b[32m✔\u001b[39m \u001b[34mreadr  \u001b[39m 2.1.3     \u001b[32m✔\u001b[39m \u001b[34mforcats\u001b[39m 0.5.2\n",
      "── \u001b[1mConflicts\u001b[22m ────────────────────────────────────────── tidyverse_conflicts() ──\n",
      "\u001b[31m✖\u001b[39m \u001b[34mdplyr\u001b[39m::\u001b[32mfilter()\u001b[39m masks \u001b[34mstats\u001b[39m::filter()\n",
      "\u001b[31m✖\u001b[39m \u001b[34mdplyr\u001b[39m::\u001b[32mlag()\u001b[39m    masks \u001b[34mstats\u001b[39m::lag()\n",
      "Loading required package: randomForest\n",
      "\n",
      "randomForest 4.7-1.1\n",
      "\n",
      "Type rfNews() to see new features/changes/bug fixes.\n",
      "\n",
      "\n",
      "Attaching package: ‘randomForest’\n",
      "\n",
      "\n",
      "The following object is masked from ‘package:dplyr’:\n",
      "\n",
      "    combine\n",
      "\n",
      "\n",
      "The following object is masked from ‘package:ggplot2’:\n",
      "\n",
      "    margin\n",
      "\n",
      "\n",
      "Loading required package: RColorBrewer\n",
      "\n",
      "\n",
      "Attaching package: ‘kableExtra’\n",
      "\n",
      "\n",
      "The following object is masked from ‘package:dplyr’:\n",
      "\n",
      "    group_rows\n",
      "\n",
      "\n"
     ]
    }
   ],
   "source": [
    "#Import Necessary libraries\n",
    "library('tidyverse')\n",
    "library('dplyr')\n",
    "library('forcats')\n",
    "library('quantregForest')\n",
    "library('kableExtra')\n",
    "source('functions.R')"
   ]
  },
  {
   "cell_type": "markdown",
   "id": "7d58bbea-1cd0-46b7-b035-eae602060ecf",
   "metadata": {},
   "source": [
    "## 05d-RandomForest\n",
    "WARNING: This document has a runtime exceeding 5 minutes (sometimes an hour depending on computing power)\n",
    "\n",
    "Below we write a custom function to perform k-fold cv on a random forest model then report the interval scores, avg length, and calibration."
   ]
  },
  {
   "cell_type": "code",
   "execution_count": 3,
   "id": "4a5b7713-2224-4f90-9d33-9f823f0f86a4",
   "metadata": {
    "tags": []
   },
   "outputs": [],
   "source": [
    "#' @description\n",
    "#' Perform Kfold CV on a Forest\n",
    "#'\n",
    "#' @param Kfold integer, the number of folds to perform kfold cv over\n",
    "#' @param seed integer, a number to set randomness for reproduction\n",
    "#' @param datafr, a dataframe to train and test the model on, all predictor variables will be used and price will be predicted\n",
    "#'\n",
    "#' @return outTree, a report of the performance of the tree on each fold\n",
    "\n",
    "kFoldForest = function(Kfold, seed, datafr)\n",
    "{ set.seed(seed)\n",
    "  n = nrow(datafr)\n",
    "  iperm<<-sample(n) # set as global for debugging check\n",
    "  nhold = round(n/Kfold)\n",
    "  reg = list()\n",
    "  pred = list() \n",
    "  scoreVar = list()\n",
    "  rocVar = list()\n",
    "  pred_y = sample(n-nhold)\n",
    "  for(k in 1:Kfold){ \n",
    "        ilow = (k-1)*nhold+1\n",
    "        ihigh = k*nhold\n",
    "        if(k==Kfold) { ihigh = n }\n",
    "        ifold = iperm[ilow:ihigh]\n",
    "      \n",
    "        holdo = datafr[ifold,]\n",
    "        train = datafr[-ifold,]\n",
    "        train$price = log(train$price)\n",
    "      \n",
    "        qRF = quantregForest(train[,-1],train[,1],ntree = 100)\n",
    "        predRF = predict(qRF, what=c(.1,.25,.5,.75,.9), newdata=holdo[,-1])\n",
    "        preds50 = cbind(exp(predRF[,3]),exp(predRF[,2]),exp(predRF[,4]))\n",
    "        preds80 = cbind(exp(predRF[,3]),exp(predRF[,1]),exp(predRF[,5]))\n",
    "      \n",
    "        IS50qRF = intervalScore(preds50,holdo$price,0.5)\n",
    "        IS80qRF = intervalScore(preds80,holdo$price,0.8)\n",
    "          \n",
    "        outqRF = rbind(IS50qRF$summary,IS80qRF$summary) \n",
    "        colnames(outqRF) = c(\"level\",\"avgleng\",\"IS\",\"cover\") \n",
    "        print(outqRF)\n",
    "        \n",
    "  }\n",
    "}"
   ]
  },
  {
   "cell_type": "markdown",
   "id": "87087f2a-8230-46c5-ae68-dc52c5ced806",
   "metadata": {},
   "source": [
    "### Running Kfold CV\n",
    "Below I load the data and run kfold cv on the full set of predictors, then a reduced set. Some variables are excluded from the full set to improve training (varibales were selected for low performance such as paint_color).\n",
    "\n",
    "to improve computation speed this was run locally in Rstudio and NOT in this notebook."
   ]
  },
  {
   "cell_type": "code",
   "execution_count": 5,
   "id": "9e0fcaf7-68c0-491b-8435-c1b8d5d3327b",
   "metadata": {
    "tags": []
   },
   "outputs": [],
   "source": [
    "#load the training data\n",
    "training_set = readRDS('04a-wrangledTrain.rds') %>% select(-c(state,size,paint_color)) #removing state since Forest can't hande >32 categories"
   ]
  },
  {
   "cell_type": "code",
   "execution_count": null,
   "id": "7fb4bcaf-838c-4d54-b4c8-939dd778d105",
   "metadata": {
    "tags": []
   },
   "outputs": [],
   "source": [
    "kFoldForest(Kfold = 3,seed = 123,datafr = training_set)"
   ]
  },
  {
   "cell_type": "code",
   "execution_count": null,
   "id": "53c1c9ce-7381-440f-bea0-1e82b0ec4b61",
   "metadata": {
    "tags": []
   },
   "outputs": [],
   "source": [
    "sub = feature_selection(training_set)\n",
    "kFoldForest(Kfold = 3, seed = 123, datafr = sub)"
   ]
  },
  {
   "cell_type": "markdown",
   "id": "667d7cb7-0be2-4ad9-a046-354dbe150de2",
   "metadata": {},
   "source": [
    "The results heavily favoured the full predictor set model with an average interval score of 10484 on the 50% interval and 16176 on the 80% interval compared to 10995 and 22409 respectively. For a detailed report of the fold values see the table in the report document."
   ]
  },
  {
   "cell_type": "markdown",
   "id": "14f85cc1-80f9-427f-9aec-c8a47b5e0fe6",
   "metadata": {},
   "source": [
    "## Fitting the full model\n",
    "Below I fit the model on the whole training set"
   ]
  },
  {
   "cell_type": "code",
   "execution_count": 5,
   "id": "634b717a-6bbf-46f1-8654-45e5d2756e44",
   "metadata": {
    "tags": []
   },
   "outputs": [],
   "source": [
    "qRF = quantregForest(training_set[,-1],training_set[,1],ntree = 100)"
   ]
  },
  {
   "cell_type": "code",
   "execution_count": 6,
   "id": "4ce8b829-1d38-41ea-8bad-8fe33f1c2fd2",
   "metadata": {
    "tags": []
   },
   "outputs": [],
   "source": [
    "saveRDS(qRF, \"05d-RF.rds\")"
   ]
  },
  {
   "cell_type": "code",
   "execution_count": 19,
   "id": "3e77a1d8-a0ff-4851-be83-367ed1683e22",
   "metadata": {
    "tags": []
   },
   "outputs": [
    {
     "name": "stdout",
     "output_type": "stream",
     "text": [
      "     level  avgleng       IS     cover\n",
      "[1,]   0.5 11346.96 18694.62 0.6035763\n",
      "[2,]   0.8 23133.01 29568.49 0.8753025\n"
     ]
    }
   ],
   "source": [
    "#predicting on holdout\n",
    "sub$price = log(sub$price)\n",
    "qRF = quantregForest(sub[,-1],sub[,1],ntree = 100)\n",
    "predRF = predict(qRF, what=c(.1,.25,.5,.75,.9), newdata=holdo[,-1])\n",
    "preds50 = cbind(exp(predRF[,3]),exp(predRF[,2]),exp(predRF[,4]))\n",
    "preds80 = cbind(exp(predRF[,3]),exp(predRF[,1]),exp(predRF[,5]))     \n",
    "IS50qRF = intervalScore(preds50,holdo$price,0.5)\n",
    "IS80qRF = intervalScore(preds80,holdo$price,0.8)\n",
    "outqRF = rbind(IS50qRF$summary,IS80qRF$summary) \n",
    "colnames(outqRF) = c(\"level\",\"avgleng\",\"IS\",\"cover\") \n",
    "print(outqRF)"
   ]
  }
 ],
 "metadata": {
  "kernelspec": {
   "display_name": "R",
   "language": "R",
   "name": "ir"
  },
  "language_info": {
   "codemirror_mode": "r",
   "file_extension": ".r",
   "mimetype": "text/x-r-source",
   "name": "R",
   "pygments_lexer": "r",
   "version": "4.2.1"
  }
 },
 "nbformat": 4,
 "nbformat_minor": 5
}
