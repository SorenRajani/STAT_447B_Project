{
 "cells": [
  {
   "cell_type": "code",
   "execution_count": 5,
   "id": "a188076e-891d-43b5-8d1d-04a7dbd997aa",
   "metadata": {
    "tags": []
   },
   "outputs": [
    {
     "name": "stderr",
     "output_type": "stream",
     "text": [
      "Installing package into ‘/home/daniel/R/x86_64-pc-linux-gnu-library/4.2’\n",
      "(as ‘lib’ is unspecified)\n",
      "\n"
     ]
    }
   ],
   "source": [
    "# install.packages(\"quantregForest\")"
   ]
  },
  {
   "cell_type": "code",
   "execution_count": 3,
   "id": "6980bfca-f7ad-4fd4-89df-8bdae884c2c6",
   "metadata": {},
   "outputs": [],
   "source": [
    "#Import Necessary libraries\n",
    "library('tidyverse')\n",
    "library('dplyr')\n",
    "library('forcats')\n",
    "library('randomForest')\n",
    "library('kableExtra')\n",
    "library('quantregForest')\n",
    "source('functions.R')"
   ]
  },
  {
   "cell_type": "code",
   "execution_count": 4,
   "id": "a333b25f-a2fd-437c-ada4-a77b8422b4bb",
   "metadata": {},
   "outputs": [],
   "source": [
    "myTrain = function(datafr) {\n",
    "    rf <- randomForest(log(price)~., data = datafr)\n",
    "    }"
   ]
  },
  {
   "cell_type": "code",
   "execution_count": 5,
   "id": "9e5998f1-bd53-4cac-8c4b-79943e5ac175",
   "metadata": {},
   "outputs": [],
   "source": [
    "myPredict = function(model, holdout) {   ## second col must be lower bound \n",
    "    predict(model, holdout)\n",
    "    }"
   ]
  },
  {
   "cell_type": "code",
   "execution_count": 6,
   "id": "033a4d7c-2a6f-45b8-9ec4-e327dcec1882",
   "metadata": {},
   "outputs": [],
   "source": [
    "myScore = function(level, ...){\n",
    "    \n",
    "    \n",
    "    }"
   ]
  },
  {
   "cell_type": "code",
   "execution_count": 7,
   "id": "64eba3ff-942e-477e-b18b-086a277c50cc",
   "metadata": {
    "tags": []
   },
   "outputs": [],
   "source": [
    "#  \"age\"          \"fuel\"         \"drive\"        \"type\"         \"manufacturer\""
   ]
  },
  {
   "cell_type": "code",
   "execution_count": 8,
   "id": "0ddde42b-b3b6-4114-8247-9b3c716fdcbf",
   "metadata": {
    "tags": []
   },
   "outputs": [],
   "source": [
    "train0 = readRDS(\"04a-wrangledTrain.rds\")\n",
    "holdout0 = readRDS(\"04b-wrangledHoldout.rds\")\n",
    "train = train0 %>% select(age, fuel, drive, type, transmission, price)"
   ]
  },
  {
   "cell_type": "code",
   "execution_count": 9,
   "id": "423eadc9-8301-4b65-a4b4-3f61c777d41c",
   "metadata": {},
   "outputs": [],
   "source": [
    "rf <- randomForest(price~., data = train)"
   ]
  },
  {
   "cell_type": "code",
   "execution_count": 7,
   "id": "107619c6-a8f2-4973-b43a-ac3d07ed32fe",
   "metadata": {
    "tags": []
   },
   "outputs": [
    {
     "ename": "ERROR",
     "evalue": "Error in `[.data.frame`(train, , -price): object 'price' not found\n",
     "output_type": "error",
     "traceback": [
      "Error in `[.data.frame`(train, , -price): object 'price' not found\nTraceback:\n",
      "1. quantregForest(train[, -price], train[, price])",
      "2. nrow(x)",
      "3. train[, -price]",
      "4. `[.data.frame`(train, , -price)"
     ]
    }
   ],
   "source": [
    "# qRF <- quantregForest(train[,-price], train[,price])"
   ]
  }
 ],
 "metadata": {
  "kernelspec": {
   "display_name": "R",
   "language": "R",
   "name": "ir"
  },
  "language_info": {
   "codemirror_mode": "r",
   "file_extension": ".r",
   "mimetype": "text/x-r-source",
   "name": "R",
   "pygments_lexer": "r",
   "version": "4.2.2"
  }
 },
 "nbformat": 4,
 "nbformat_minor": 5
}
