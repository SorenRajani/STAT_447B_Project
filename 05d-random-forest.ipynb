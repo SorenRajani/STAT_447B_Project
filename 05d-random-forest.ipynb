{
 "cells": [
  {
   "cell_type": "code",
   "execution_count": 27,
   "id": "6980bfca-f7ad-4fd4-89df-8bdae884c2c6",
   "metadata": {
    "tags": []
   },
   "outputs": [
    {
     "name": "stderr",
     "output_type": "stream",
     "text": [
      "Loading required package: RColorBrewer\n",
      "\n"
     ]
    }
   ],
   "source": [
    "#Import Necessary libraries\n",
    "library('tidyverse')\n",
    "library('dplyr')\n",
    "library('forcats')\n",
    "library(quantregForest)\n",
    "library('kableExtra')\n",
    "source('functions.R')"
   ]
  },
  {
   "cell_type": "code",
   "execution_count": null,
   "id": "4a5b7713-2224-4f90-9d33-9f823f0f86a4",
   "metadata": {
    "tags": []
   },
   "outputs": [],
   "source": [
    "kFoldForest = function(Kfold, seed, datafr)\n",
    "{ set.seed(seed)\n",
    "  n = nrow(datafr)\n",
    "  iperm<<-sample(n) # set as global for debugging check\n",
    "  nhold = round(n/Kfold)\n",
    "  reg = list()\n",
    "  pred = list() \n",
    "  scoreVar = list()\n",
    "  rocVar = list()\n",
    "  pred_y = sample(n-nhold)\n",
    "  for(k in 1:Kfold){ \n",
    "        ilow = (k-1)*nhold+1\n",
    "        ihigh = k*nhold\n",
    "        if(k==Kfold) { ihigh = n }\n",
    "        ifold = iperm[ilow:ihigh]\n",
    "      \n",
    "        holdo = datafr[ifold,]\n",
    "        train = datafr[-ifold,]\n",
    "        train$price = log(train$price)\n",
    "      \n",
    "        qRF = quantregForest(train[,-1],train[,1],ntree = 500)\n",
    "        predRF = predict(qRF, what=c(.1,.25,.5,.75,.9), newdata=holdo[,-1])\n",
    "        preds50 = cbind(exp(predRF[,3]),exp(predRF[,2]),exp(predRF[,4]))\n",
    "        preds80 = cbind(exp(predRF[,3]),exp(predRF[,1]),exp(predRF[,5]))\n",
    "      \n",
    "        IS50qRF = intervalScore(preds50,holdo$price,0.5)\n",
    "        IS80qRF = intervalScore(preds80,holdo$price,0.8)\n",
    "          \n",
    "        outqRF = rbind(IS50qRF$summary,IS80qRF$summary) \n",
    "        colnames(outqRF) = c(\"level\",\"avgleng\",\"IS\",\"cover\") \n",
    "        print(outqRF)\n",
    "        \n",
    "  }\n",
    "}"
   ]
  },
  {
   "cell_type": "code",
   "execution_count": null,
   "id": "7fb4bcaf-838c-4d54-b4c8-939dd778d105",
   "metadata": {
    "tags": []
   },
   "outputs": [],
   "source": [
    "kFoldForest(Kfold = 3,seed = 123,datafr = train)"
   ]
  },
  {
   "cell_type": "code",
   "execution_count": null,
   "id": "b25217c2-910b-4dae-8968-a22e12c8f405",
   "metadata": {},
   "outputs": [],
   "source": []
  }
 ],
 "metadata": {
  "kernelspec": {
   "display_name": "R",
   "language": "R",
   "name": "ir"
  },
  "language_info": {
   "codemirror_mode": "r",
   "file_extension": ".r",
   "mimetype": "text/x-r-source",
   "name": "R",
   "pygments_lexer": "r",
   "version": "4.2.1"
  }
 },
 "nbformat": 4,
 "nbformat_minor": 5
}
