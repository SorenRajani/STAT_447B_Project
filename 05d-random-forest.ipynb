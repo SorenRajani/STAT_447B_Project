{
 "cells": [
  {
   "cell_type": "code",
   "execution_count": null,
   "id": "6980bfca-f7ad-4fd4-89df-8bdae884c2c6",
   "metadata": {},
   "outputs": [],
   "source": [
    "#Import Necessary libraries\n",
    "library('tidyverse')\n",
    "library('dplyr')\n",
    "library('forcats')\n",
    "library('randomForest')\n",
    "library('kableExtra')\n",
    "source('functions.R')"
   ]
  },
  {
   "cell_type": "code",
   "execution_count": null,
   "id": "a333b25f-a2fd-437c-ada4-a77b8422b4bb",
   "metadata": {},
   "outputs": [],
   "source": [
    "myTrain = function(datafr) {\n",
    "    rf <- randomForest(\n",
    "    return model\n",
    "    }"
   ]
  },
  {
   "cell_type": "code",
   "execution_count": null,
   "id": "9e5998f1-bd53-4cac-8c4b-79943e5ac175",
   "metadata": {},
   "outputs": [],
   "source": [
    "myPredict = function(datafr, model) {   ## second col must be lower bound \n",
    "    predict()\n",
    "    }"
   ]
  },
  {
   "cell_type": "code",
   "execution_count": null,
   "id": "033a4d7c-2a6f-45b8-9ec4-e327dcec1882",
   "metadata": {},
   "outputs": [],
   "source": [
    "myScore = function(level, ...){\n",
    "    \n",
    "    \n",
    "    }"
   ]
  }
 ],
 "metadata": {
  "kernelspec": {
   "display_name": "R",
   "language": "R",
   "name": "ir"
  },
  "language_info": {
   "codemirror_mode": "r",
   "file_extension": ".r",
   "mimetype": "text/x-r-source",
   "name": "R",
   "pygments_lexer": "r",
   "version": "4.2.2"
  }
 },
 "nbformat": 4,
 "nbformat_minor": 5
}
