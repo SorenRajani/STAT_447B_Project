{
 "cells": [
  {
   "cell_type": "code",
   "execution_count": 62,
   "id": "d7264ce0-baa1-43c7-a8ba-8fb011be9bea",
   "metadata": {},
   "outputs": [],
   "source": [
    "#Import Necessary libraries\n",
    "suppressWarnings({\n",
    "library('tidyverse')\n",
    "library('dplyr')\n",
    "source('functions.R')})"
   ]
  },
  {
   "cell_type": "code",
   "execution_count": 63,
   "id": "0ec428b3-be2c-4437-8efa-4b80737cc73c",
   "metadata": {},
   "outputs": [],
   "source": [
    "train = readRDS(\"04a-wrangledTrain.rds\")\n",
    "train_subset = feature_selection(train)"
   ]
  },
  {
   "cell_type": "markdown",
   "id": "beecf5ab-3896-454b-bd8f-10e8baa620e3",
   "metadata": {},
   "source": [
    "# 05e Linear Regression with interactions\n",
    "This file will perform k-fold cv on two different linear regression with interactions based models, one on the entire predictor set, the other on a subset of the predictor variables. Interaction terms in between age and other features selected by feature selection technique were added."
   ]
  },
  {
   "cell_type": "code",
   "execution_count": 108,
   "id": "42809ba3-9ace-45e8-ae27-b3ead0e5b2ef",
   "metadata": {},
   "outputs": [],
   "source": [
    "#' @description\n",
    "#' Define training function to train model based on data to be used for linear Regression with certain interavtions\n",
    "#'\n",
    "#' @param data - dataset which is being used to train the desired model\n",
    "#'\n",
    "#' @return model - the trained model\n",
    "myTrain = function(data){\n",
    "    model = lm(log(price)~.+age:fuel+age:drive+age:type+age:cylinders, data = data)\n",
    "    return(model)\n",
    "}"
   ]
  },
  {
   "cell_type": "code",
   "execution_count": 109,
   "id": "dc3ac350-c75b-46fc-9185-4f869224921e",
   "metadata": {},
   "outputs": [],
   "source": [
    "#' @description\n",
    "#' Function to get prediction for new data based on input model with prediciton interval of 80%\n",
    "#' \n",
    "#' @param model - trained model\n",
    "#' @newdata - the data for which the predictions are to be made\n",
    "#'\n",
    "#' @return a dataset return predicted price in USD with IS\n",
    "myPredict= function(model, newdata){\n",
    "    log_price_predict = predict(model, newdata=newdata, interval=\"prediction\", level=0.8)\n",
    "    return(exp(log_price_predict))\n",
    "}"
   ]
  },
  {
   "cell_type": "code",
   "execution_count": 110,
   "id": "f0c6556e-6186-4824-9e7c-2620da5164e7",
   "metadata": {
    "tags": []
   },
   "outputs": [],
   "source": [
    "#' @description \n",
    "#' Function to produce interval scores for given predictions and true values\n",
    "#'\n",
    "#' @param predict = predicted values with 80% PI\n",
    "#' @param data = dataset which contains price - the true value\n",
    "#'\n",
    "#' @return interval score outcomes = summary of level, average length of interval, interval score and coverage\n",
    "myScore= function(predict, data){\n",
    "    intervalScore(predict, data$price, level = 0.8)\n",
    "    }"
   ]
  },
  {
   "cell_type": "code",
   "execution_count": 111,
   "id": "70aafe67-5e0d-4156-9d07-dcce3aa2907e",
   "metadata": {},
   "outputs": [
    {
     "data": {
      "text/html": [
       "<ol>\n",
       "\t<li><strong>$summary</strong> = <style>\n",
       ".list-inline {list-style: none; margin:0; padding: 0}\n",
       ".list-inline>li {display: inline-block}\n",
       ".list-inline>li:not(:last-child)::after {content: \"\\00b7\"; padding: 0 .5ex}\n",
       "</style>\n",
       "<ol class=list-inline><li>0.8</li><li>19162.8743748509</li><li>25733.3849675773</li><li>0.859168576306117</li></ol>\n",
       "</li>\n",
       "\t<li><strong>$summary</strong> = <style>\n",
       ".list-inline {list-style: none; margin:0; padding: 0}\n",
       ".list-inline>li {display: inline-block}\n",
       ".list-inline>li:not(:last-child)::after {content: \"\\00b7\"; padding: 0 .5ex}\n",
       "</style>\n",
       "<ol class=list-inline><li>0.8</li><li>19347.1675325278</li><li>25724.1140894748</li><li>0.858414973623906</li></ol>\n",
       "</li>\n",
       "\t<li><strong>$summary</strong> = <style>\n",
       ".list-inline {list-style: none; margin:0; padding: 0}\n",
       ".list-inline>li {display: inline-block}\n",
       ".list-inline>li:not(:last-child)::after {content: \"\\00b7\"; padding: 0 .5ex}\n",
       "</style>\n",
       "<ol class=list-inline><li>0.8</li><li>19237.7103514028</li><li>25859.3435943626</li><li>0.856064101381071</li></ol>\n",
       "</li>\n",
       "</ol>\n"
      ],
      "text/latex": [
       "\\begin{enumerate}\n",
       "\\item \\textbf{\\$summary} = \\begin{enumerate*}\n",
       "\\item 0.8\n",
       "\\item 19162.8743748509\n",
       "\\item 25733.3849675773\n",
       "\\item 0.859168576306117\n",
       "\\end{enumerate*}\n",
       "\n",
       "\\item \\textbf{\\$summary} = \\begin{enumerate*}\n",
       "\\item 0.8\n",
       "\\item 19347.1675325278\n",
       "\\item 25724.1140894748\n",
       "\\item 0.858414973623906\n",
       "\\end{enumerate*}\n",
       "\n",
       "\\item \\textbf{\\$summary} = \\begin{enumerate*}\n",
       "\\item 0.8\n",
       "\\item 19237.7103514028\n",
       "\\item 25859.3435943626\n",
       "\\item 0.856064101381071\n",
       "\\end{enumerate*}\n",
       "\n",
       "\\end{enumerate}\n"
      ],
      "text/markdown": [
       "1. **$summary** = 1. 0.8\n",
       "2. 19162.8743748509\n",
       "3. 25733.3849675773\n",
       "4. 0.859168576306117\n",
       "\n",
       "\n",
       "\n",
       "2. **$summary** = 1. 0.8\n",
       "2. 19347.1675325278\n",
       "3. 25724.1140894748\n",
       "4. 0.858414973623906\n",
       "\n",
       "\n",
       "\n",
       "3. **$summary** = 1. 0.8\n",
       "2. 19237.7103514028\n",
       "3. 25859.3435943626\n",
       "4. 0.856064101381071\n",
       "\n",
       "\n",
       "\n",
       "\n",
       "\n"
      ],
      "text/plain": [
       "[[1]]\n",
       "[[1]]$summary\n",
       "[1] 8.000000e-01 1.916287e+04 2.573338e+04 8.591686e-01\n",
       "\n",
       "\n",
       "[[2]]\n",
       "[[2]]$summary\n",
       "[1]     0.800000 19347.167533 25724.114089     0.858415\n",
       "\n",
       "\n",
       "[[3]]\n",
       "[[3]]$summary\n",
       "[1] 8.000000e-01 1.923771e+04 2.585934e+04 8.560641e-01\n",
       "\n"
      ]
     },
     "metadata": {},
     "output_type": "display_data"
    }
   ],
   "source": [
    "### Below are the output for each fold. Each fold (1,2,3) has the label + its summary for level, avglength, IS, cover\n",
    "### for the fold in that order\n",
    "kFold(3, 123, train)"
   ]
  },
  {
   "cell_type": "code",
   "execution_count": 112,
   "id": "49965aba-9b60-4a28-8987-2e444af31cf1",
   "metadata": {},
   "outputs": [
    {
     "data": {
      "text/html": [
       "<ol>\n",
       "\t<li><strong>$summary</strong> = <style>\n",
       ".list-inline {list-style: none; margin:0; padding: 0}\n",
       ".list-inline>li {display: inline-block}\n",
       ".list-inline>li:not(:last-child)::after {content: \"\\00b7\"; padding: 0 .5ex}\n",
       "</style>\n",
       "<ol class=list-inline><li>0.8</li><li>21198.7692707968</li><li>28398.4664149711</li><li>0.846957136924993</li></ol>\n",
       "</li>\n",
       "\t<li><strong>$summary</strong> = <style>\n",
       ".list-inline {list-style: none; margin:0; padding: 0}\n",
       ".list-inline>li {display: inline-block}\n",
       ".list-inline>li:not(:last-child)::after {content: \"\\00b7\"; padding: 0 .5ex}\n",
       "</style>\n",
       "<ol class=list-inline><li>0.8</li><li>21404.9506852247</li><li>28245.8809332051</li><li>0.85167868842374</li></ol>\n",
       "</li>\n",
       "\t<li><strong>$summary</strong> = <style>\n",
       ".list-inline {list-style: none; margin:0; padding: 0}\n",
       ".list-inline>li {display: inline-block}\n",
       ".list-inline>li:not(:last-child)::after {content: \"\\00b7\"; padding: 0 .5ex}\n",
       "</style>\n",
       "<ol class=list-inline><li>0.8</li><li>21325.2536420972</li><li>28496.9525968677</li><li>0.846682661253114</li></ol>\n",
       "</li>\n",
       "</ol>\n"
      ],
      "text/latex": [
       "\\begin{enumerate}\n",
       "\\item \\textbf{\\$summary} = \\begin{enumerate*}\n",
       "\\item 0.8\n",
       "\\item 21198.7692707968\n",
       "\\item 28398.4664149711\n",
       "\\item 0.846957136924993\n",
       "\\end{enumerate*}\n",
       "\n",
       "\\item \\textbf{\\$summary} = \\begin{enumerate*}\n",
       "\\item 0.8\n",
       "\\item 21404.9506852247\n",
       "\\item 28245.8809332051\n",
       "\\item 0.85167868842374\n",
       "\\end{enumerate*}\n",
       "\n",
       "\\item \\textbf{\\$summary} = \\begin{enumerate*}\n",
       "\\item 0.8\n",
       "\\item 21325.2536420972\n",
       "\\item 28496.9525968677\n",
       "\\item 0.846682661253114\n",
       "\\end{enumerate*}\n",
       "\n",
       "\\end{enumerate}\n"
      ],
      "text/markdown": [
       "1. **$summary** = 1. 0.8\n",
       "2. 21198.7692707968\n",
       "3. 28398.4664149711\n",
       "4. 0.846957136924993\n",
       "\n",
       "\n",
       "\n",
       "2. **$summary** = 1. 0.8\n",
       "2. 21404.9506852247\n",
       "3. 28245.8809332051\n",
       "4. 0.85167868842374\n",
       "\n",
       "\n",
       "\n",
       "3. **$summary** = 1. 0.8\n",
       "2. 21325.2536420972\n",
       "3. 28496.9525968677\n",
       "4. 0.846682661253114\n",
       "\n",
       "\n",
       "\n",
       "\n",
       "\n"
      ],
      "text/plain": [
       "[[1]]\n",
       "[[1]]$summary\n",
       "[1] 8.000000e-01 2.119877e+04 2.839847e+04 8.469571e-01\n",
       "\n",
       "\n",
       "[[2]]\n",
       "[[2]]$summary\n",
       "[1] 8.000000e-01 2.140495e+04 2.824588e+04 8.516787e-01\n",
       "\n",
       "\n",
       "[[3]]\n",
       "[[3]]$summary\n",
       "[1] 8.000000e-01 2.132525e+04 2.849695e+04 8.466827e-01\n",
       "\n"
      ]
     },
     "metadata": {},
     "output_type": "display_data"
    }
   ],
   "source": [
    "### Below are the output for each fold. Each fold (1,2,3) has the label + its summary for level, avglength, IS, cover\n",
    "### for the fold in that order\n",
    "kFold(3, 123, train_subset)"
   ]
  },
  {
   "cell_type": "markdown",
   "id": "58164269-96f9-4db5-a342-4727f3b02416",
   "metadata": {},
   "source": [
    "The myPredict() and myScore() functions are now redefined for 50% prediction intervals"
   ]
  },
  {
   "cell_type": "code",
   "execution_count": 114,
   "id": "1400f0f6-407d-4991-a80d-4c7116d2f29f",
   "metadata": {},
   "outputs": [],
   "source": [
    "#' @description\n",
    "#' Function to get prediction for new data based on input model with prediciton interval of 50%\n",
    "#' \n",
    "#' @param model - trained model\n",
    "#' @newdata - the data for which the predictions are to be made\n",
    "#'\n",
    "#' @return a dataset return predicted price in USD with IS\n",
    "myPredict= function(model, newdata){\n",
    "    log_price_predict = predict(model, newdata=newdata, interval=\"prediction\", level=0.5)\n",
    "    return(exp(log_price_predict))\n",
    "}"
   ]
  },
  {
   "cell_type": "code",
   "execution_count": 115,
   "id": "68756e01-ab66-42da-80d4-d8443116b63c",
   "metadata": {},
   "outputs": [],
   "source": [
    "#' @description \n",
    "#' Function to produce interval scores for given predictions and true values\n",
    "#'\n",
    "#' @param predict = predicted values with 50% PI\n",
    "#' @param data = dataset which contains price - the true value\n",
    "#'\n",
    "#' @return interval score outcomes = summary of level, average length of interval, interval score and coverage\n",
    "myScore= function(predict, data){\n",
    "    intervalScore(predict, data$price, level = 0.5)\n",
    "    }"
   ]
  },
  {
   "cell_type": "code",
   "execution_count": 116,
   "id": "53192e1e-f415-4713-9319-68fdc082c23e",
   "metadata": {},
   "outputs": [
    {
     "data": {
      "text/html": [
       "<ol>\n",
       "\t<li><strong>$summary</strong> = <style>\n",
       ".list-inline {list-style: none; margin:0; padding: 0}\n",
       ".list-inline>li {display: inline-block}\n",
       ".list-inline>li:not(:last-child)::after {content: \"\\00b7\"; padding: 0 .5ex}\n",
       "</style>\n",
       "<ol class=list-inline><li>0.5</li><li>9758.83480693404</li><li>16278.295421929</li><li>0.611817720428785</li></ol>\n",
       "</li>\n",
       "\t<li><strong>$summary</strong> = <style>\n",
       ".list-inline {list-style: none; margin:0; padding: 0}\n",
       ".list-inline>li {display: inline-block}\n",
       ".list-inline>li:not(:last-child)::after {content: \"\\00b7\"; padding: 0 .5ex}\n",
       "</style>\n",
       "<ol class=list-inline><li>0.5</li><li>9851.15742218029</li><li>16326.9858565739</li><li>0.613355685086357</li></ol>\n",
       "</li>\n",
       "\t<li><strong>$summary</strong> = <style>\n",
       ".list-inline {list-style: none; margin:0; padding: 0}\n",
       ".list-inline>li {display: inline-block}\n",
       ".list-inline>li:not(:last-child)::after {content: \"\\00b7\"; padding: 0 .5ex}\n",
       "</style>\n",
       "<ol class=list-inline><li>0.5</li><li>9796.42849555104</li><li>16381.7046424171</li><li>0.612592660945526</li></ol>\n",
       "</li>\n",
       "</ol>\n"
      ],
      "text/latex": [
       "\\begin{enumerate}\n",
       "\\item \\textbf{\\$summary} = \\begin{enumerate*}\n",
       "\\item 0.5\n",
       "\\item 9758.83480693404\n",
       "\\item 16278.295421929\n",
       "\\item 0.611817720428785\n",
       "\\end{enumerate*}\n",
       "\n",
       "\\item \\textbf{\\$summary} = \\begin{enumerate*}\n",
       "\\item 0.5\n",
       "\\item 9851.15742218029\n",
       "\\item 16326.9858565739\n",
       "\\item 0.613355685086357\n",
       "\\end{enumerate*}\n",
       "\n",
       "\\item \\textbf{\\$summary} = \\begin{enumerate*}\n",
       "\\item 0.5\n",
       "\\item 9796.42849555104\n",
       "\\item 16381.7046424171\n",
       "\\item 0.612592660945526\n",
       "\\end{enumerate*}\n",
       "\n",
       "\\end{enumerate}\n"
      ],
      "text/markdown": [
       "1. **$summary** = 1. 0.5\n",
       "2. 9758.83480693404\n",
       "3. 16278.295421929\n",
       "4. 0.611817720428785\n",
       "\n",
       "\n",
       "\n",
       "2. **$summary** = 1. 0.5\n",
       "2. 9851.15742218029\n",
       "3. 16326.9858565739\n",
       "4. 0.613355685086357\n",
       "\n",
       "\n",
       "\n",
       "3. **$summary** = 1. 0.5\n",
       "2. 9796.42849555104\n",
       "3. 16381.7046424171\n",
       "4. 0.612592660945526\n",
       "\n",
       "\n",
       "\n",
       "\n",
       "\n"
      ],
      "text/plain": [
       "[[1]]\n",
       "[[1]]$summary\n",
       "[1] 5.000000e-01 9.758835e+03 1.627830e+04 6.118177e-01\n",
       "\n",
       "\n",
       "[[2]]\n",
       "[[2]]$summary\n",
       "[1] 5.000000e-01 9.851157e+03 1.632699e+04 6.133557e-01\n",
       "\n",
       "\n",
       "[[3]]\n",
       "[[3]]$summary\n",
       "[1] 5.000000e-01 9.796428e+03 1.638170e+04 6.125927e-01\n",
       "\n"
      ]
     },
     "metadata": {},
     "output_type": "display_data"
    }
   ],
   "source": [
    "kFold(3, 123, train)"
   ]
  },
  {
   "cell_type": "code",
   "execution_count": 117,
   "id": "e8bc65ff-e469-48e5-974e-3b34635e0e8a",
   "metadata": {},
   "outputs": [
    {
     "data": {
      "text/html": [
       "<ol>\n",
       "\t<li><strong>$summary</strong> = <style>\n",
       ".list-inline {list-style: none; margin:0; padding: 0}\n",
       ".list-inline>li {display: inline-block}\n",
       ".list-inline>li:not(:last-child)::after {content: \"\\00b7\"; padding: 0 .5ex}\n",
       "</style>\n",
       "<ol class=list-inline><li>0.5</li><li>10707.6572896023</li><li>18069.2175350049</li><li>0.586349025699389</li></ol>\n",
       "</li>\n",
       "\t<li><strong>$summary</strong> = <style>\n",
       ".list-inline {list-style: none; margin:0; padding: 0}\n",
       ".list-inline>li {display: inline-block}\n",
       ".list-inline>li:not(:last-child)::after {content: \"\\00b7\"; padding: 0 .5ex}\n",
       "</style>\n",
       "<ol class=list-inline><li>0.5</li><li>10807.0892714696</li><li>18027.7165696893</li><li>0.590393872748804</li></ol>\n",
       "</li>\n",
       "\t<li><strong>$summary</strong> = <style>\n",
       ".list-inline {list-style: none; margin:0; padding: 0}\n",
       ".list-inline>li {display: inline-block}\n",
       ".list-inline>li:not(:last-child)::after {content: \"\\00b7\"; padding: 0 .5ex}\n",
       "</style>\n",
       "<ol class=list-inline><li>0.5</li><li>10769.3304131783</li><li>18173.6228471232</li><li>0.588616160684076</li></ol>\n",
       "</li>\n",
       "</ol>\n"
      ],
      "text/latex": [
       "\\begin{enumerate}\n",
       "\\item \\textbf{\\$summary} = \\begin{enumerate*}\n",
       "\\item 0.5\n",
       "\\item 10707.6572896023\n",
       "\\item 18069.2175350049\n",
       "\\item 0.586349025699389\n",
       "\\end{enumerate*}\n",
       "\n",
       "\\item \\textbf{\\$summary} = \\begin{enumerate*}\n",
       "\\item 0.5\n",
       "\\item 10807.0892714696\n",
       "\\item 18027.7165696893\n",
       "\\item 0.590393872748804\n",
       "\\end{enumerate*}\n",
       "\n",
       "\\item \\textbf{\\$summary} = \\begin{enumerate*}\n",
       "\\item 0.5\n",
       "\\item 10769.3304131783\n",
       "\\item 18173.6228471232\n",
       "\\item 0.588616160684076\n",
       "\\end{enumerate*}\n",
       "\n",
       "\\end{enumerate}\n"
      ],
      "text/markdown": [
       "1. **$summary** = 1. 0.5\n",
       "2. 10707.6572896023\n",
       "3. 18069.2175350049\n",
       "4. 0.586349025699389\n",
       "\n",
       "\n",
       "\n",
       "2. **$summary** = 1. 0.5\n",
       "2. 10807.0892714696\n",
       "3. 18027.7165696893\n",
       "4. 0.590393872748804\n",
       "\n",
       "\n",
       "\n",
       "3. **$summary** = 1. 0.5\n",
       "2. 10769.3304131783\n",
       "3. 18173.6228471232\n",
       "4. 0.588616160684076\n",
       "\n",
       "\n",
       "\n",
       "\n",
       "\n"
      ],
      "text/plain": [
       "[[1]]\n",
       "[[1]]$summary\n",
       "[1]     0.500000 10707.657290 18069.217535     0.586349\n",
       "\n",
       "\n",
       "[[2]]\n",
       "[[2]]$summary\n",
       "[1] 5.000000e-01 1.080709e+04 1.802772e+04 5.903939e-01\n",
       "\n",
       "\n",
       "[[3]]\n",
       "[[3]]$summary\n",
       "[1] 5.000000e-01 1.076933e+04 1.817362e+04 5.886162e-01\n",
       "\n"
      ]
     },
     "metadata": {},
     "output_type": "display_data"
    }
   ],
   "source": [
    "kFold(3, 123, train_subset)"
   ]
  },
  {
   "cell_type": "markdown",
   "id": "2eec37b4-1009-499a-a427-f522f035933b",
   "metadata": {},
   "source": [
    "### Training the models\n",
    "Here we train the models and save them for comparison with other methods on the holdout."
   ]
  },
  {
   "cell_type": "code",
   "execution_count": 118,
   "id": "da4590ec-759f-4f59-89c0-28a8c0209053",
   "metadata": {},
   "outputs": [],
   "source": [
    "model_full <- myTrain(train)\n",
    "model_subset<-myTrain(train_subset)\n",
    "saveRDS(model_full, \"05e-lmInteractions.rds\")\n",
    "saveRDS(model_subset, \"05e-subsetlmInteractions.rds\")"
   ]
  },
  {
   "cell_type": "code",
   "execution_count": 38,
   "id": "c38ec455-694b-4598-b34d-49a3eee1f566",
   "metadata": {},
   "outputs": [],
   "source": [
    "holdo<-readRDS(\"04b-wrangledHoldout.rds\")\n",
    "holdo_subset<- feature_selection(holdo)"
   ]
  },
  {
   "cell_type": "code",
   "execution_count": 39,
   "id": "2e528f67-ed4d-454f-98a4-31dc8a8dd8ab",
   "metadata": {},
   "outputs": [],
   "source": [
    "model_full <- myTrain(train)\n",
    "model_subset<-myTrain(train_subset)"
   ]
  },
  {
   "cell_type": "code",
   "execution_count": 40,
   "id": "699ef76a-a195-4ed3-8b37-a258537fe785",
   "metadata": {},
   "outputs": [],
   "source": [
    "myPredict= function(model, newdata){\n",
    "    log_price_predict = predict(model, newdata=newdata, interval=\"prediction\", level=0.5)\n",
    "    return(exp(log_price_predict))\n",
    "}"
   ]
  },
  {
   "cell_type": "code",
   "execution_count": 41,
   "id": "4d698fa1-60cc-49c9-86f1-8ec1c5264704",
   "metadata": {},
   "outputs": [],
   "source": [
    "myScore= function(predict, data){\n",
    "    intervalScore(predict, data$price, level = 0.5)\n",
    "    }"
   ]
  },
  {
   "cell_type": "code",
   "execution_count": 42,
   "id": "91aebc5b-a90f-495d-bb19-c6192d87baba",
   "metadata": {},
   "outputs": [
    {
     "name": "stderr",
     "output_type": "stream",
     "text": [
      "Warning message in predict.lm(model, newdata = newdata, interval = \"prediction\", :\n",
      "\"prediction from a rank-deficient fit may be misleading\"\n"
     ]
    }
   ],
   "source": [
    "prediction_full<- myPredict(model_full, holdo)\n",
    "predict_subset<- myPredict(model_subset, holdo_subset)"
   ]
  },
  {
   "cell_type": "code",
   "execution_count": 43,
   "id": "3fa58eee-9231-4a29-8831-afbd84e9cf40",
   "metadata": {},
   "outputs": [
    {
     "data": {
      "text/html": [
       "<strong>$summary</strong> = <style>\n",
       ".list-inline {list-style: none; margin:0; padding: 0}\n",
       ".list-inline>li {display: inline-block}\n",
       ".list-inline>li:not(:last-child)::after {content: \"\\00b7\"; padding: 0 .5ex}\n",
       "</style>\n",
       "<ol class=list-inline><li>0.5</li><li>9284.00106204679</li><li>15112.2206230766</li><li>0.623979822007136</li></ol>\n"
      ],
      "text/latex": [
       "\\textbf{\\$summary} = \\begin{enumerate*}\n",
       "\\item 0.5\n",
       "\\item 9284.00106204679\n",
       "\\item 15112.2206230766\n",
       "\\item 0.623979822007136\n",
       "\\end{enumerate*}\n"
      ],
      "text/markdown": [
       "**$summary** = 1. 0.5\n",
       "2. 9284.00106204679\n",
       "3. 15112.2206230766\n",
       "4. 0.623979822007136\n",
       "\n",
       "\n"
      ],
      "text/plain": [
       "$summary\n",
       "[1] 5.000000e-01 9.284001e+03 1.511222e+04 6.239798e-01\n"
      ]
     },
     "metadata": {},
     "output_type": "display_data"
    }
   ],
   "source": [
    "myScore(prediction_full, holdo)"
   ]
  },
  {
   "cell_type": "code",
   "execution_count": 44,
   "id": "ca84d047-dbbd-47d5-9054-480052fbc4d3",
   "metadata": {},
   "outputs": [
    {
     "data": {
      "text/html": [
       "<strong>$summary</strong> = <style>\n",
       ".list-inline {list-style: none; margin:0; padding: 0}\n",
       ".list-inline>li {display: inline-block}\n",
       ".list-inline>li:not(:last-child)::after {content: \"\\00b7\"; padding: 0 .5ex}\n",
       "</style>\n",
       "<ol class=list-inline><li>0.5</li><li>10529.1951699021</li><li>17483.822718932</li><li>0.600336299881065</li></ol>\n"
      ],
      "text/latex": [
       "\\textbf{\\$summary} = \\begin{enumerate*}\n",
       "\\item 0.5\n",
       "\\item 10529.1951699021\n",
       "\\item 17483.822718932\n",
       "\\item 0.600336299881065\n",
       "\\end{enumerate*}\n"
      ],
      "text/markdown": [
       "**$summary** = 1. 0.5\n",
       "2. 10529.1951699021\n",
       "3. 17483.822718932\n",
       "4. 0.600336299881065\n",
       "\n",
       "\n"
      ],
      "text/plain": [
       "$summary\n",
       "[1] 5.000000e-01 1.052920e+04 1.748382e+04 6.003363e-01\n"
      ]
     },
     "metadata": {},
     "output_type": "display_data"
    }
   ],
   "source": [
    "myScore(predict_subset, holdo_subset)"
   ]
  },
  {
   "cell_type": "code",
   "execution_count": null,
   "id": "4c5d0173-4d79-4ef3-8f54-da2a88f9b93d",
   "metadata": {},
   "outputs": [],
   "source": []
  }
 ],
 "metadata": {
  "kernelspec": {
   "display_name": "R",
   "language": "R",
   "name": "ir"
  },
  "language_info": {
   "codemirror_mode": "r",
   "file_extension": ".r",
   "mimetype": "text/x-r-source",
   "name": "R",
   "pygments_lexer": "r",
   "version": "4.1.3"
  }
 },
 "nbformat": 4,
 "nbformat_minor": 5
}
