{
 "cells": [
  {
   "cell_type": "markdown",
   "id": "ac77bfe6-9b0c-4b61-a262-f8cb1229c55c",
   "metadata": {},
   "source": [
    "# Exploratory Data Analysis "
   ]
  },
  {
   "cell_type": "code",
   "execution_count": 21,
   "id": "e360c924-5473-4b0a-a9f9-9cdbf5209682",
   "metadata": {},
   "outputs": [],
   "source": [
    "data<- read.csv(\"./02-vehicles-clean.csv\", header = TRUE)"
   ]
  },
  {
   "cell_type": "markdown",
   "id": "97ad963c-293d-4bbd-9a6e-a6176429d33c",
   "metadata": {},
   "source": [
    "The aim of this document is to explore data prior to vetting to suggest the next steps - wrangling, transformations, predictive methods;"
   ]
  },
  {
   "cell_type": "code",
   "execution_count": 22,
   "id": "3b5df20c-51b4-495f-b5c0-12e2b52ecf67",
   "metadata": {},
   "outputs": [],
   "source": [
    "warnings = FALSE\n",
    "message  = FALSE\n",
    "# loading essential libraries\n",
    "library(\"dplyr\")\n",
    "library(\"tidyverse\")"
   ]
  },
  {
   "cell_type": "code",
   "execution_count": 23,
   "id": "3aea2694-9544-4121-ae86-00de50061d03",
   "metadata": {},
   "outputs": [
    {
     "data": {
      "text/html": [
       "<style>\n",
       ".list-inline {list-style: none; margin:0; padding: 0}\n",
       ".list-inline>li {display: inline-block}\n",
       ".list-inline>li:not(:last-child)::after {content: \"\\00b7\"; padding: 0 .5ex}\n",
       "</style>\n",
       "<ol class=list-inline><li>264482</li><li>13</li></ol>\n"
      ],
      "text/latex": [
       "\\begin{enumerate*}\n",
       "\\item 264482\n",
       "\\item 13\n",
       "\\end{enumerate*}\n"
      ],
      "text/markdown": [
       "1. 264482\n",
       "2. 13\n",
       "\n",
       "\n"
      ],
      "text/plain": [
       "[1] 264482     13"
      ]
     },
     "metadata": {},
     "output_type": "display_data"
    }
   ],
   "source": [
    "# check the dimensions of the data frame\n",
    "dim(data)"
   ]
  },
  {
   "cell_type": "code",
   "execution_count": 24,
   "id": "f69a7c7f-e25b-4003-9edd-f3a79ae02682",
   "metadata": {},
   "outputs": [
    {
     "data": {
      "text/html": [
       "<style>\n",
       ".list-inline {list-style: none; margin:0; padding: 0}\n",
       ".list-inline>li {display: inline-block}\n",
       ".list-inline>li:not(:last-child)::after {content: \"\\00b7\"; padding: 0 .5ex}\n",
       "</style>\n",
       "<ol class=list-inline><li>'price'</li><li>'year'</li><li>'manufacturer'</li><li>'condition'</li><li>'cylinders'</li><li>'fuel'</li><li>'odometer'</li><li>'title_status'</li><li>'transmission'</li><li>'drive'</li><li>'type'</li><li>'paint_color'</li><li>'state'</li></ol>\n"
      ],
      "text/latex": [
       "\\begin{enumerate*}\n",
       "\\item 'price'\n",
       "\\item 'year'\n",
       "\\item 'manufacturer'\n",
       "\\item 'condition'\n",
       "\\item 'cylinders'\n",
       "\\item 'fuel'\n",
       "\\item 'odometer'\n",
       "\\item 'title\\_status'\n",
       "\\item 'transmission'\n",
       "\\item 'drive'\n",
       "\\item 'type'\n",
       "\\item 'paint\\_color'\n",
       "\\item 'state'\n",
       "\\end{enumerate*}\n"
      ],
      "text/markdown": [
       "1. 'price'\n",
       "2. 'year'\n",
       "3. 'manufacturer'\n",
       "4. 'condition'\n",
       "5. 'cylinders'\n",
       "6. 'fuel'\n",
       "7. 'odometer'\n",
       "8. 'title_status'\n",
       "9. 'transmission'\n",
       "10. 'drive'\n",
       "11. 'type'\n",
       "12. 'paint_color'\n",
       "13. 'state'\n",
       "\n",
       "\n"
      ],
      "text/plain": [
       " [1] \"price\"        \"year\"         \"manufacturer\" \"condition\"    \"cylinders\"   \n",
       " [6] \"fuel\"         \"odometer\"     \"title_status\" \"transmission\" \"drive\"       \n",
       "[11] \"type\"         \"paint_color\"  \"state\"       "
      ]
     },
     "metadata": {},
     "output_type": "display_data"
    }
   ],
   "source": [
    "colnames(data)"
   ]
  },
  {
   "cell_type": "markdown",
   "id": "542acc96-e5b1-4117-b5dd-96193695b87c",
   "metadata": {},
   "source": [
    "### Convert all character data to factors"
   ]
  },
  {
   "cell_type": "code",
   "execution_count": 25,
   "id": "a26a17df-57c8-419b-9457-8b923d9720a8",
   "metadata": {},
   "outputs": [],
   "source": [
    "data<- data%>%\n",
    "mutate_if(sapply(data, is.character), as.factor)"
   ]
  },
  {
   "cell_type": "markdown",
   "id": "b32131a4-4b78-4ec0-a2db-3c44a0b83ecd",
   "metadata": {},
   "source": [
    "### Summary Statistics"
   ]
  },
  {
   "cell_type": "code",
   "execution_count": 26,
   "id": "1a21f1ad-7ac5-4a03-907a-2dc1c7ed1932",
   "metadata": {},
   "outputs": [
    {
     "data": {
      "text/plain": [
       "     price             year         manufacturer        condition    \n",
       " Min.   :  1002   Min.   :1900   ford     : 43050            :92445  \n",
       " 1st Qu.:  6997   1st Qu.:2007   chevrolet: 33679   excellent:68065  \n",
       " Median : 14162   Median :2013   toyota   : 21824   fair     : 5485  \n",
       " Mean   : 18108   Mean   :2010   honda    : 14468   good     :81483  \n",
       " 3rd Qu.: 25988   3rd Qu.:2016   nissan   : 12161   like new :15784  \n",
       " Max.   :199999   Max.   :2022   jeep     : 11522   new      :  852  \n",
       "                                 (Other)  :127778   salvage  :  368  \n",
       "        cylinders           fuel           odometer          title_status   \n",
       "             :99849           :  1346   Min.   :     0             :  3394  \n",
       " 6 cylinders :61282   diesel  : 16817   1st Qu.: 42000   clean     :250282  \n",
       " 4 cylinders :53074   electric:  1073   Median : 92667   lien      :  1346  \n",
       " 8 cylinders :46688   gas     :225437   Mean   : 97124   missing   :   515  \n",
       " 5 cylinders : 1333   hybrid  :  3424   3rd Qu.:140000   parts only:    86  \n",
       " 10 cylinders:  900   other   : 16385   Max.   :499232   rebuilt   :  5738  \n",
       " (Other)     : 1356                                      salvage   :  3121  \n",
       "    transmission    drive            type        paint_color   \n",
       "          :  1058      :76691          :59914          :72047  \n",
       " automatic:210461   4wd:79487   sedan  :54910   white  :49238  \n",
       " manual   : 18353   fwd:68875   SUV    :48322   black  :39929  \n",
       " other    : 34610   rwd:39429   pickup :23631   silver :28049  \n",
       "                                truck  :20514   blue   :20613  \n",
       "                                coupe  :12282   red    :19691  \n",
       "                                (Other):44909   (Other):34915  \n",
       "     state       \n",
       " ca     : 27538  \n",
       " fl     : 16687  \n",
       " tx     : 14931  \n",
       " ny     : 12053  \n",
       " oh     : 10404  \n",
       " pa     :  8757  \n",
       " (Other):174112  "
      ]
     },
     "metadata": {},
     "output_type": "display_data"
    }
   ],
   "source": [
    "summary(data)"
   ]
  },
  {
   "cell_type": "markdown",
   "id": "f9d7fa67-0f30-49eb-bdb6-65fc2ba62172",
   "metadata": {},
   "source": [
    "### "
   ]
  }
 ],
 "metadata": {
  "kernelspec": {
   "display_name": "R",
   "language": "R",
   "name": "ir"
  },
  "language_info": {
   "codemirror_mode": "r",
   "file_extension": ".r",
   "mimetype": "text/x-r-source",
   "name": "R",
   "pygments_lexer": "r",
   "version": "4.1.3"
  }
 },
 "nbformat": 4,
 "nbformat_minor": 5
}
