{
 "cells": [
  {
   "cell_type": "code",
   "execution_count": 9,
   "id": "b6112b1a-25f5-4669-b2dd-d09cca4d3c79",
   "metadata": {
    "tags": []
   },
   "outputs": [
    {
     "ename": "ERROR",
     "evalue": "Error in parse(text = x, srcfile = src): <text>:1:5: unexpected symbol\n1: pip install\n        ^\n",
     "output_type": "error",
     "traceback": [
      "Error in parse(text = x, srcfile = src): <text>:1:5: unexpected symbol\n1: pip install\n        ^\nTraceback:\n"
     ]
    }
   ],
   "source": [
    "pip install os"
   ]
  },
  {
   "cell_type": "code",
   "execution_count": 4,
   "id": "ccbb67c9-1a65-4b61-8686-8190be30352f",
   "metadata": {
    "tags": []
   },
   "outputs": [
    {
     "ename": "ERROR",
     "evalue": "Error in parse(text = x, srcfile = src): <text>:2:8: unexpected symbol\n1: #set the wd to file location\n2: import os\n          ^\n",
     "output_type": "error",
     "traceback": [
      "Error in parse(text = x, srcfile = src): <text>:2:8: unexpected symbol\n1: #set the wd to file location\n2: import os\n          ^\nTraceback:\n"
     ]
    }
   ],
   "source": [
    "#set the wd to file location\n",
    "import os\n",
    "\n",
    "abspath = os.path.abspath('dataclean/ipynb')\n",
    "dname = os.path.dirname(abspath)\n",
    "os.chdir(dname)"
   ]
  },
  {
   "cell_type": "markdown",
   "id": "9fe1b230-2165-47eb-80e4-7f28fd93057b",
   "metadata": {},
   "source": [
    "# dataClean File\n",
    "The purpose of this file is to define a function which cleans the data by removing columns. It may be expanded to increase the scope. It requires the following files:\n",
    "<ul>\n",
    "    <li> 01-vehicles-download.csv </li>\n",
    "</ul>\n",
    "It will produce the following files\n",
    "<ul>\n",
    "    <li> 02-vehicles-cleaned.csv </li>\n",
    "</ul>\n",
    "    "
   ]
  },
  {
   "cell_type": "code",
   "execution_count": 3,
   "id": "b2c36ce1-17eb-4974-8a7c-6b6e70f562a7",
   "metadata": {},
   "outputs": [
    {
     "name": "stderr",
     "output_type": "stream",
     "text": [
      "── \u001b[1mAttaching packages\u001b[22m ─────────────────────────────────────── tidyverse 1.3.2 ──\n",
      "\u001b[32m✔\u001b[39m \u001b[34mggplot2\u001b[39m 3.3.6     \u001b[32m✔\u001b[39m \u001b[34mpurrr  \u001b[39m 0.3.5\n",
      "\u001b[32m✔\u001b[39m \u001b[34mtibble \u001b[39m 3.1.8     \u001b[32m✔\u001b[39m \u001b[34mdplyr  \u001b[39m 1.1.0\n",
      "\u001b[32m✔\u001b[39m \u001b[34mtidyr  \u001b[39m 1.2.1     \u001b[32m✔\u001b[39m \u001b[34mstringr\u001b[39m 1.4.1\n",
      "\u001b[32m✔\u001b[39m \u001b[34mreadr  \u001b[39m 2.1.3     \u001b[32m✔\u001b[39m \u001b[34mforcats\u001b[39m 0.5.2\n",
      "── \u001b[1mConflicts\u001b[22m ────────────────────────────────────────── tidyverse_conflicts() ──\n",
      "\u001b[31m✖\u001b[39m \u001b[34mdplyr\u001b[39m::\u001b[32mfilter()\u001b[39m masks \u001b[34mstats\u001b[39m::filter()\n",
      "\u001b[31m✖\u001b[39m \u001b[34mdplyr\u001b[39m::\u001b[32mlag()\u001b[39m    masks \u001b[34mstats\u001b[39m::lag()\n",
      "Warning message in file(file, \"rt\"):\n",
      "“cannot open file './01-vehicles-download.csv': No such file or directory”\n"
     ]
    },
    {
     "ename": "ERROR",
     "evalue": "Error in file(file, \"rt\"): cannot open the connection\n",
     "output_type": "error",
     "traceback": [
      "Error in file(file, \"rt\"): cannot open the connection\nTraceback:\n",
      "1. read.csv(\"./01-vehicles-download.csv\", header = TRUE)",
      "2. read.table(file = file, header = header, sep = sep, quote = quote, \n .     dec = dec, fill = fill, comment.char = comment.char, ...)",
      "3. file(file, \"rt\")"
     ]
    }
   ],
   "source": [
    "#Import Necessary libraries\n",
    "library('tidyverse')\n",
    "library('dplyr')\n",
    "#Read Data\n",
    "vehicles = read.csv('./01-vehicles-download.csv',header=TRUE)"
   ]
  },
  {
   "cell_type": "code",
   "execution_count": 1,
   "id": "3b795ae7-5d24-488c-bef7-744a3d25ad8a",
   "metadata": {},
   "outputs": [],
   "source": [
    "#List of coolumn names to remove\n"
   ]
  },
  {
   "cell_type": "markdown",
   "id": "f62eb116-2521-43b5-b842-0d3ab3d889e5",
   "metadata": {},
   "source": [
    "## cleanData Function\n",
    "The cleanData function takes the following inputs:\n",
    "<ul>\n",
    "    <li> df: the dataframe to be cleaned </li>\n",
    "    <li>  vars: a list of vars to drop </li>\n",
    "</ul>\n",
    "The cleanData function creates a new dataframe object which is a copy of the original data frame with the following changes:\n",
    "<ul>\n",
    "    <li> it does not contain the columns in the vars list </li>\n",
    "</ul>"
   ]
  },
  {
   "cell_type": "code",
   "execution_count": 1,
   "id": "ebb21994-087c-42bf-8c7c-a01421826ab5",
   "metadata": {},
   "outputs": [],
   "source": [
    "cleanData = function(df,vars){\n",
    "    cleanedVehicles <<- df[ , !(names(df) %in% vars)]\n",
    "    return(cleanedVehicles)\n",
    "    }"
   ]
  },
  {
   "cell_type": "markdown",
   "id": "27cc8ebe-9111-47d1-824c-f0236332932d",
   "metadata": {},
   "source": [
    "## Removing Columns"
   ]
  },
  {
   "cell_type": "code",
   "execution_count": 2,
   "id": "3341e61c-1cda-4690-9e29-45658bab15da",
   "metadata": {},
   "outputs": [
    {
     "ename": "ERROR",
     "evalue": "Error in cleanData(vehicles, filteredVars): object 'vehicles' not found\n",
     "output_type": "error",
     "traceback": [
      "Error in cleanData(vehicles, filteredVars): object 'vehicles' not found\nTraceback:\n",
      "1. cleanData(vehicles, filteredVars)"
     ]
    }
   ],
   "source": [
    "#applying the cleanData function to the vehicles dataset to filter for variables\n",
    "filteredVars = c('id','url','region','region_url','VIN','image_url','description','lat','long')\n",
    "\n",
    "cleanData(vehicles,filteredVars)"
   ]
  },
  {
   "cell_type": "code",
   "execution_count": 21,
   "id": "121158dc-3c54-473b-b214-539dd062460c",
   "metadata": {},
   "outputs": [],
   "source": [
    "#save the data\n",
    "write.csv(cleanedVehicles, '02-vehicles-clean.csv',row.names=FALSE)"
   ]
  },
  {
   "cell_type": "code",
   "execution_count": null,
   "id": "45aef787-e258-4cc6-a3b1-819d82617ff9",
   "metadata": {},
   "outputs": [],
   "source": []
  }
 ],
 "metadata": {
  "kernelspec": {
   "display_name": "R",
   "language": "R",
   "name": "ir"
  },
  "language_info": {
   "codemirror_mode": "r",
   "file_extension": ".r",
   "mimetype": "text/x-r-source",
   "name": "R",
   "pygments_lexer": "r",
   "version": "4.2.1"
  }
 },
 "nbformat": 4,
 "nbformat_minor": 5
}
