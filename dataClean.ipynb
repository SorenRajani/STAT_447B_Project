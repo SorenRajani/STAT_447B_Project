{
 "cells": [
  {
   "cell_type": "code",
   "execution_count": 7,
   "id": "ccbb67c9-1a65-4b61-8686-8190be30352f",
   "metadata": {
    "tags": []
   },
   "outputs": [],
   "source": [
    "#set the wd to file location\n",
    "setwd(getSrcDirectory(function(){})[1])\n"
   ]
  },
  {
   "cell_type": "markdown",
   "id": "9fe1b230-2165-47eb-80e4-7f28fd93057b",
   "metadata": {},
   "source": [
    "# dataClean File\n",
    "The purpose of this file is to define a function which cleans the data by removing columns. It may be expanded to increase the scope. It requires the following files:\n",
    "<ul>\n",
    "    <li> 01-vehicles-download.csv </li>\n",
    "</ul>\n",
    "It will produce the following files\n",
    "<ul>\n",
    "    <li> 02-vehicles-cleaned.csv </li>\n",
    "</ul>\n",
    "    "
   ]
  },
  {
   "cell_type": "code",
   "execution_count": 87,
   "id": "b2c36ce1-17eb-4974-8a7c-6b6e70f562a7",
   "metadata": {},
   "outputs": [],
   "source": [
    "#Import Necessary libraries\n",
    "library('tidyverse')\n",
    "library('dplyr')\n",
    "library('forcats')\n",
    "#Read Data\n",
    "vehicles = read.csv('./01-vehicles-download.csv',header=TRUE)"
   ]
  },
  {
   "cell_type": "markdown",
   "id": "f62eb116-2521-43b5-b842-0d3ab3d889e5",
   "metadata": {
    "tags": []
   },
   "source": [
    "## cleanData Function\n",
    "The cleanData function takes the following inputs:\n",
    "<ul>\n",
    "    <li> df: the dataframe to be cleaned </li>\n",
    "    <li>  vars: a list of vars to drop </li>\n",
    "</ul>\n",
    "The cleanData function creates a new dataframe object which is a copy of the original data frame with the following changes:\n",
    "<ul>\n",
    "    <li> it does not contain the columns in the vars list </li>\n",
    "    <li> prices are within (1000,1000000) </li>\n",
    "    <li> there are only clean titled cars </li>\n",
    "    <li> missing valued rows are dropped </li>\n",
    "\n",
    "</ul>"
   ]
  },
  {
   "cell_type": "code",
   "execution_count": 105,
   "id": "ebb21994-087c-42bf-8c7c-a01421826ab5",
   "metadata": {},
   "outputs": [],
   "source": [
    "cleanData = function(df,vars){\n",
    "    cleanedVehicles <<- df[ , !(names(df) %in% vars)]%>% #remove certain columns \n",
    "    filter(price>1000, price < 1000000)%>% #remove cars outside of (1000,1000000)\n",
    "    filter(title_status == \"clean\")%>% #remove unclean cars\n",
    "    filter(price != 1234,price != 12345, price != 123456) %>% #remoce cars with prices following a pattern\n",
    "    drop_na() #drop missing values\n",
    "  \n",
    "    \n",
    "    return(cleanedVehicles)\n",
    "    }"
   ]
  },
  {
   "cell_type": "markdown",
   "id": "27cc8ebe-9111-47d1-824c-f0236332932d",
   "metadata": {},
   "source": [
    "## Removing Columns"
   ]
  },
  {
   "cell_type": "code",
   "execution_count": 106,
   "id": "3341e61c-1cda-4690-9e29-45658bab15da",
   "metadata": {},
   "outputs": [],
   "source": [
    "#applying the cleanData function to the vehicles dataset to filter for variables\n",
    "filteredVars = c('id','url','region','region_url','VIN','image_url','description','lat','long','size','county','posting_date')\n",
    "\n",
    "cleanVehicles = cleanData(vehicles,filteredVars)"
   ]
  },
  {
   "cell_type": "code",
   "execution_count": 107,
   "id": "121158dc-3c54-473b-b214-539dd062460c",
   "metadata": {},
   "outputs": [
    {
     "data": {
      "text/html": [
       "<table class=\"dataframe\">\n",
       "<caption>A data.frame: 6 × 14</caption>\n",
       "<thead>\n",
       "\t<tr><th></th><th scope=col>price</th><th scope=col>year</th><th scope=col>manufacturer</th><th scope=col>model</th><th scope=col>condition</th><th scope=col>cylinders</th><th scope=col>fuel</th><th scope=col>odometer</th><th scope=col>title_status</th><th scope=col>transmission</th><th scope=col>drive</th><th scope=col>type</th><th scope=col>paint_color</th><th scope=col>state</th></tr>\n",
       "\t<tr><th></th><th scope=col>&lt;dbl&gt;</th><th scope=col>&lt;int&gt;</th><th scope=col>&lt;chr&gt;</th><th scope=col>&lt;chr&gt;</th><th scope=col>&lt;chr&gt;</th><th scope=col>&lt;chr&gt;</th><th scope=col>&lt;chr&gt;</th><th scope=col>&lt;int&gt;</th><th scope=col>&lt;chr&gt;</th><th scope=col>&lt;chr&gt;</th><th scope=col>&lt;chr&gt;</th><th scope=col>&lt;chr&gt;</th><th scope=col>&lt;chr&gt;</th><th scope=col>&lt;chr&gt;</th></tr>\n",
       "</thead>\n",
       "<tbody>\n",
       "\t<tr><th scope=row>1</th><td>33590</td><td>2014</td><td>gmc      </td><td>sierra 1500 crew cab slt   </td><td>good     </td><td>8 cylinders</td><td>gas</td><td> 57923</td><td>clean</td><td>other    </td><td>   </td><td>pickup</td><td>white</td><td>al</td></tr>\n",
       "\t<tr><th scope=row>2</th><td>22590</td><td>2010</td><td>chevrolet</td><td>silverado 1500             </td><td>good     </td><td>8 cylinders</td><td>gas</td><td> 71229</td><td>clean</td><td>other    </td><td>   </td><td>pickup</td><td>blue </td><td>al</td></tr>\n",
       "\t<tr><th scope=row>3</th><td>39590</td><td>2020</td><td>chevrolet</td><td>silverado 1500 crew        </td><td>good     </td><td>8 cylinders</td><td>gas</td><td> 19160</td><td>clean</td><td>other    </td><td>   </td><td>pickup</td><td>red  </td><td>al</td></tr>\n",
       "\t<tr><th scope=row>4</th><td>30990</td><td>2017</td><td>toyota   </td><td>tundra double cab sr       </td><td>good     </td><td>8 cylinders</td><td>gas</td><td> 41124</td><td>clean</td><td>other    </td><td>   </td><td>pickup</td><td>red  </td><td>al</td></tr>\n",
       "\t<tr><th scope=row>5</th><td>15000</td><td>2013</td><td>ford     </td><td>f-150 xlt                  </td><td>excellent</td><td>6 cylinders</td><td>gas</td><td>128000</td><td>clean</td><td>automatic</td><td>rwd</td><td>truck </td><td>black</td><td>al</td></tr>\n",
       "\t<tr><th scope=row>6</th><td>27990</td><td>2012</td><td>gmc      </td><td>sierra 2500 hd extended cab</td><td>good     </td><td>8 cylinders</td><td>gas</td><td> 68696</td><td>clean</td><td>other    </td><td>4wd</td><td>pickup</td><td>black</td><td>al</td></tr>\n",
       "</tbody>\n",
       "</table>\n"
      ],
      "text/latex": [
       "A data.frame: 6 × 14\n",
       "\\begin{tabular}{r|llllllllllllll}\n",
       "  & price & year & manufacturer & model & condition & cylinders & fuel & odometer & title\\_status & transmission & drive & type & paint\\_color & state\\\\\n",
       "  & <dbl> & <int> & <chr> & <chr> & <chr> & <chr> & <chr> & <int> & <chr> & <chr> & <chr> & <chr> & <chr> & <chr>\\\\\n",
       "\\hline\n",
       "\t1 & 33590 & 2014 & gmc       & sierra 1500 crew cab slt    & good      & 8 cylinders & gas &  57923 & clean & other     &     & pickup & white & al\\\\\n",
       "\t2 & 22590 & 2010 & chevrolet & silverado 1500              & good      & 8 cylinders & gas &  71229 & clean & other     &     & pickup & blue  & al\\\\\n",
       "\t3 & 39590 & 2020 & chevrolet & silverado 1500 crew         & good      & 8 cylinders & gas &  19160 & clean & other     &     & pickup & red   & al\\\\\n",
       "\t4 & 30990 & 2017 & toyota    & tundra double cab sr        & good      & 8 cylinders & gas &  41124 & clean & other     &     & pickup & red   & al\\\\\n",
       "\t5 & 15000 & 2013 & ford      & f-150 xlt                   & excellent & 6 cylinders & gas & 128000 & clean & automatic & rwd & truck  & black & al\\\\\n",
       "\t6 & 27990 & 2012 & gmc       & sierra 2500 hd extended cab & good      & 8 cylinders & gas &  68696 & clean & other     & 4wd & pickup & black & al\\\\\n",
       "\\end{tabular}\n"
      ],
      "text/markdown": [
       "\n",
       "A data.frame: 6 × 14\n",
       "\n",
       "| <!--/--> | price &lt;dbl&gt; | year &lt;int&gt; | manufacturer &lt;chr&gt; | model &lt;chr&gt; | condition &lt;chr&gt; | cylinders &lt;chr&gt; | fuel &lt;chr&gt; | odometer &lt;int&gt; | title_status &lt;chr&gt; | transmission &lt;chr&gt; | drive &lt;chr&gt; | type &lt;chr&gt; | paint_color &lt;chr&gt; | state &lt;chr&gt; |\n",
       "|---|---|---|---|---|---|---|---|---|---|---|---|---|---|---|\n",
       "| 1 | 33590 | 2014 | gmc       | sierra 1500 crew cab slt    | good      | 8 cylinders | gas |  57923 | clean | other     | <!----> | pickup | white | al |\n",
       "| 2 | 22590 | 2010 | chevrolet | silverado 1500              | good      | 8 cylinders | gas |  71229 | clean | other     | <!----> | pickup | blue  | al |\n",
       "| 3 | 39590 | 2020 | chevrolet | silverado 1500 crew         | good      | 8 cylinders | gas |  19160 | clean | other     | <!----> | pickup | red   | al |\n",
       "| 4 | 30990 | 2017 | toyota    | tundra double cab sr        | good      | 8 cylinders | gas |  41124 | clean | other     | <!----> | pickup | red   | al |\n",
       "| 5 | 15000 | 2013 | ford      | f-150 xlt                   | excellent | 6 cylinders | gas | 128000 | clean | automatic | rwd | truck  | black | al |\n",
       "| 6 | 27990 | 2012 | gmc       | sierra 2500 hd extended cab | good      | 8 cylinders | gas |  68696 | clean | other     | 4wd | pickup | black | al |\n",
       "\n"
      ],
      "text/plain": [
       "  price year manufacturer model                       condition cylinders  \n",
       "1 33590 2014 gmc          sierra 1500 crew cab slt    good      8 cylinders\n",
       "2 22590 2010 chevrolet    silverado 1500              good      8 cylinders\n",
       "3 39590 2020 chevrolet    silverado 1500 crew         good      8 cylinders\n",
       "4 30990 2017 toyota       tundra double cab sr        good      8 cylinders\n",
       "5 15000 2013 ford         f-150 xlt                   excellent 6 cylinders\n",
       "6 27990 2012 gmc          sierra 2500 hd extended cab good      8 cylinders\n",
       "  fuel odometer title_status transmission drive type   paint_color state\n",
       "1 gas   57923   clean        other              pickup white       al   \n",
       "2 gas   71229   clean        other              pickup blue        al   \n",
       "3 gas   19160   clean        other              pickup red         al   \n",
       "4 gas   41124   clean        other              pickup red         al   \n",
       "5 gas  128000   clean        automatic    rwd   truck  black       al   \n",
       "6 gas   68696   clean        other        4wd   pickup black       al   "
      ]
     },
     "metadata": {},
     "output_type": "display_data"
    }
   ],
   "source": [
    "#save the data\n",
    "write.csv(cleanedVehicles, '02-vehicles-clean.csv',row.names=FALSE)\n",
    "head(cleanVehicles)"
   ]
  },
  {
   "cell_type": "code",
   "execution_count": null,
   "id": "be4d56b4-06f1-46aa-9caf-2489e38d7db5",
   "metadata": {},
   "outputs": [],
   "source": []
  },
  {
   "cell_type": "code",
   "execution_count": null,
   "id": "bd3d249c-9f4f-4edf-95b9-6dc4f4474a09",
   "metadata": {},
   "outputs": [],
   "source": []
  },
  {
   "cell_type": "code",
   "execution_count": null,
   "id": "3eb7b440-7f28-4db2-94e7-b64ea8d104b7",
   "metadata": {},
   "outputs": [],
   "source": []
  }
 ],
 "metadata": {
  "kernelspec": {
   "display_name": "R",
   "language": "R",
   "name": "ir"
  },
  "language_info": {
   "codemirror_mode": "r",
   "file_extension": ".r",
   "mimetype": "text/x-r-source",
   "name": "R",
   "pygments_lexer": "r",
   "version": "4.2.1"
  }
 },
 "nbformat": 4,
 "nbformat_minor": 5
}
