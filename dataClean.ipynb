{
 "cells": [
  {
   "cell_type": "code",
   "execution_count": 2,
   "id": "9b76f229-fd3c-4ee7-9975-548208f61d97",
   "metadata": {},
   "outputs": [],
   "source": [
    "setwd('/Users/sorenrajani/Documents/school/stat_447/project') #Set WD"
   ]
  },
  {
   "cell_type": "markdown",
   "id": "9fe1b230-2165-47eb-80e4-7f28fd93057b",
   "metadata": {},
   "source": [
    "# dataClean File\n",
    "The purpose of this file is to define a function which cleans the data by removing columns. It may be expanded to increase the scope. It requires the following files:\n",
    "<ul>\n",
    "    <li> 01-vehicles-download.csv </li>\n",
    "</ul>\n",
    "It will produce the following files\n",
    "<ul>\n",
    "    <li> 02-vehicles-cleaned.csv </li>\n",
    "</ul>\n",
    "    "
   ]
  },
  {
   "cell_type": "code",
   "execution_count": 4,
   "id": "b2c36ce1-17eb-4974-8a7c-6b6e70f562a7",
   "metadata": {},
   "outputs": [],
   "source": [
    "#Import Necessary libraries\n",
    "library('tidyverse')\n",
    "library('dplyr')\n",
    "#Read Data\n",
    "vehicles = read.csv('./01-vehicles-download.csv',header=TRUE)"
   ]
  },
  {
   "cell_type": "code",
   "execution_count": 1,
   "id": "3b795ae7-5d24-488c-bef7-744a3d25ad8a",
   "metadata": {},
   "outputs": [],
   "source": [
    "#List of coolumn names to remove\n",
    "filteredVars = c('id','url','region','region_url','VIN','image_url','description','lat','long')"
   ]
  },
  {
   "cell_type": "markdown",
   "id": "f62eb116-2521-43b5-b842-0d3ab3d889e5",
   "metadata": {},
   "source": [
    "## cleanData Function\n",
    "The cleanData function takes the following inputs:\n",
    "<ul>\n",
    "    <li> df: the dataframe to be cleaned </li>\n",
    "    <li>  vars: a list of vars to drop </li>\n",
    "</ul>\n",
    "The cleanData function creates a new dataframe object which is a copy of the original data frame with the following changes:\n",
    "<ul>\n",
    "    <li> it does not contain the columns in the vars list </li>\n",
    "</ul>"
   ]
  },
  {
   "cell_type": "code",
   "execution_count": 18,
   "id": "ebb21994-087c-42bf-8c7c-a01421826ab5",
   "metadata": {},
   "outputs": [],
   "source": [
    "cleanData = function(df,vars){\n",
    "    cleanedVehicles <<- df[ , !(names(df) %in% vars)]\n",
    "    }"
   ]
  },
  {
   "cell_type": "code",
   "execution_count": 19,
   "id": "3341e61c-1cda-4690-9e29-45658bab15da",
   "metadata": {},
   "outputs": [],
   "source": [
    "#applying the cleanData function to the vehicles dataset\n",
    "cleanData(vehicles,filteredVars)"
   ]
  },
  {
   "cell_type": "code",
   "execution_count": 21,
   "id": "121158dc-3c54-473b-b214-539dd062460c",
   "metadata": {},
   "outputs": [],
   "source": [
    "#save the data\n",
    "write.csv(cleanedVehicles, '02-vehicles-clean.csv',row.names=FALSE)"
   ]
  },
  {
   "cell_type": "code",
   "execution_count": null,
   "id": "45aef787-e258-4cc6-a3b1-819d82617ff9",
   "metadata": {},
   "outputs": [],
   "source": []
  }
 ],
 "metadata": {
  "kernelspec": {
   "display_name": "R",
   "language": "R",
   "name": "ir"
  },
  "language_info": {
   "codemirror_mode": "r",
   "file_extension": ".r",
   "mimetype": "text/x-r-source",
   "name": "R",
   "pygments_lexer": "r",
   "version": "4.2.1"
  }
 },
 "nbformat": 4,
 "nbformat_minor": 5
}
